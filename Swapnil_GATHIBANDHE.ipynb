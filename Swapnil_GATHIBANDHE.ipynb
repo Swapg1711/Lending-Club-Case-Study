{
 "cells": [
  {
   "cell_type": "markdown",
   "metadata": {
    "id": "V0DH7tJW7QIn"
   },
   "source": [
    "## Importing libraries"
   ]
  },
  {
   "cell_type": "code",
   "execution_count": null,
   "metadata": {
    "id": "jCvtgmdYRgwp"
   },
   "outputs": [],
   "source": [
    "import numpy as np,pandas as pd,matplotlib.pyplot as plt,seaborn as sns"
   ]
  },
  {
   "cell_type": "markdown",
   "metadata": {
    "id": "cf8EWH1h7VTW"
   },
   "source": [
    "## Sourcing the data"
   ]
  },
  {
   "cell_type": "code",
   "execution_count": null,
   "metadata": {
    "colab": {
     "base_uri": "https://localhost:8080/"
    },
    "executionInfo": {
     "elapsed": 2048,
     "status": "ok",
     "timestamp": 1670427811889,
     "user": {
      "displayName": "aman maurya",
      "userId": "06203795675099361363"
     },
     "user_tz": -330
    },
    "id": "PPU2w6Lyk8H6",
    "outputId": "d1c3ac51-470b-41b9-c222-291d30367db1"
   },
   "outputs": [
    {
     "name": "stderr",
     "output_type": "stream",
     "text": [
      "/usr/local/lib/python3.8/dist-packages/IPython/core/interactiveshell.py:3326: DtypeWarning: Columns (47) have mixed types.Specify dtype option on import or set low_memory=False.\n",
      "  exec(code_obj, self.user_global_ns, self.user_ns)\n"
     ]
    }
   ],
   "source": [
    "data=pd.read_csv(\"loan.csv\")"
   ]
  },
  {
   "cell_type": "markdown",
   "metadata": {
    "id": "D7dTI_-R7ZLi"
   },
   "source": [
    "## Exploring the data"
   ]
  },
  {
   "cell_type": "code",
   "execution_count": null,
   "metadata": {
    "colab": {
     "base_uri": "https://localhost:8080/"
    },
    "executionInfo": {
     "elapsed": 9,
     "status": "ok",
     "timestamp": 1670427811891,
     "user": {
      "displayName": "aman maurya",
      "userId": "06203795675099361363"
     },
     "user_tz": -330
    },
    "id": "ZuFAJuvJlAGF",
    "outputId": "922ccf6b-9721-4356-8826-b834a6ad8310"
   },
   "outputs": [
    {
     "data": {
      "text/plain": [
       "(39717, 111)"
      ]
     },
     "execution_count": 255,
     "metadata": {},
     "output_type": "execute_result"
    }
   ],
   "source": [
    "data.shape"
   ]
  },
  {
   "cell_type": "code",
   "execution_count": null,
   "metadata": {
    "colab": {
     "base_uri": "https://localhost:8080/",
     "height": 386
    },
    "executionInfo": {
     "elapsed": 10,
     "status": "ok",
     "timestamp": 1670427811893,
     "user": {
      "displayName": "aman maurya",
      "userId": "06203795675099361363"
     },
     "user_tz": -330
    },
    "id": "7SyDv9LQBnez",
    "outputId": "93a9e05c-e849-4e73-fdd8-1d935d754fc1"
   },
   "outputs": [
    {
     "data": {
      "text/html": [
       "\n",
       "  <div id=\"df-dc51d6a9-54cd-4741-9fd5-0bf03c721da7\">\n",
       "    <div class=\"colab-df-container\">\n",
       "      <div>\n",
       "<style scoped>\n",
       "    .dataframe tbody tr th:only-of-type {\n",
       "        vertical-align: middle;\n",
       "    }\n",
       "\n",
       "    .dataframe tbody tr th {\n",
       "        vertical-align: top;\n",
       "    }\n",
       "\n",
       "    .dataframe thead th {\n",
       "        text-align: right;\n",
       "    }\n",
       "</style>\n",
       "<table border=\"1\" class=\"dataframe\">\n",
       "  <thead>\n",
       "    <tr style=\"text-align: right;\">\n",
       "      <th></th>\n",
       "      <th>id</th>\n",
       "      <th>member_id</th>\n",
       "      <th>loan_amnt</th>\n",
       "      <th>funded_amnt</th>\n",
       "      <th>funded_amnt_inv</th>\n",
       "      <th>term</th>\n",
       "      <th>int_rate</th>\n",
       "      <th>installment</th>\n",
       "      <th>grade</th>\n",
       "      <th>sub_grade</th>\n",
       "      <th>...</th>\n",
       "      <th>num_tl_90g_dpd_24m</th>\n",
       "      <th>num_tl_op_past_12m</th>\n",
       "      <th>pct_tl_nvr_dlq</th>\n",
       "      <th>percent_bc_gt_75</th>\n",
       "      <th>pub_rec_bankruptcies</th>\n",
       "      <th>tax_liens</th>\n",
       "      <th>tot_hi_cred_lim</th>\n",
       "      <th>total_bal_ex_mort</th>\n",
       "      <th>total_bc_limit</th>\n",
       "      <th>total_il_high_credit_limit</th>\n",
       "    </tr>\n",
       "  </thead>\n",
       "  <tbody>\n",
       "    <tr>\n",
       "      <th>0</th>\n",
       "      <td>1077501</td>\n",
       "      <td>1296599</td>\n",
       "      <td>5000</td>\n",
       "      <td>5000</td>\n",
       "      <td>4975.0</td>\n",
       "      <td>36 months</td>\n",
       "      <td>10.65%</td>\n",
       "      <td>162.87</td>\n",
       "      <td>B</td>\n",
       "      <td>B2</td>\n",
       "      <td>...</td>\n",
       "      <td>NaN</td>\n",
       "      <td>NaN</td>\n",
       "      <td>NaN</td>\n",
       "      <td>NaN</td>\n",
       "      <td>0.0</td>\n",
       "      <td>0.0</td>\n",
       "      <td>NaN</td>\n",
       "      <td>NaN</td>\n",
       "      <td>NaN</td>\n",
       "      <td>NaN</td>\n",
       "    </tr>\n",
       "    <tr>\n",
       "      <th>1</th>\n",
       "      <td>1077430</td>\n",
       "      <td>1314167</td>\n",
       "      <td>2500</td>\n",
       "      <td>2500</td>\n",
       "      <td>2500.0</td>\n",
       "      <td>60 months</td>\n",
       "      <td>15.27%</td>\n",
       "      <td>59.83</td>\n",
       "      <td>C</td>\n",
       "      <td>C4</td>\n",
       "      <td>...</td>\n",
       "      <td>NaN</td>\n",
       "      <td>NaN</td>\n",
       "      <td>NaN</td>\n",
       "      <td>NaN</td>\n",
       "      <td>0.0</td>\n",
       "      <td>0.0</td>\n",
       "      <td>NaN</td>\n",
       "      <td>NaN</td>\n",
       "      <td>NaN</td>\n",
       "      <td>NaN</td>\n",
       "    </tr>\n",
       "    <tr>\n",
       "      <th>2</th>\n",
       "      <td>1077175</td>\n",
       "      <td>1313524</td>\n",
       "      <td>2400</td>\n",
       "      <td>2400</td>\n",
       "      <td>2400.0</td>\n",
       "      <td>36 months</td>\n",
       "      <td>15.96%</td>\n",
       "      <td>84.33</td>\n",
       "      <td>C</td>\n",
       "      <td>C5</td>\n",
       "      <td>...</td>\n",
       "      <td>NaN</td>\n",
       "      <td>NaN</td>\n",
       "      <td>NaN</td>\n",
       "      <td>NaN</td>\n",
       "      <td>0.0</td>\n",
       "      <td>0.0</td>\n",
       "      <td>NaN</td>\n",
       "      <td>NaN</td>\n",
       "      <td>NaN</td>\n",
       "      <td>NaN</td>\n",
       "    </tr>\n",
       "    <tr>\n",
       "      <th>3</th>\n",
       "      <td>1076863</td>\n",
       "      <td>1277178</td>\n",
       "      <td>10000</td>\n",
       "      <td>10000</td>\n",
       "      <td>10000.0</td>\n",
       "      <td>36 months</td>\n",
       "      <td>13.49%</td>\n",
       "      <td>339.31</td>\n",
       "      <td>C</td>\n",
       "      <td>C1</td>\n",
       "      <td>...</td>\n",
       "      <td>NaN</td>\n",
       "      <td>NaN</td>\n",
       "      <td>NaN</td>\n",
       "      <td>NaN</td>\n",
       "      <td>0.0</td>\n",
       "      <td>0.0</td>\n",
       "      <td>NaN</td>\n",
       "      <td>NaN</td>\n",
       "      <td>NaN</td>\n",
       "      <td>NaN</td>\n",
       "    </tr>\n",
       "    <tr>\n",
       "      <th>4</th>\n",
       "      <td>1075358</td>\n",
       "      <td>1311748</td>\n",
       "      <td>3000</td>\n",
       "      <td>3000</td>\n",
       "      <td>3000.0</td>\n",
       "      <td>60 months</td>\n",
       "      <td>12.69%</td>\n",
       "      <td>67.79</td>\n",
       "      <td>B</td>\n",
       "      <td>B5</td>\n",
       "      <td>...</td>\n",
       "      <td>NaN</td>\n",
       "      <td>NaN</td>\n",
       "      <td>NaN</td>\n",
       "      <td>NaN</td>\n",
       "      <td>0.0</td>\n",
       "      <td>0.0</td>\n",
       "      <td>NaN</td>\n",
       "      <td>NaN</td>\n",
       "      <td>NaN</td>\n",
       "      <td>NaN</td>\n",
       "    </tr>\n",
       "  </tbody>\n",
       "</table>\n",
       "<p>5 rows × 111 columns</p>\n",
       "</div>\n",
       "      <button class=\"colab-df-convert\" onclick=\"convertToInteractive('df-dc51d6a9-54cd-4741-9fd5-0bf03c721da7')\"\n",
       "              title=\"Convert this dataframe to an interactive table.\"\n",
       "              style=\"display:none;\">\n",
       "        \n",
       "  <svg xmlns=\"http://www.w3.org/2000/svg\" height=\"24px\"viewBox=\"0 0 24 24\"\n",
       "       width=\"24px\">\n",
       "    <path d=\"M0 0h24v24H0V0z\" fill=\"none\"/>\n",
       "    <path d=\"M18.56 5.44l.94 2.06.94-2.06 2.06-.94-2.06-.94-.94-2.06-.94 2.06-2.06.94zm-11 1L8.5 8.5l.94-2.06 2.06-.94-2.06-.94L8.5 2.5l-.94 2.06-2.06.94zm10 10l.94 2.06.94-2.06 2.06-.94-2.06-.94-.94-2.06-.94 2.06-2.06.94z\"/><path d=\"M17.41 7.96l-1.37-1.37c-.4-.4-.92-.59-1.43-.59-.52 0-1.04.2-1.43.59L10.3 9.45l-7.72 7.72c-.78.78-.78 2.05 0 2.83L4 21.41c.39.39.9.59 1.41.59.51 0 1.02-.2 1.41-.59l7.78-7.78 2.81-2.81c.8-.78.8-2.07 0-2.86zM5.41 20L4 18.59l7.72-7.72 1.47 1.35L5.41 20z\"/>\n",
       "  </svg>\n",
       "      </button>\n",
       "      \n",
       "  <style>\n",
       "    .colab-df-container {\n",
       "      display:flex;\n",
       "      flex-wrap:wrap;\n",
       "      gap: 12px;\n",
       "    }\n",
       "\n",
       "    .colab-df-convert {\n",
       "      background-color: #E8F0FE;\n",
       "      border: none;\n",
       "      border-radius: 50%;\n",
       "      cursor: pointer;\n",
       "      display: none;\n",
       "      fill: #1967D2;\n",
       "      height: 32px;\n",
       "      padding: 0 0 0 0;\n",
       "      width: 32px;\n",
       "    }\n",
       "\n",
       "    .colab-df-convert:hover {\n",
       "      background-color: #E2EBFA;\n",
       "      box-shadow: 0px 1px 2px rgba(60, 64, 67, 0.3), 0px 1px 3px 1px rgba(60, 64, 67, 0.15);\n",
       "      fill: #174EA6;\n",
       "    }\n",
       "\n",
       "    [theme=dark] .colab-df-convert {\n",
       "      background-color: #3B4455;\n",
       "      fill: #D2E3FC;\n",
       "    }\n",
       "\n",
       "    [theme=dark] .colab-df-convert:hover {\n",
       "      background-color: #434B5C;\n",
       "      box-shadow: 0px 1px 3px 1px rgba(0, 0, 0, 0.15);\n",
       "      filter: drop-shadow(0px 1px 2px rgba(0, 0, 0, 0.3));\n",
       "      fill: #FFFFFF;\n",
       "    }\n",
       "  </style>\n",
       "\n",
       "      <script>\n",
       "        const buttonEl =\n",
       "          document.querySelector('#df-dc51d6a9-54cd-4741-9fd5-0bf03c721da7 button.colab-df-convert');\n",
       "        buttonEl.style.display =\n",
       "          google.colab.kernel.accessAllowed ? 'block' : 'none';\n",
       "\n",
       "        async function convertToInteractive(key) {\n",
       "          const element = document.querySelector('#df-dc51d6a9-54cd-4741-9fd5-0bf03c721da7');\n",
       "          const dataTable =\n",
       "            await google.colab.kernel.invokeFunction('convertToInteractive',\n",
       "                                                     [key], {});\n",
       "          if (!dataTable) return;\n",
       "\n",
       "          const docLinkHtml = 'Like what you see? Visit the ' +\n",
       "            '<a target=\"_blank\" href=https://colab.research.google.com/notebooks/data_table.ipynb>data table notebook</a>'\n",
       "            + ' to learn more about interactive tables.';\n",
       "          element.innerHTML = '';\n",
       "          dataTable['output_type'] = 'display_data';\n",
       "          await google.colab.output.renderOutput(dataTable, element);\n",
       "          const docLink = document.createElement('div');\n",
       "          docLink.innerHTML = docLinkHtml;\n",
       "          element.appendChild(docLink);\n",
       "        }\n",
       "      </script>\n",
       "    </div>\n",
       "  </div>\n",
       "  "
      ],
      "text/plain": [
       "        id  member_id  loan_amnt  funded_amnt  funded_amnt_inv        term  \\\n",
       "0  1077501    1296599       5000         5000           4975.0   36 months   \n",
       "1  1077430    1314167       2500         2500           2500.0   60 months   \n",
       "2  1077175    1313524       2400         2400           2400.0   36 months   \n",
       "3  1076863    1277178      10000        10000          10000.0   36 months   \n",
       "4  1075358    1311748       3000         3000           3000.0   60 months   \n",
       "\n",
       "  int_rate  installment grade sub_grade  ... num_tl_90g_dpd_24m  \\\n",
       "0   10.65%       162.87     B        B2  ...                NaN   \n",
       "1   15.27%        59.83     C        C4  ...                NaN   \n",
       "2   15.96%        84.33     C        C5  ...                NaN   \n",
       "3   13.49%       339.31     C        C1  ...                NaN   \n",
       "4   12.69%        67.79     B        B5  ...                NaN   \n",
       "\n",
       "  num_tl_op_past_12m pct_tl_nvr_dlq  percent_bc_gt_75 pub_rec_bankruptcies  \\\n",
       "0                NaN            NaN               NaN                  0.0   \n",
       "1                NaN            NaN               NaN                  0.0   \n",
       "2                NaN            NaN               NaN                  0.0   \n",
       "3                NaN            NaN               NaN                  0.0   \n",
       "4                NaN            NaN               NaN                  0.0   \n",
       "\n",
       "  tax_liens tot_hi_cred_lim total_bal_ex_mort total_bc_limit  \\\n",
       "0       0.0             NaN               NaN            NaN   \n",
       "1       0.0             NaN               NaN            NaN   \n",
       "2       0.0             NaN               NaN            NaN   \n",
       "3       0.0             NaN               NaN            NaN   \n",
       "4       0.0             NaN               NaN            NaN   \n",
       "\n",
       "  total_il_high_credit_limit  \n",
       "0                        NaN  \n",
       "1                        NaN  \n",
       "2                        NaN  \n",
       "3                        NaN  \n",
       "4                        NaN  \n",
       "\n",
       "[5 rows x 111 columns]"
      ]
     },
     "execution_count": 256,
     "metadata": {},
     "output_type": "execute_result"
    }
   ],
   "source": [
    "data.head()"
   ]
  },
  {
   "cell_type": "markdown",
   "metadata": {
    "id": "KTXEkGef7gfD"
   },
   "source": [
    "## Data Cleaning"
   ]
  },
  {
   "cell_type": "markdown",
   "metadata": {
    "id": "-dDVxiKG8IPV"
   },
   "source": [
    "### Null Value Treatment"
   ]
  },
  {
   "cell_type": "code",
   "execution_count": null,
   "metadata": {
    "colab": {
     "base_uri": "https://localhost:8080/",
     "height": 432
    },
    "executionInfo": {
     "elapsed": 6958,
     "status": "ok",
     "timestamp": 1670427818842,
     "user": {
      "displayName": "aman maurya",
      "userId": "06203795675099361363"
     },
     "user_tz": -330
    },
    "id": "NIaZyyixFG5U",
    "outputId": "d751e3ab-5744-4ded-e0e6-41688888f2cd"
   },
   "outputs": [
    {
     "data": {
      "text/plain": [
       "<matplotlib.axes._subplots.AxesSubplot at 0x7f4fdcc7c580>"
      ]
     },
     "execution_count": 257,
     "metadata": {},
     "output_type": "execute_result"
    },
    {
     "data": {
      "image/png": "[encoded data removed]",
      "text/plain": [
       "<Figure size 432x288 with 1 Axes>"
      ]
     },
     "metadata": {
      "needs_background": "light"
     },
     "output_type": "display_data"
    }
   ],
   "source": [
    "#plotting a heatmap on the original data to find the missing values\n",
    "sns.heatmap(data.isnull(),yticklabels = False, cbar = False, cmap = 'viridis')\n",
    "\n",
    "#Observation\n",
    "#Many columns are present with all null values"
   ]
  },
  {
   "cell_type": "code",
   "execution_count": null,
   "metadata": {
    "id": "kAhogiazGIj8"
   },
   "outputs": [],
   "source": [
    "#dropping null values columns\n",
    "data=data.dropna(axis=1,how='all')"
   ]
  },
  {
   "cell_type": "code",
   "execution_count": null,
   "metadata": {
    "colab": {
     "base_uri": "https://localhost:8080/",
     "height": 391
    },
    "executionInfo": {
     "elapsed": 4185,
     "status": "ok",
     "timestamp": 1670427823018,
     "user": {
      "displayName": "aman maurya",
      "userId": "06203795675099361363"
     },
     "user_tz": -330
    },
    "id": "t_goNNNlGLSj",
    "outputId": "a2354e3a-e1b1-4bde-d76f-054393689d57"
   },
   "outputs": [
    {
     "data": {
      "text/plain": [
       "<matplotlib.axes._subplots.AxesSubplot at 0x7f4fd8ded940>"
      ]
     },
     "execution_count": 259,
     "metadata": {},
     "output_type": "execute_result"
    },
    {
     "data": {
      "image/png": "[encoded data removed]",
      "text/plain": [
       "<Figure size 432x288 with 1 Axes>"
      ]
     },
     "metadata": {
      "needs_background": "light"
     },
     "output_type": "display_data"
    }
   ],
   "source": [
    "#checking how the data look like after dropping the null columns\n",
    "sns.heatmap(data.isnull(),yticklabels = False, cbar = False, cmap = 'viridis')"
   ]
  },
  {
   "cell_type": "code",
   "execution_count": null,
   "metadata": {
    "colab": {
     "base_uri": "https://localhost:8080/"
    },
    "executionInfo": {
     "elapsed": 94,
     "status": "ok",
     "timestamp": 1670427823019,
     "user": {
      "displayName": "aman maurya",
      "userId": "06203795675099361363"
     },
     "user_tz": -330
    },
    "id": "T8HnTtw0GRTh",
    "outputId": "6d57e9d6-48bb-4947-cf67-a2f1438a21bc"
   },
   "outputs": [
    {
     "data": {
      "text/plain": [
       "Index(['id', 'member_id', 'loan_amnt', 'funded_amnt', 'funded_amnt_inv',\n",
       "       'term', 'int_rate', 'installment', 'grade', 'sub_grade', 'emp_title',\n",
       "       'emp_length', 'home_ownership', 'annual_inc', 'verification_status',\n",
       "       'issue_d', 'loan_status', 'pymnt_plan', 'url', 'desc', 'purpose',\n",
       "       'title', 'zip_code', 'addr_state', 'dti', 'delinq_2yrs',\n",
       "       'earliest_cr_line', 'inq_last_6mths', 'mths_since_last_delinq',\n",
       "       'mths_since_last_record', 'open_acc', 'pub_rec', 'revol_bal',\n",
       "       'revol_util', 'total_acc', 'initial_list_status', 'out_prncp',\n",
       "       'out_prncp_inv', 'total_pymnt', 'total_pymnt_inv', 'total_rec_prncp',\n",
       "       'total_rec_int', 'total_rec_late_fee', 'recoveries',\n",
       "       'collection_recovery_fee', 'last_pymnt_d', 'last_pymnt_amnt',\n",
       "       'next_pymnt_d', 'last_credit_pull_d', 'collections_12_mths_ex_med',\n",
       "       'policy_code', 'application_type', 'acc_now_delinq',\n",
       "       'chargeoff_within_12_mths', 'delinq_amnt', 'pub_rec_bankruptcies',\n",
       "       'tax_liens'],\n",
       "      dtype='object')"
      ]
     },
     "execution_count": 260,
     "metadata": {},
     "output_type": "execute_result"
    }
   ],
   "source": [
    "data.columns"
   ]
  },
  {
   "cell_type": "code",
   "execution_count": null,
   "metadata": {
    "colab": {
     "base_uri": "https://localhost:8080/"
    },
    "executionInfo": {
     "elapsed": 94,
     "status": "ok",
     "timestamp": 1670427823020,
     "user": {
      "displayName": "aman maurya",
      "userId": "06203795675099361363"
     },
     "user_tz": -330
    },
    "id": "20ifIvNwGV2T",
    "outputId": "bf01b6f9-edd6-457f-a53c-a644a01c540a"
   },
   "outputs": [
    {
     "data": {
      "text/plain": [
       "(39717, 57)"
      ]
     },
     "execution_count": 261,
     "metadata": {},
     "output_type": "execute_result"
    }
   ],
   "source": [
    "data.shape"
   ]
  },
  {
   "cell_type": "code",
   "execution_count": null,
   "metadata": {
    "colab": {
     "base_uri": "https://localhost:8080/"
    },
    "executionInfo": {
     "elapsed": 89,
     "status": "ok",
     "timestamp": 1670427823020,
     "user": {
      "displayName": "aman maurya",
      "userId": "06203795675099361363"
     },
     "user_tz": -330
    },
    "id": "fYH651T7Glko",
    "outputId": "741808d1-a342-4a63-e120-655bf2a909b7"
   },
   "outputs": [
    {
     "data": {
      "text/plain": [
       "id                             0.000000\n",
       "member_id                      0.000000\n",
       "loan_amnt                      0.000000\n",
       "funded_amnt                    0.000000\n",
       "funded_amnt_inv                0.000000\n",
       "term                           0.000000\n",
       "int_rate                       0.000000\n",
       "installment                    0.000000\n",
       "grade                          0.000000\n",
       "sub_grade                      0.000000\n",
       "emp_title                      6.191303\n",
       "emp_length                     2.706650\n",
       "home_ownership                 0.000000\n",
       "annual_inc                     0.000000\n",
       "verification_status            0.000000\n",
       "issue_d                        0.000000\n",
       "loan_status                    0.000000\n",
       "pymnt_plan                     0.000000\n",
       "url                            0.000000\n",
       "desc                          32.580507\n",
       "purpose                        0.000000\n",
       "title                          0.027696\n",
       "zip_code                       0.000000\n",
       "addr_state                     0.000000\n",
       "dti                            0.000000\n",
       "delinq_2yrs                    0.000000\n",
       "earliest_cr_line               0.000000\n",
       "inq_last_6mths                 0.000000\n",
       "mths_since_last_delinq        64.662487\n",
       "mths_since_last_record        92.985372\n",
       "open_acc                       0.000000\n",
       "pub_rec                        0.000000\n",
       "revol_bal                      0.000000\n",
       "revol_util                     0.125891\n",
       "total_acc                      0.000000\n",
       "initial_list_status            0.000000\n",
       "out_prncp                      0.000000\n",
       "out_prncp_inv                  0.000000\n",
       "total_pymnt                    0.000000\n",
       "total_pymnt_inv                0.000000\n",
       "total_rec_prncp                0.000000\n",
       "total_rec_int                  0.000000\n",
       "total_rec_late_fee             0.000000\n",
       "recoveries                     0.000000\n",
       "collection_recovery_fee        0.000000\n",
       "last_pymnt_d                   0.178765\n",
       "last_pymnt_amnt                0.000000\n",
       "next_pymnt_d                  97.129693\n",
       "last_credit_pull_d             0.005036\n",
       "collections_12_mths_ex_med     0.140998\n",
       "policy_code                    0.000000\n",
       "application_type               0.000000\n",
       "acc_now_delinq                 0.000000\n",
       "chargeoff_within_12_mths       0.140998\n",
       "delinq_amnt                    0.000000\n",
       "pub_rec_bankruptcies           1.754916\n",
       "tax_liens                      0.098195\n",
       "dtype: float64"
      ]
     },
     "execution_count": 262,
     "metadata": {},
     "output_type": "execute_result"
    }
   ],
   "source": [
    "#calculating the % of null values in the rest of the columns \n",
    "(data.isnull().sum()/data.shape[0])*100"
   ]
  },
  {
   "cell_type": "markdown",
   "metadata": {
    "id": "mOxnawQHH8ze"
   },
   "source": [
    "Setting maximum threshold for missing values to be 30. \n",
    "\n",
    "Deleting all columns with missing values more than 30%\n"
   ]
  },
  {
   "cell_type": "code",
   "execution_count": null,
   "metadata": {
    "id": "yfP0wvtWHCoo"
   },
   "outputs": [],
   "source": [
    "#Deleting columns with more than 30% null values\n",
    "data = data.drop(['next_pymnt_d','mths_since_last_record','mths_since_last_delinq'],axis=1)"
   ]
  },
  {
   "cell_type": "code",
   "execution_count": null,
   "metadata": {
    "colab": {
     "base_uri": "https://localhost:8080/"
    },
    "executionInfo": {
     "elapsed": 86,
     "status": "ok",
     "timestamp": 1670427823021,
     "user": {
      "displayName": "aman maurya",
      "userId": "06203795675099361363"
     },
     "user_tz": -330
    },
    "id": "E3PQojVAIW4g",
    "outputId": "e4910cc2-366e-41f7-f89f-f9f393a37138"
   },
   "outputs": [
    {
     "data": {
      "text/plain": [
       "id                             0.000000\n",
       "member_id                      0.000000\n",
       "loan_amnt                      0.000000\n",
       "funded_amnt                    0.000000\n",
       "funded_amnt_inv                0.000000\n",
       "term                           0.000000\n",
       "int_rate                       0.000000\n",
       "installment                    0.000000\n",
       "grade                          0.000000\n",
       "sub_grade                      0.000000\n",
       "emp_title                      6.191303\n",
       "emp_length                     2.706650\n",
       "home_ownership                 0.000000\n",
       "annual_inc                     0.000000\n",
       "verification_status            0.000000\n",
       "issue_d                        0.000000\n",
       "loan_status                    0.000000\n",
       "pymnt_plan                     0.000000\n",
       "url                            0.000000\n",
       "desc                          32.580507\n",
       "purpose                        0.000000\n",
       "title                          0.027696\n",
       "zip_code                       0.000000\n",
       "addr_state                     0.000000\n",
       "dti                            0.000000\n",
       "delinq_2yrs                    0.000000\n",
       "earliest_cr_line               0.000000\n",
       "inq_last_6mths                 0.000000\n",
       "open_acc                       0.000000\n",
       "pub_rec                        0.000000\n",
       "revol_bal                      0.000000\n",
       "revol_util                     0.125891\n",
       "total_acc                      0.000000\n",
       "initial_list_status            0.000000\n",
       "out_prncp                      0.000000\n",
       "out_prncp_inv                  0.000000\n",
       "total_pymnt                    0.000000\n",
       "total_pymnt_inv                0.000000\n",
       "total_rec_prncp                0.000000\n",
       "total_rec_int                  0.000000\n",
       "total_rec_late_fee             0.000000\n",
       "recoveries                     0.000000\n",
       "collection_recovery_fee        0.000000\n",
       "last_pymnt_d                   0.178765\n",
       "last_pymnt_amnt                0.000000\n",
       "last_credit_pull_d             0.005036\n",
       "collections_12_mths_ex_med     0.140998\n",
       "policy_code                    0.000000\n",
       "application_type               0.000000\n",
       "acc_now_delinq                 0.000000\n",
       "chargeoff_within_12_mths       0.140998\n",
       "delinq_amnt                    0.000000\n",
       "pub_rec_bankruptcies           1.754916\n",
       "tax_liens                      0.098195\n",
       "dtype: float64"
      ]
     },
     "execution_count": 264,
     "metadata": {},
     "output_type": "execute_result"
    }
   ],
   "source": [
    "(data.isnull().sum()/data.shape[0])*100"
   ]
  },
  {
   "cell_type": "code",
   "execution_count": null,
   "metadata": {
    "id": "Cxzk9T1AIqPt"
   },
   "outputs": [],
   "source": [
    "#data driven derived metric from description as description length which can be used later in the analysis\n",
    "#firstly cleaning the desc column for null values\n",
    "data.desc = data.desc.fillna('')\n",
    "#deriving the column\n",
    "data['desc_length'] = [len(i) for i in data.desc]\n",
    "# now we can drop the desc column"
   ]
  },
  {
   "cell_type": "markdown",
   "metadata": {
    "id": "35wQs5K4IeFD"
   },
   "source": [
    "### Deleting Unrelevant Columns"
   ]
  },
  {
   "cell_type": "code",
   "execution_count": null,
   "metadata": {
    "colab": {
     "base_uri": "https://localhost:8080/"
    },
    "executionInfo": {
     "elapsed": 81,
     "status": "ok",
     "timestamp": 1670427823022,
     "user": {
      "displayName": "aman maurya",
      "userId": "06203795675099361363"
     },
     "user_tz": -330
    },
    "id": "KgshrCTCJZ4S",
    "outputId": "cd7384a6-02eb-407d-afc6-900d0b98e04c"
   },
   "outputs": [
    {
     "data": {
      "text/plain": [
       "Index(['id', 'member_id', 'loan_amnt', 'funded_amnt', 'funded_amnt_inv',\n",
       "       'term', 'int_rate', 'installment', 'grade', 'sub_grade', 'emp_title',\n",
       "       'emp_length', 'home_ownership', 'annual_inc', 'verification_status',\n",
       "       'issue_d', 'loan_status', 'pymnt_plan', 'url', 'desc', 'purpose',\n",
       "       'title', 'zip_code', 'addr_state', 'dti', 'delinq_2yrs',\n",
       "       'earliest_cr_line', 'inq_last_6mths', 'open_acc', 'pub_rec',\n",
       "       'revol_bal', 'revol_util', 'total_acc', 'initial_list_status',\n",
       "       'out_prncp', 'out_prncp_inv', 'total_pymnt', 'total_pymnt_inv',\n",
       "       'total_rec_prncp', 'total_rec_int', 'total_rec_late_fee', 'recoveries',\n",
       "       'collection_recovery_fee', 'last_pymnt_d', 'last_pymnt_amnt',\n",
       "       'last_credit_pull_d', 'collections_12_mths_ex_med', 'policy_code',\n",
       "       'application_type', 'acc_now_delinq', 'chargeoff_within_12_mths',\n",
       "       'delinq_amnt', 'pub_rec_bankruptcies', 'tax_liens', 'desc_length'],\n",
       "      dtype='object')"
      ]
     },
     "execution_count": 266,
     "metadata": {},
     "output_type": "execute_result"
    }
   ],
   "source": [
    "data.columns"
   ]
  },
  {
   "cell_type": "code",
   "execution_count": null,
   "metadata": {
    "id": "ET98O5XXIaeh"
   },
   "outputs": [],
   "source": [
    "#dropping unrelevant columns for analysis\n",
    "data = data.drop(['desc','url','collection_recovery_fee','delinq_2yrs','earliest_cr_line','id','inq_last_6mths','last_credit_pull_d','member_id','pub_rec','pymnt_plan','recoveries','total_acc','revol_bal','revol_util','initial_list_status','out_prncp','out_prncp_inv','total_pymnt','total_pymnt_inv','total_rec_prncp','total_rec_int','total_rec_late_fee','last_pymnt_d','last_pymnt_amnt','collections_12_mths_ex_med','policy_code','application_type','acc_now_delinq','chargeoff_within_12_mths','delinq_amnt','pub_rec_bankruptcies','tax_liens','open_acc','emp_title','zip_code','title'],axis = 1)"
   ]
  },
  {
   "cell_type": "code",
   "execution_count": null,
   "metadata": {
    "colab": {
     "base_uri": "https://localhost:8080/"
    },
    "executionInfo": {
     "elapsed": 75,
     "status": "ok",
     "timestamp": 1670427823022,
     "user": {
      "displayName": "aman maurya",
      "userId": "06203795675099361363"
     },
     "user_tz": -330
    },
    "id": "DqrVY1XvKCAh",
    "outputId": "7c1947bd-bcdd-4ca4-f80b-5a0a0bf70b7a"
   },
   "outputs": [
    {
     "data": {
      "text/plain": [
       "Index(['loan_amnt', 'funded_amnt', 'funded_amnt_inv', 'term', 'int_rate',\n",
       "       'installment', 'grade', 'sub_grade', 'emp_length', 'home_ownership',\n",
       "       'annual_inc', 'verification_status', 'issue_d', 'loan_status',\n",
       "       'purpose', 'addr_state', 'dti', 'desc_length'],\n",
       "      dtype='object')"
      ]
     },
     "execution_count": 268,
     "metadata": {},
     "output_type": "execute_result"
    }
   ],
   "source": [
    "data.columns"
   ]
  },
  {
   "cell_type": "code",
   "execution_count": null,
   "metadata": {
    "colab": {
     "base_uri": "https://localhost:8080/"
    },
    "executionInfo": {
     "elapsed": 72,
     "status": "ok",
     "timestamp": 1670427823023,
     "user": {
      "displayName": "aman maurya",
      "userId": "06203795675099361363"
     },
     "user_tz": -330
    },
    "id": "HrUUYrSELH-L",
    "outputId": "386f950d-bf5d-4661-8da5-c4c473d296e5"
   },
   "outputs": [
    {
     "data": {
      "text/plain": [
       "array(['Dec-11', 'Nov-11', 'Oct-11', 'Sep-11', 'Aug-11', 'Jul-11',\n",
       "       'Jun-11', 'May-11', 'Apr-11', 'Mar-11', 'Feb-11', 'Jan-11',\n",
       "       'Dec-10', 'Nov-10', 'Oct-10', 'Sep-10', 'Aug-10', 'Jul-10',\n",
       "       'Jun-10', 'May-10', 'Apr-10', 'Mar-10', 'Feb-10', 'Jan-10',\n",
       "       'Dec-09', 'Nov-09', 'Oct-09', 'Sep-09', 'Aug-09', 'Jul-09',\n",
       "       'Jun-09', 'May-09', 'Apr-09', 'Mar-09', 'Feb-09', 'Jan-09',\n",
       "       'Dec-08', 'Nov-08', 'Oct-08', 'Sep-08', 'Aug-08', 'Jul-08',\n",
       "       'Jun-08', 'May-08', 'Apr-08', 'Mar-08', 'Feb-08', 'Jan-08',\n",
       "       'Dec-07', 'Nov-07', 'Oct-07', 'Sep-07', 'Aug-07', 'Jul-07',\n",
       "       'Jun-07'], dtype=object)"
      ]
     },
     "execution_count": 269,
     "metadata": {},
     "output_type": "execute_result"
    }
   ],
   "source": [
    "#data driven metrics-- issue date\n",
    "data.issue_d.unique()"
   ]
  },
  {
   "cell_type": "code",
   "execution_count": null,
   "metadata": {
    "id": "ocRcFd1hMT7E"
   },
   "outputs": [],
   "source": [
    "#extracting year and month from the issue_d column\n",
    "data.issue_d = pd.to_datetime(data.issue_d, format='%b-%y')\n",
    "data['issue_d_year']=data['issue_d'].dt.year\n",
    "data['issue_d_month']=data['issue_d'].dt.month"
   ]
  },
  {
   "cell_type": "code",
   "execution_count": null,
   "metadata": {
    "id": "LcpN31D4MvxO"
   },
   "outputs": [],
   "source": [
    "#now we can drop the issue_d column\n",
    "data = data.drop(['issue_d'],axis=1)"
   ]
  },
  {
   "cell_type": "code",
   "execution_count": null,
   "metadata": {
    "colab": {
     "base_uri": "https://localhost:8080/"
    },
    "executionInfo": {
     "elapsed": 69,
     "status": "ok",
     "timestamp": 1670427823025,
     "user": {
      "displayName": "aman maurya",
      "userId": "06203795675099361363"
     },
     "user_tz": -330
    },
    "id": "4V2K-wazNKyq",
    "outputId": "0909d6c4-8e17-4887-dc1c-a6edd9690589"
   },
   "outputs": [
    {
     "data": {
      "text/plain": [
       "(39717, 19)"
      ]
     },
     "execution_count": 272,
     "metadata": {},
     "output_type": "execute_result"
    }
   ],
   "source": [
    "data.shape"
   ]
  },
  {
   "cell_type": "code",
   "execution_count": null,
   "metadata": {
    "colab": {
     "base_uri": "https://localhost:8080/"
    },
    "executionInfo": {
     "elapsed": 65,
     "status": "ok",
     "timestamp": 1670427823025,
     "user": {
      "displayName": "aman maurya",
      "userId": "06203795675099361363"
     },
     "user_tz": -330
    },
    "id": "bs4844jgNMVo",
    "outputId": "75d13a41-05fc-441a-b491-8c674acd7879"
   },
   "outputs": [
    {
     "data": {
      "text/plain": [
       "Index(['loan_amnt', 'funded_amnt', 'funded_amnt_inv', 'term', 'int_rate',\n",
       "       'installment', 'grade', 'sub_grade', 'emp_length', 'home_ownership',\n",
       "       'annual_inc', 'verification_status', 'loan_status', 'purpose',\n",
       "       'addr_state', 'dti', 'desc_length', 'issue_d_year', 'issue_d_month'],\n",
       "      dtype='object')"
      ]
     },
     "execution_count": 273,
     "metadata": {},
     "output_type": "execute_result"
    }
   ],
   "source": [
    "data.columns"
   ]
  },
  {
   "cell_type": "code",
   "execution_count": null,
   "metadata": {
    "colab": {
     "base_uri": "https://localhost:8080/"
    },
    "executionInfo": {
     "elapsed": 63,
     "status": "ok",
     "timestamp": 1670427823026,
     "user": {
      "displayName": "aman maurya",
      "userId": "06203795675099361363"
     },
     "user_tz": -330
    },
    "id": "Pf75jzw3Nv4w",
    "outputId": "29a934bf-b2dc-4ac0-eadc-844123500be8"
   },
   "outputs": [
    {
     "data": {
      "text/plain": [
       "array(['Fully Paid', 'Charged Off', 'Current'], dtype=object)"
      ]
     },
     "execution_count": 274,
     "metadata": {},
     "output_type": "execute_result"
    }
   ],
   "source": [
    "#Analysing loan_status column\n",
    "data.loan_status.unique()"
   ]
  },
  {
   "cell_type": "code",
   "execution_count": null,
   "metadata": {
    "id": "HYPnY67PNNOf"
   },
   "outputs": [],
   "source": [
    "#since we dont need data with current as loan status as it is active loan, we will drop the data with loan status as current\n",
    "data = data[(data['loan_status']=='Fully Paid') | (data['loan_status']=='Charged Off')]"
   ]
  },
  {
   "cell_type": "code",
   "execution_count": null,
   "metadata": {
    "colab": {
     "base_uri": "https://localhost:8080/"
    },
    "executionInfo": {
     "elapsed": 57,
     "status": "ok",
     "timestamp": 1670427823027,
     "user": {
      "displayName": "aman maurya",
      "userId": "06203795675099361363"
     },
     "user_tz": -330
    },
    "id": "RWDFkzP6PDGq",
    "outputId": "47df7b27-dd24-47b7-abb5-f59ba034c766"
   },
   "outputs": [
    {
     "data": {
      "text/plain": [
       "(38577, 19)"
      ]
     },
     "execution_count": 276,
     "metadata": {},
     "output_type": "execute_result"
    }
   ],
   "source": [
    "data.shape"
   ]
  },
  {
   "cell_type": "code",
   "execution_count": null,
   "metadata": {
    "colab": {
     "base_uri": "https://localhost:8080/"
    },
    "executionInfo": {
     "elapsed": 55,
     "status": "ok",
     "timestamp": 1670427823028,
     "user": {
      "displayName": "aman maurya",
      "userId": "06203795675099361363"
     },
     "user_tz": -330
    },
    "id": "0f3Qlqy-R5QP",
    "outputId": "3c2b4937-d760-4afa-f896-1818bf3fa446"
   },
   "outputs": [
    {
     "data": {
      "text/plain": [
       "array(['10+ years', '< 1 year', '3 years', '8 years', '9 years',\n",
       "       '4 years', '5 years', '1 year', '6 years', '2 years', '7 years',\n",
       "       nan], dtype=object)"
      ]
     },
     "execution_count": 277,
     "metadata": {},
     "output_type": "execute_result"
    }
   ],
   "source": [
    "#Analysing emp_length column\n",
    "data.emp_length.unique()"
   ]
  },
  {
   "cell_type": "code",
   "execution_count": null,
   "metadata": {
    "id": "3DquZcU9PE4q"
   },
   "outputs": [],
   "source": [
    "#treating emp_length null values and filling it with 0\n",
    "data.emp_length = data.emp_length.fillna('0 years')"
   ]
  },
  {
   "cell_type": "code",
   "execution_count": null,
   "metadata": {
    "colab": {
     "base_uri": "https://localhost:8080/"
    },
    "executionInfo": {
     "elapsed": 51,
     "status": "ok",
     "timestamp": 1670427823028,
     "user": {
      "displayName": "aman maurya",
      "userId": "06203795675099361363"
     },
     "user_tz": -330
    },
    "id": "ZgE5-m2dSBYH",
    "outputId": "018e7c60-e616-414f-a82b-3a5a36d2826f"
   },
   "outputs": [
    {
     "data": {
      "text/plain": [
       "array(['10+ years', '< 1 year', '3 years', '8 years', '9 years',\n",
       "       '4 years', '5 years', '1 year', '6 years', '2 years', '7 years',\n",
       "       '0 years'], dtype=object)"
      ]
     },
     "execution_count": 279,
     "metadata": {},
     "output_type": "execute_result"
    }
   ],
   "source": [
    "data.emp_length.unique()"
   ]
  },
  {
   "cell_type": "code",
   "execution_count": null,
   "metadata": {
    "colab": {
     "base_uri": "https://localhost:8080/"
    },
    "executionInfo": {
     "elapsed": 48,
     "status": "ok",
     "timestamp": 1670427823029,
     "user": {
      "displayName": "aman maurya",
      "userId": "06203795675099361363"
     },
     "user_tz": -330
    },
    "id": "VnEJgfru88Im",
    "outputId": "3a0a4c87-5eb0-4845-c278-d7556acaca5d"
   },
   "outputs": [
    {
     "data": {
      "text/plain": [
       "array(['10.65%', '15.27%', '15.96%', '13.49%', '7.90%', '18.64%',\n",
       "       '21.28%', '12.69%', '14.65%', '9.91%', '16.29%', '6.03%', '11.71%',\n",
       "       '12.42%', '14.27%', '16.77%', '7.51%', '8.90%', '18.25%', '6.62%',\n",
       "       '19.91%', '17.27%', '17.58%', '21.67%', '19.42%', '20.89%',\n",
       "       '20.30%', '23.91%', '19.03%', '23.13%', '22.74%', '22.35%',\n",
       "       '22.06%', '24.11%', '6.00%', '23.52%', '22.11%', '7.49%', '11.99%',\n",
       "       '5.99%', '10.99%', '9.99%', '18.79%', '11.49%', '8.49%', '15.99%',\n",
       "       '16.49%', '6.99%', '12.99%', '15.23%', '14.79%', '5.42%', '10.59%',\n",
       "       '17.49%', '15.62%', '19.29%', '13.99%', '18.39%', '16.89%',\n",
       "       '17.99%', '20.99%', '22.85%', '19.69%', '20.62%', '20.25%',\n",
       "       '21.36%', '23.22%', '21.74%', '22.48%', '23.59%', '12.62%',\n",
       "       '18.07%', '11.63%', '7.91%', '7.42%', '11.14%', '20.20%', '12.12%',\n",
       "       '19.39%', '16.11%', '17.54%', '22.64%', '13.84%', '16.59%',\n",
       "       '17.19%', '12.87%', '20.69%', '9.67%', '21.82%', '19.79%',\n",
       "       '18.49%', '22.94%', '24.40%', '21.48%', '14.82%', '14.17%',\n",
       "       '7.29%', '17.88%', '20.11%', '16.02%', '13.43%', '14.91%',\n",
       "       '13.06%', '15.28%', '15.65%', '17.14%', '11.11%', '10.37%',\n",
       "       '16.40%', '17.51%', '7.66%', '18.62%', '10.74%', '5.79%', '6.92%',\n",
       "       '10.00%', '9.63%', '14.54%', '12.68%', '19.36%', '13.80%',\n",
       "       '18.99%', '21.59%', '20.85%', '21.22%', '19.74%', '20.48%',\n",
       "       '6.91%', '12.23%', '12.61%', '10.36%', '6.17%', '6.54%', '9.25%',\n",
       "       '16.69%', '15.95%', '8.88%', '13.35%', '9.62%', '16.32%', '12.98%',\n",
       "       '14.83%', '13.72%', '14.09%', '14.46%', '20.03%', '17.80%',\n",
       "       '15.20%', '15.57%', '18.54%', '19.66%', '17.06%', '18.17%',\n",
       "       '17.43%', '20.40%', '20.77%', '18.91%', '21.14%', '17.44%',\n",
       "       '13.23%', '7.88%', '11.12%', '13.61%', '10.38%', '17.56%',\n",
       "       '17.93%', '15.58%', '13.98%', '14.84%', '15.21%', '6.76%', '6.39%',\n",
       "       '11.86%', '7.14%', '14.35%', '16.82%', '10.75%', '14.72%',\n",
       "       '16.45%', '18.67%', '20.53%', '19.41%', '20.16%', '21.27%',\n",
       "       '18.30%', '19.04%', '20.90%', '21.64%', '12.73%', '10.25%',\n",
       "       '13.11%', '10.62%', '13.48%', '14.59%', '16.07%', '15.70%',\n",
       "       '9.88%', '11.36%', '15.33%', '13.85%', '14.96%', '14.22%', '7.74%',\n",
       "       '13.22%', '13.57%', '8.59%', '17.04%', '14.61%', '8.94%', '12.18%',\n",
       "       '11.83%', '11.48%', '16.35%', '13.92%', '15.31%', '14.26%',\n",
       "       '19.13%', '12.53%', '16.70%', '16.00%', '17.39%', '18.09%',\n",
       "       '7.40%', '18.43%', '17.74%', '7.05%', '20.52%', '20.86%', '19.47%',\n",
       "       '18.78%', '21.21%', '19.82%', '20.17%', '13.16%', '8.00%',\n",
       "       '13.47%', '12.21%', '16.63%', '9.32%', '12.84%', '11.26%',\n",
       "       '15.68%', '15.37%', '10.95%', '11.89%', '14.11%', '13.79%',\n",
       "       '7.68%', '11.58%', '7.37%', '16.95%', '15.05%', '18.53%', '14.74%',\n",
       "       '14.42%', '18.21%', '17.26%', '18.84%', '17.90%', '19.16%',\n",
       "       '13.67%', '9.38%', '12.72%', '13.36%', '11.46%', '10.51%', '9.07%',\n",
       "       '13.04%', '11.78%', '12.41%', '10.83%', '12.09%', '17.46%',\n",
       "       '14.30%', '17.15%', '15.25%', '10.20%', '15.88%', '14.93%',\n",
       "       '16.20%', '18.72%', '14.62%', '8.32%', '14.12%', '10.96%',\n",
       "       '10.33%', '10.01%', '12.86%', '11.28%', '11.59%', '8.63%',\n",
       "       '12.54%', '12.22%', '11.91%', '15.38%', '16.96%', '13.17%',\n",
       "       '9.70%', '16.33%', '14.75%', '15.07%', '16.01%', '10.71%',\n",
       "       '10.64%', '9.76%', '11.34%', '10.39%', '13.87%', '11.03%',\n",
       "       '11.66%', '13.24%', '10.08%', '9.45%', '13.55%', '12.29%',\n",
       "       '11.97%', '12.92%', '15.45%', '14.50%', '14.18%', '15.13%',\n",
       "       '16.08%', '15.76%', '17.03%', '17.34%', '16.71%', '9.83%',\n",
       "       '13.62%', '10.46%', '9.51%', '9.20%', '13.30%', '10.78%', '7.75%',\n",
       "       '8.38%', '12.36%', '12.67%', '11.72%', '13.93%', '8.07%', '7.43%',\n",
       "       '12.04%', '14.25%', '14.88%', '11.41%', '11.09%', '10.14%',\n",
       "       '16.15%', '15.83%', '7.12%', '18.36%', '9.64%', '9.96%', '11.22%',\n",
       "       '9.01%', '9.33%', '11.54%', '12.17%', '12.80%', '14.38%', '13.75%',\n",
       "       '14.70%', '12.49%', '14.07%', '10.91%', '13.12%', '10.28%',\n",
       "       '8.70%', '14.67%', '15.01%'], dtype=object)"
      ]
     },
     "execution_count": 280,
     "metadata": {},
     "output_type": "execute_result"
    }
   ],
   "source": [
    "#Analysing int_rate column\n",
    "data.int_rate.unique()"
   ]
  },
  {
   "cell_type": "code",
   "execution_count": null,
   "metadata": {
    "id": "FcbxQK2cqqfr"
   },
   "outputs": [],
   "source": [
    "#cleaning int_rate column\n",
    "data.int_rate = data.int_rate.apply(lambda x: x.strip('%'))"
   ]
  },
  {
   "cell_type": "code",
   "execution_count": null,
   "metadata": {
    "id": "WQESrohFq5f_"
   },
   "outputs": [],
   "source": [
    "#Changing data type for int_rate\n",
    "data.int_rate = data.int_rate.astype('float64')"
   ]
  },
  {
   "cell_type": "code",
   "execution_count": null,
   "metadata": {
    "id": "pM78GMNWsK9A"
   },
   "outputs": [],
   "source": [
    "#cleaning home_ownership column. As per the dictionary, the valid data is Rent,Own,Mortage,Other but the data have None as well.\n",
    "#We can drop this value as it has only 3 rows and it will not affect our analysis.\n",
    "data= data[-(data['home_ownership']=='NONE')]"
   ]
  },
  {
   "cell_type": "markdown",
   "metadata": {
    "id": "9P5rrE689NQp"
   },
   "source": [
    "### Sanity Checks"
   ]
  },
  {
   "cell_type": "code",
   "execution_count": null,
   "metadata": {
    "colab": {
     "base_uri": "https://localhost:8080/",
     "height": 113
    },
    "executionInfo": {
     "elapsed": 44,
     "status": "ok",
     "timestamp": 1670427823030,
     "user": {
      "displayName": "aman maurya",
      "userId": "06203795675099361363"
     },
     "user_tz": -330
    },
    "id": "htAK-QsB9UMv",
    "outputId": "f3ce70e9-a16e-46fd-9f00-84e35b013cd0"
   },
   "outputs": [
    {
     "data": {
      "text/html": [
       "\n",
       "  <div id=\"df-45fda6d7-a15e-4e59-ad16-51102949e21e\">\n",
       "    <div class=\"colab-df-container\">\n",
       "      <div>\n",
       "<style scoped>\n",
       "    .dataframe tbody tr th:only-of-type {\n",
       "        vertical-align: middle;\n",
       "    }\n",
       "\n",
       "    .dataframe tbody tr th {\n",
       "        vertical-align: top;\n",
       "    }\n",
       "\n",
       "    .dataframe thead th {\n",
       "        text-align: right;\n",
       "    }\n",
       "</style>\n",
       "<table border=\"1\" class=\"dataframe\">\n",
       "  <thead>\n",
       "    <tr style=\"text-align: right;\">\n",
       "      <th></th>\n",
       "      <th>loan_amnt</th>\n",
       "      <th>funded_amnt</th>\n",
       "      <th>funded_amnt_inv</th>\n",
       "      <th>term</th>\n",
       "      <th>int_rate</th>\n",
       "      <th>installment</th>\n",
       "      <th>grade</th>\n",
       "      <th>sub_grade</th>\n",
       "      <th>emp_length</th>\n",
       "      <th>home_ownership</th>\n",
       "      <th>annual_inc</th>\n",
       "      <th>verification_status</th>\n",
       "      <th>loan_status</th>\n",
       "      <th>purpose</th>\n",
       "      <th>addr_state</th>\n",
       "      <th>dti</th>\n",
       "      <th>desc_length</th>\n",
       "      <th>issue_d_year</th>\n",
       "      <th>issue_d_month</th>\n",
       "    </tr>\n",
       "  </thead>\n",
       "  <tbody>\n",
       "  </tbody>\n",
       "</table>\n",
       "</div>\n",
       "      <button class=\"colab-df-convert\" onclick=\"convertToInteractive('df-45fda6d7-a15e-4e59-ad16-51102949e21e')\"\n",
       "              title=\"Convert this dataframe to an interactive table.\"\n",
       "              style=\"display:none;\">\n",
       "        \n",
       "  <svg xmlns=\"http://www.w3.org/2000/svg\" height=\"24px\"viewBox=\"0 0 24 24\"\n",
       "       width=\"24px\">\n",
       "    <path d=\"M0 0h24v24H0V0z\" fill=\"none\"/>\n",
       "    <path d=\"M18.56 5.44l.94 2.06.94-2.06 2.06-.94-2.06-.94-.94-2.06-.94 2.06-2.06.94zm-11 1L8.5 8.5l.94-2.06 2.06-.94-2.06-.94L8.5 2.5l-.94 2.06-2.06.94zm10 10l.94 2.06.94-2.06 2.06-.94-2.06-.94-.94-2.06-.94 2.06-2.06.94z\"/><path d=\"M17.41 7.96l-1.37-1.37c-.4-.4-.92-.59-1.43-.59-.52 0-1.04.2-1.43.59L10.3 9.45l-7.72 7.72c-.78.78-.78 2.05 0 2.83L4 21.41c.39.39.9.59 1.41.59.51 0 1.02-.2 1.41-.59l7.78-7.78 2.81-2.81c.8-.78.8-2.07 0-2.86zM5.41 20L4 18.59l7.72-7.72 1.47 1.35L5.41 20z\"/>\n",
       "  </svg>\n",
       "      </button>\n",
       "      \n",
       "  <style>\n",
       "    .colab-df-container {\n",
       "      display:flex;\n",
       "      flex-wrap:wrap;\n",
       "      gap: 12px;\n",
       "    }\n",
       "\n",
       "    .colab-df-convert {\n",
       "      background-color: #E8F0FE;\n",
       "      border: none;\n",
       "      border-radius: 50%;\n",
       "      cursor: pointer;\n",
       "      display: none;\n",
       "      fill: #1967D2;\n",
       "      height: 32px;\n",
       "      padding: 0 0 0 0;\n",
       "      width: 32px;\n",
       "    }\n",
       "\n",
       "    .colab-df-convert:hover {\n",
       "      background-color: #E2EBFA;\n",
       "      box-shadow: 0px 1px 2px rgba(60, 64, 67, 0.3), 0px 1px 3px 1px rgba(60, 64, 67, 0.15);\n",
       "      fill: #174EA6;\n",
       "    }\n",
       "\n",
       "    [theme=dark] .colab-df-convert {\n",
       "      background-color: #3B4455;\n",
       "      fill: #D2E3FC;\n",
       "    }\n",
       "\n",
       "    [theme=dark] .colab-df-convert:hover {\n",
       "      background-color: #434B5C;\n",
       "      box-shadow: 0px 1px 3px 1px rgba(0, 0, 0, 0.15);\n",
       "      filter: drop-shadow(0px 1px 2px rgba(0, 0, 0, 0.3));\n",
       "      fill: #FFFFFF;\n",
       "    }\n",
       "  </style>\n",
       "\n",
       "      <script>\n",
       "        const buttonEl =\n",
       "          document.querySelector('#df-45fda6d7-a15e-4e59-ad16-51102949e21e button.colab-df-convert');\n",
       "        buttonEl.style.display =\n",
       "          google.colab.kernel.accessAllowed ? 'block' : 'none';\n",
       "\n",
       "        async function convertToInteractive(key) {\n",
       "          const element = document.querySelector('#df-45fda6d7-a15e-4e59-ad16-51102949e21e');\n",
       "          const dataTable =\n",
       "            await google.colab.kernel.invokeFunction('convertToInteractive',\n",
       "                                                     [key], {});\n",
       "          if (!dataTable) return;\n",
       "\n",
       "          const docLinkHtml = 'Like what you see? Visit the ' +\n",
       "            '<a target=\"_blank\" href=https://colab.research.google.com/notebooks/data_table.ipynb>data table notebook</a>'\n",
       "            + ' to learn more about interactive tables.';\n",
       "          element.innerHTML = '';\n",
       "          dataTable['output_type'] = 'display_data';\n",
       "          await google.colab.output.renderOutput(dataTable, element);\n",
       "          const docLink = document.createElement('div');\n",
       "          docLink.innerHTML = docLinkHtml;\n",
       "          element.appendChild(docLink);\n",
       "        }\n",
       "      </script>\n",
       "    </div>\n",
       "  </div>\n",
       "  "
      ],
      "text/plain": [
       "Empty DataFrame\n",
       "Columns: [loan_amnt, funded_amnt, funded_amnt_inv, term, int_rate, installment, grade, sub_grade, emp_length, home_ownership, annual_inc, verification_status, loan_status, purpose, addr_state, dti, desc_length, issue_d_year, issue_d_month]\n",
       "Index: []"
      ]
     },
     "execution_count": 284,
     "metadata": {},
     "output_type": "execute_result"
    }
   ],
   "source": [
    "#comparing funded_amnt to be less or equal to loan_amnt\n",
    "data[data['funded_amnt']>data['loan_amnt']]"
   ]
  },
  {
   "cell_type": "code",
   "execution_count": null,
   "metadata": {
    "colab": {
     "base_uri": "https://localhost:8080/",
     "height": 113
    },
    "executionInfo": {
     "elapsed": 44,
     "status": "ok",
     "timestamp": 1670427823031,
     "user": {
      "displayName": "aman maurya",
      "userId": "06203795675099361363"
     },
     "user_tz": -330
    },
    "id": "YVWFihaL96wG",
    "outputId": "6160c07c-de4f-4415-b959-5e1ce8976be4"
   },
   "outputs": [
    {
     "data": {
      "text/html": [
       "\n",
       "  <div id=\"df-ccac047e-b51b-4418-9e3f-a59bd967dcdc\">\n",
       "    <div class=\"colab-df-container\">\n",
       "      <div>\n",
       "<style scoped>\n",
       "    .dataframe tbody tr th:only-of-type {\n",
       "        vertical-align: middle;\n",
       "    }\n",
       "\n",
       "    .dataframe tbody tr th {\n",
       "        vertical-align: top;\n",
       "    }\n",
       "\n",
       "    .dataframe thead th {\n",
       "        text-align: right;\n",
       "    }\n",
       "</style>\n",
       "<table border=\"1\" class=\"dataframe\">\n",
       "  <thead>\n",
       "    <tr style=\"text-align: right;\">\n",
       "      <th></th>\n",
       "      <th>loan_amnt</th>\n",
       "      <th>funded_amnt</th>\n",
       "      <th>funded_amnt_inv</th>\n",
       "      <th>term</th>\n",
       "      <th>int_rate</th>\n",
       "      <th>installment</th>\n",
       "      <th>grade</th>\n",
       "      <th>sub_grade</th>\n",
       "      <th>emp_length</th>\n",
       "      <th>home_ownership</th>\n",
       "      <th>annual_inc</th>\n",
       "      <th>verification_status</th>\n",
       "      <th>loan_status</th>\n",
       "      <th>purpose</th>\n",
       "      <th>addr_state</th>\n",
       "      <th>dti</th>\n",
       "      <th>desc_length</th>\n",
       "      <th>issue_d_year</th>\n",
       "      <th>issue_d_month</th>\n",
       "    </tr>\n",
       "  </thead>\n",
       "  <tbody>\n",
       "  </tbody>\n",
       "</table>\n",
       "</div>\n",
       "      <button class=\"colab-df-convert\" onclick=\"convertToInteractive('df-ccac047e-b51b-4418-9e3f-a59bd967dcdc')\"\n",
       "              title=\"Convert this dataframe to an interactive table.\"\n",
       "              style=\"display:none;\">\n",
       "        \n",
       "  <svg xmlns=\"http://www.w3.org/2000/svg\" height=\"24px\"viewBox=\"0 0 24 24\"\n",
       "       width=\"24px\">\n",
       "    <path d=\"M0 0h24v24H0V0z\" fill=\"none\"/>\n",
       "    <path d=\"M18.56 5.44l.94 2.06.94-2.06 2.06-.94-2.06-.94-.94-2.06-.94 2.06-2.06.94zm-11 1L8.5 8.5l.94-2.06 2.06-.94-2.06-.94L8.5 2.5l-.94 2.06-2.06.94zm10 10l.94 2.06.94-2.06 2.06-.94-2.06-.94-.94-2.06-.94 2.06-2.06.94z\"/><path d=\"M17.41 7.96l-1.37-1.37c-.4-.4-.92-.59-1.43-.59-.52 0-1.04.2-1.43.59L10.3 9.45l-7.72 7.72c-.78.78-.78 2.05 0 2.83L4 21.41c.39.39.9.59 1.41.59.51 0 1.02-.2 1.41-.59l7.78-7.78 2.81-2.81c.8-.78.8-2.07 0-2.86zM5.41 20L4 18.59l7.72-7.72 1.47 1.35L5.41 20z\"/>\n",
       "  </svg>\n",
       "      </button>\n",
       "      \n",
       "  <style>\n",
       "    .colab-df-container {\n",
       "      display:flex;\n",
       "      flex-wrap:wrap;\n",
       "      gap: 12px;\n",
       "    }\n",
       "\n",
       "    .colab-df-convert {\n",
       "      background-color: #E8F0FE;\n",
       "      border: none;\n",
       "      border-radius: 50%;\n",
       "      cursor: pointer;\n",
       "      display: none;\n",
       "      fill: #1967D2;\n",
       "      height: 32px;\n",
       "      padding: 0 0 0 0;\n",
       "      width: 32px;\n",
       "    }\n",
       "\n",
       "    .colab-df-convert:hover {\n",
       "      background-color: #E2EBFA;\n",
       "      box-shadow: 0px 1px 2px rgba(60, 64, 67, 0.3), 0px 1px 3px 1px rgba(60, 64, 67, 0.15);\n",
       "      fill: #174EA6;\n",
       "    }\n",
       "\n",
       "    [theme=dark] .colab-df-convert {\n",
       "      background-color: #3B4455;\n",
       "      fill: #D2E3FC;\n",
       "    }\n",
       "\n",
       "    [theme=dark] .colab-df-convert:hover {\n",
       "      background-color: #434B5C;\n",
       "      box-shadow: 0px 1px 3px 1px rgba(0, 0, 0, 0.15);\n",
       "      filter: drop-shadow(0px 1px 2px rgba(0, 0, 0, 0.3));\n",
       "      fill: #FFFFFF;\n",
       "    }\n",
       "  </style>\n",
       "\n",
       "      <script>\n",
       "        const buttonEl =\n",
       "          document.querySelector('#df-ccac047e-b51b-4418-9e3f-a59bd967dcdc button.colab-df-convert');\n",
       "        buttonEl.style.display =\n",
       "          google.colab.kernel.accessAllowed ? 'block' : 'none';\n",
       "\n",
       "        async function convertToInteractive(key) {\n",
       "          const element = document.querySelector('#df-ccac047e-b51b-4418-9e3f-a59bd967dcdc');\n",
       "          const dataTable =\n",
       "            await google.colab.kernel.invokeFunction('convertToInteractive',\n",
       "                                                     [key], {});\n",
       "          if (!dataTable) return;\n",
       "\n",
       "          const docLinkHtml = 'Like what you see? Visit the ' +\n",
       "            '<a target=\"_blank\" href=https://colab.research.google.com/notebooks/data_table.ipynb>data table notebook</a>'\n",
       "            + ' to learn more about interactive tables.';\n",
       "          element.innerHTML = '';\n",
       "          dataTable['output_type'] = 'display_data';\n",
       "          await google.colab.output.renderOutput(dataTable, element);\n",
       "          const docLink = document.createElement('div');\n",
       "          docLink.innerHTML = docLinkHtml;\n",
       "          element.appendChild(docLink);\n",
       "        }\n",
       "      </script>\n",
       "    </div>\n",
       "  </div>\n",
       "  "
      ],
      "text/plain": [
       "Empty DataFrame\n",
       "Columns: [loan_amnt, funded_amnt, funded_amnt_inv, term, int_rate, installment, grade, sub_grade, emp_length, home_ownership, annual_inc, verification_status, loan_status, purpose, addr_state, dti, desc_length, issue_d_year, issue_d_month]\n",
       "Index: []"
      ]
     },
     "execution_count": 285,
     "metadata": {},
     "output_type": "execute_result"
    }
   ],
   "source": [
    "#comparing funded_amnt_inv to be less or equal to funded_amnt\n",
    "data[data['funded_amnt_inv']>data['funded_amnt']] "
   ]
  },
  {
   "cell_type": "markdown",
   "metadata": {
    "id": "1jlAebXJSggA"
   },
   "source": [
    "# Univariate Analysis"
   ]
  },
  {
   "cell_type": "code",
   "execution_count": null,
   "metadata": {
    "colab": {
     "base_uri": "https://localhost:8080/",
     "height": 354
    },
    "executionInfo": {
     "elapsed": 42,
     "status": "ok",
     "timestamp": 1670427823031,
     "user": {
      "displayName": "aman maurya",
      "userId": "06203795675099361363"
     },
     "user_tz": -330
    },
    "id": "IxYTR_6jSE6n",
    "outputId": "adbd3984-6878-4d31-b212-24347c57b32b"
   },
   "outputs": [
    {
     "name": "stderr",
     "output_type": "stream",
     "text": [
      "/usr/local/lib/python3.8/dist-packages/seaborn/_decorators.py:36: FutureWarning: Pass the following variable as a keyword arg: x. From version 0.12, the only valid positional argument will be `data`, and passing other arguments without an explicit keyword will result in an error or misinterpretation.\n",
      "  warnings.warn(\n"
     ]
    },
    {
     "data": {
      "text/plain": [
       "<matplotlib.axes._subplots.AxesSubplot at 0x7f4fd8d6bd00>"
      ]
     },
     "execution_count": 286,
     "metadata": {},
     "output_type": "execute_result"
    },
    {
     "data": {
      "image/png": "[encoded data removed]",
      "text/plain": [
       "<Figure size 432x288 with 1 Axes>"
      ]
     },
     "metadata": {
      "needs_background": "light"
     },
     "output_type": "display_data"
    }
   ],
   "source": [
    "#Analysing loan_amnt column\n",
    "sns.boxplot(data.loan_amnt)"
   ]
  },
  {
   "cell_type": "code",
   "execution_count": null,
   "metadata": {
    "id": "dL08DZZZSoUO"
   },
   "outputs": [],
   "source": [
    "#removing outliers\n",
    "data = data[-(data['loan_amnt']>30000)]"
   ]
  },
  {
   "cell_type": "code",
   "execution_count": null,
   "metadata": {
    "colab": {
     "base_uri": "https://localhost:8080/",
     "height": 354
    },
    "executionInfo": {
     "elapsed": 36,
     "status": "ok",
     "timestamp": 1670427823034,
     "user": {
      "displayName": "aman maurya",
      "userId": "06203795675099361363"
     },
     "user_tz": -330
    },
    "id": "VaI8TiMn-U4G",
    "outputId": "3113137c-4c05-4e8b-d01e-d0ea200b7421"
   },
   "outputs": [
    {
     "name": "stderr",
     "output_type": "stream",
     "text": [
      "/usr/local/lib/python3.8/dist-packages/seaborn/_decorators.py:36: FutureWarning: Pass the following variable as a keyword arg: x. From version 0.12, the only valid positional argument will be `data`, and passing other arguments without an explicit keyword will result in an error or misinterpretation.\n",
      "  warnings.warn(\n"
     ]
    },
    {
     "data": {
      "text/plain": [
       "<matplotlib.axes._subplots.AxesSubplot at 0x7f4fd8aec850>"
      ]
     },
     "execution_count": 288,
     "metadata": {},
     "output_type": "execute_result"
    },
    {
     "data": {
      "image/png": "[encoded data removed]",
      "text/plain": [
       "<Figure size 432x288 with 1 Axes>"
      ]
     },
     "metadata": {
      "needs_background": "light"
     },
     "output_type": "display_data"
    }
   ],
   "source": [
    "#data after removing outliers\n",
    "sns.boxplot(data.loan_amnt)"
   ]
  },
  {
   "cell_type": "code",
   "execution_count": null,
   "metadata": {
    "colab": {
     "base_uri": "https://localhost:8080/",
     "height": 599
    },
    "executionInfo": {
     "elapsed": 845,
     "status": "ok",
     "timestamp": 1670427823848,
     "user": {
      "displayName": "aman maurya",
      "userId": "06203795675099361363"
     },
     "user_tz": -330
    },
    "id": "Q-9L2CfAobKG",
    "outputId": "4cef5df0-cdce-4c2c-86e1-51ce49ba6dae"
   },
   "outputs": [
    {
     "name": "stderr",
     "output_type": "stream",
     "text": [
      "/usr/local/lib/python3.8/dist-packages/seaborn/_decorators.py:36: FutureWarning: Pass the following variable as a keyword arg: x. From version 0.12, the only valid positional argument will be `data`, and passing other arguments without an explicit keyword will result in an error or misinterpretation.\n",
      "  warnings.warn(\n",
      "/usr/local/lib/python3.8/dist-packages/seaborn/_decorators.py:36: FutureWarning: Pass the following variable as a keyword arg: x. From version 0.12, the only valid positional argument will be `data`, and passing other arguments without an explicit keyword will result in an error or misinterpretation.\n",
      "  warnings.warn(\n",
      "/usr/local/lib/python3.8/dist-packages/seaborn/_decorators.py:36: FutureWarning: Pass the following variable as a keyword arg: x. From version 0.12, the only valid positional argument will be `data`, and passing other arguments without an explicit keyword will result in an error or misinterpretation.\n",
      "  warnings.warn(\n"
     ]
    },
    {
     "data": {
      "image/png": "[encoded data removed]",
      "text/plain": [
       "<Figure size 864x576 with 3 Axes>"
      ]
     },
     "metadata": {
      "needs_background": "light"
     },
     "output_type": "display_data"
    }
   ],
   "source": [
    "#plotting loan_amnt, funded_amnt and funded_amnt_inv together to take a look at the data side by side\n",
    "fig,ax = plt.subplots(nrows=3,figsize=(12,8))\n",
    "plt.subplots_adjust(hspace = 0.8, top = 0.8)\n",
    "g1 = sns.boxplot(data.loan_amnt,ax=ax[0])\n",
    "g1.set_title(\"Loan Amount\", fontsize=15)\n",
    "g2 = sns.boxplot(data.funded_amnt,ax=ax[1])\n",
    "g2.set_title(\"Funded Amount\", fontsize=15)\n",
    "g3 = sns.boxplot(data.funded_amnt_inv,ax=ax[2])\n",
    "g3.set_title(\"Funded Amount Invested\", fontsize=15)\n",
    "plt.show()\n",
    "\n",
    "#Observation\n",
    "#1- Most of the loan amount lies between 5000 to 15000\n",
    "#2- 75th quartile and max amount is slight lesser than loan amount\n",
    "#3- The 75th Quartile and max amount is much lesser than loan_amnt\n",
    "#4- The funded_amnt_inv is always low than loan_amnt"
   ]
  },
  {
   "cell_type": "code",
   "execution_count": null,
   "metadata": {
    "colab": {
     "base_uri": "https://localhost:8080/",
     "height": 354
    },
    "executionInfo": {
     "elapsed": 10,
     "status": "ok",
     "timestamp": 1670427823852,
     "user": {
      "displayName": "aman maurya",
      "userId": "06203795675099361363"
     },
     "user_tz": -330
    },
    "id": "BD2Eo2lTptpQ",
    "outputId": "dcda43a4-ff0c-4eb2-948c-7637c2264fa1"
   },
   "outputs": [
    {
     "data": {
      "image/png": "[encoded data removed]",
      "text/plain": [
       "<Figure size 720x432 with 2 Axes>"
      ]
     },
     "metadata": {
      "needs_background": "light"
     },
     "output_type": "display_data"
    }
   ],
   "source": [
    "#plotting term column\n",
    "fig,ax = plt.subplots(ncols=2,figsize=(10,6))\n",
    "plt.subplots_adjust(hspace = 0.8, top = 0.8)\n",
    "g1=sns.histplot(data.term,ax=ax[0])\n",
    "g2=data.term.value_counts().plot.pie(ax=ax[1])\n",
    "#Observation\n",
    "#Most of the loans are for a term of 36 months\n"
   ]
  },
  {
   "cell_type": "code",
   "execution_count": null,
   "metadata": {
    "colab": {
     "base_uri": "https://localhost:8080/",
     "height": 562
    },
    "executionInfo": {
     "elapsed": 1337,
     "status": "ok",
     "timestamp": 1670427825180,
     "user": {
      "displayName": "aman maurya",
      "userId": "06203795675099361363"
     },
     "user_tz": -330
    },
    "id": "tlvZZWawp3sJ",
    "outputId": "ed45fa33-8f60-48f2-b2f5-c4805504f824"
   },
   "outputs": [
    {
     "name": "stderr",
     "output_type": "stream",
     "text": [
      "/usr/local/lib/python3.8/dist-packages/seaborn/_decorators.py:36: FutureWarning: Pass the following variable as a keyword arg: x. From version 0.12, the only valid positional argument will be `data`, and passing other arguments without an explicit keyword will result in an error or misinterpretation.\n",
      "  warnings.warn(\n",
      "/usr/local/lib/python3.8/dist-packages/seaborn/_decorators.py:36: FutureWarning: Pass the following variable as a keyword arg: x. From version 0.12, the only valid positional argument will be `data`, and passing other arguments without an explicit keyword will result in an error or misinterpretation.\n",
      "  warnings.warn(\n"
     ]
    },
    {
     "data": {
      "image/png": "[encoded data removed]",
      "text/plain": [
       "<Figure size 864x576 with 2 Axes>"
      ]
     },
     "metadata": {
      "needs_background": "light"
     },
     "output_type": "display_data"
    }
   ],
   "source": [
    "#plotting Interest Rate and Installments data\n",
    "fig,ax = plt.subplots(nrows=2,figsize=(12,8))\n",
    "plt.subplots_adjust(hspace = 0.8, top = 0.8)\n",
    "g1 = sns.boxplot(data.int_rate,ax=ax[0])\n",
    "g1.set_title(\"Interest Rate\", fontsize=15)\n",
    "g2 = sns.boxplot(data.installment,ax=ax[1])\n",
    "g2.set_title(\"Installment\", fontsize=15)\n",
    "plt.show()\n",
    "\n",
    "#Observation\n",
    "#1- The Interquartile range for interest rate is from 8.75 to 14\n",
    "#2- The IQR for Installments is from 180 to 420"
   ]
  },
  {
   "cell_type": "code",
   "execution_count": 379,
   "metadata": {
    "colab": {
     "base_uri": "https://localhost:8080/",
     "height": 387
    },
    "executionInfo": {
     "elapsed": 1403,
     "status": "ok",
     "timestamp": 1670432144826,
     "user": {
      "displayName": "aman maurya",
      "userId": "06203795675099361363"
     },
     "user_tz": -330
    },
    "id": "r3zzblyHg1xA",
    "outputId": "aab3a4aa-4ffa-4be3-d1f3-abfd30ef9d94"
   },
   "outputs": [
    {
     "data": {
      "text/plain": [
       "<seaborn.axisgrid.FacetGrid at 0x7f4fd7b1b3d0>"
      ]
     },
     "execution_count": 379,
     "metadata": {},
     "output_type": "execute_result"
    },
    {
     "data": {
      "image/png": "[encoded data removed]",
      "text/plain": [
       "<Figure size 360x360 with 1 Axes>"
      ]
     },
     "metadata": {
      "needs_background": "light"
     },
     "output_type": "display_data"
    }
   ],
   "source": [
    "sns.displot(data.installment)"
   ]
  },
  {
   "cell_type": "code",
   "execution_count": null,
   "metadata": {
    "colab": {
     "base_uri": "https://localhost:8080/",
     "height": 299
    },
    "executionInfo": {
     "elapsed": 23,
     "status": "ok",
     "timestamp": 1670427825182,
     "user": {
      "displayName": "aman maurya",
      "userId": "06203795675099361363"
     },
     "user_tz": -330
    },
    "id": "ffURMjI6p8qm",
    "outputId": "5d1a7ab6-b298-40a7-c708-078a46ccae06"
   },
   "outputs": [
    {
     "data": {
      "text/plain": [
       "<matplotlib.axes._subplots.AxesSubplot at 0x7f4fd8a31370>"
      ]
     },
     "execution_count": 292,
     "metadata": {},
     "output_type": "execute_result"
    },
    {
     "data": {
      "image/png": "[encoded data removed]",
      "text/plain": [
       "<Figure size 432x288 with 1 Axes>"
      ]
     },
     "metadata": {
      "needs_background": "light"
     },
     "output_type": "display_data"
    }
   ],
   "source": [
    "#plotting grade\n",
    "sns.histplot(data.grade)\n",
    "\n",
    "#Observaton\n",
    "#1- There are very less loans with grade G relative to complete data\n",
    "#2- Maximum no of loans are from grade B\n",
    "#3- loan count decreases as we go ascending to the grade considering A as first grade"
   ]
  },
  {
   "cell_type": "code",
   "execution_count": null,
   "metadata": {
    "colab": {
     "base_uri": "https://localhost:8080/",
     "height": 498
    },
    "executionInfo": {
     "elapsed": 19,
     "status": "ok",
     "timestamp": 1670427825183,
     "user": {
      "displayName": "aman maurya",
      "userId": "06203795675099361363"
     },
     "user_tz": -330
    },
    "id": "A9Cg9wvqr2md",
    "outputId": "f145cbfb-3cfc-4e07-e1aa-17325155d1d4"
   },
   "outputs": [
    {
     "data": {
      "image/png": "[encoded data removed]",
      "text/plain": [
       "<Figure size 864x576 with 1 Axes>"
      ]
     },
     "metadata": {
      "needs_background": "light"
     },
     "output_type": "display_data"
    }
   ],
   "source": [
    "#plotting sub grade\n",
    "plt.figure(figsize=(12,8))\n",
    "sns.histplot(data.sub_grade)\n",
    "plt.show()\n",
    "\n",
    "#Observation\n",
    "#1- Most of the loans have subgrade A4\n"
   ]
  },
  {
   "cell_type": "code",
   "execution_count": null,
   "metadata": {
    "colab": {
     "base_uri": "https://localhost:8080/",
     "height": 552
    },
    "executionInfo": {
     "elapsed": 17,
     "status": "ok",
     "timestamp": 1670427825184,
     "user": {
      "displayName": "aman maurya",
      "userId": "06203795675099361363"
     },
     "user_tz": -330
    },
    "id": "LUbLuiBOr8dk",
    "outputId": "c81743bd-f56b-4ffc-eb4f-32f9169c8ff9"
   },
   "outputs": [
    {
     "data": {
      "image/png": "[encoded data removed]",
      "text/plain": [
       "<Figure size 1080x648 with 1 Axes>"
      ]
     },
     "metadata": {
      "needs_background": "light"
     },
     "output_type": "display_data"
    }
   ],
   "source": [
    "#plotting term of employement as provided by the borrower\n",
    "plt.figure(figsize=(15,9))\n",
    "sns.histplot(data.emp_length)\n",
    "plt.show()\n",
    "\n",
    "#Observation\n",
    "#1- Most of the loans are from people who are employed for more than 10 years"
   ]
  },
  {
   "cell_type": "code",
   "execution_count": null,
   "metadata": {
    "colab": {
     "base_uri": "https://localhost:8080/",
     "height": 298
    },
    "executionInfo": {
     "elapsed": 796,
     "status": "ok",
     "timestamp": 1670427825964,
     "user": {
      "displayName": "aman maurya",
      "userId": "06203795675099361363"
     },
     "user_tz": -330
    },
    "id": "P0a1BYP8sA_F",
    "outputId": "fe764d3d-8158-4676-e6e7-aa82de8146eb"
   },
   "outputs": [
    {
     "data": {
      "text/plain": [
       "<matplotlib.axes._subplots.AxesSubplot at 0x7f4fd893da90>"
      ]
     },
     "execution_count": 295,
     "metadata": {},
     "output_type": "execute_result"
    },
    {
     "data": {
      "image/png": "[encoded data removed]",
      "text/plain": [
       "<Figure size 432x288 with 1 Axes>"
      ]
     },
     "metadata": {
      "needs_background": "light"
     },
     "output_type": "display_data"
    }
   ],
   "source": [
    "#plotting home ownership\n",
    "sns.histplot(data.home_ownership)\n",
    "\n",
    "#Observation\n",
    "#1- Most of the loan borrowers are lining on rent or have their home on Mortage \n",
    "#2- The count of loan borrowers having home ownership as None is low "
   ]
  },
  {
   "cell_type": "code",
   "execution_count": null,
   "metadata": {
    "colab": {
     "base_uri": "https://localhost:8080/",
     "height": 298
    },
    "executionInfo": {
     "elapsed": 9,
     "status": "ok",
     "timestamp": 1670427825964,
     "user": {
      "displayName": "aman maurya",
      "userId": "06203795675099361363"
     },
     "user_tz": -330
    },
    "id": "ArMGJ3_isHxf",
    "outputId": "e05b42f1-8c62-4f07-b21e-4093aaa32e26"
   },
   "outputs": [
    {
     "data": {
      "text/plain": [
       "<matplotlib.axes._subplots.AxesSubplot at 0x7f4fd8849970>"
      ]
     },
     "execution_count": 296,
     "metadata": {},
     "output_type": "execute_result"
    },
    {
     "data": {
      "image/png": "[encoded data removed]",
      "text/plain": [
       "<Figure size 432x288 with 1 Axes>"
      ]
     },
     "metadata": {
      "needs_background": "light"
     },
     "output_type": "display_data"
    }
   ],
   "source": [
    "#plotting verification status\n",
    "sns.histplot(data.verification_status)\n",
    "\n",
    "#Observation\n",
    "#1- Most of the borrowers have their Income not verified by LC"
   ]
  },
  {
   "cell_type": "code",
   "execution_count": null,
   "metadata": {
    "colab": {
     "base_uri": "https://localhost:8080/",
     "height": 298
    },
    "executionInfo": {
     "elapsed": 1391,
     "status": "ok",
     "timestamp": 1670427827350,
     "user": {
      "displayName": "aman maurya",
      "userId": "06203795675099361363"
     },
     "user_tz": -330
    },
    "id": "LfLIwWp8s0rV",
    "outputId": "f0ef7c16-231e-4d15-9c7a-3c87222ca996"
   },
   "outputs": [
    {
     "data": {
      "text/plain": [
       "<matplotlib.axes._subplots.AxesSubplot at 0x7f4fd88df580>"
      ]
     },
     "execution_count": 297,
     "metadata": {},
     "output_type": "execute_result"
    },
    {
     "data": {
      "image/png": "[encoded data removed]",
      "text/plain": [
       "<Figure size 432x288 with 1 Axes>"
      ]
     },
     "metadata": {
      "needs_background": "light"
     },
     "output_type": "display_data"
    }
   ],
   "source": [
    "#plotting loan status\n",
    "sns.histplot(data.loan_status)\n",
    "\n",
    "#Observation\n",
    "#1- Most of the loans are fully paid\n",
    "#2- Charged off rate is low relative to fully paid loans"
   ]
  },
  {
   "cell_type": "code",
   "execution_count": null,
   "metadata": {
    "colab": {
     "base_uri": "https://localhost:8080/",
     "height": 266
    },
    "executionInfo": {
     "elapsed": 22,
     "status": "ok",
     "timestamp": 1670427827351,
     "user": {
      "displayName": "aman maurya",
      "userId": "06203795675099361363"
     },
     "user_tz": -330
    },
    "id": "mhS021lAs5oY",
    "outputId": "e12b778b-cba3-464b-b69c-56eadf78dcad"
   },
   "outputs": [
    {
     "data": {
      "text/plain": [
       "<matplotlib.axes._subplots.AxesSubplot at 0x7f4fd893dc70>"
      ]
     },
     "execution_count": 298,
     "metadata": {},
     "output_type": "execute_result"
    },
    {
     "data": {
      "image/png": "[encoded data removed]",
      "text/plain": [
       "<Figure size 432x288 with 1 Axes>"
      ]
     },
     "metadata": {},
     "output_type": "display_data"
    }
   ],
   "source": [
    "#plotting loan status as pie chart\n",
    "data.loan_status.value_counts().plot.pie()\n",
    "\n",
    "#Observation\n",
    "#1- More than 75% of the loans are fully paid."
   ]
  },
  {
   "cell_type": "code",
   "execution_count": null,
   "metadata": {
    "colab": {
     "base_uri": "https://localhost:8080/",
     "height": 405
    },
    "executionInfo": {
     "elapsed": 18,
     "status": "ok",
     "timestamp": 1670427827352,
     "user": {
      "displayName": "aman maurya",
      "userId": "06203795675099361363"
     },
     "user_tz": -330
    },
    "id": "gLNf14f7tABC",
    "outputId": "e48e0133-9c0a-4940-a838-756a4933f22b"
   },
   "outputs": [
    {
     "data": {
      "text/plain": [
       "([0, 1, 2, 3, 4, 5, 6, 7, 8, 9, 10, 11, 12, 13],\n",
       " <a list of 14 Text major ticklabel objects>)"
      ]
     },
     "execution_count": 299,
     "metadata": {},
     "output_type": "execute_result"
    },
    {
     "data": {
      "image/png": "[encoded data removed]",
      "text/plain": [
       "<Figure size 432x288 with 1 Axes>"
      ]
     },
     "metadata": {
      "needs_background": "light"
     },
     "output_type": "display_data"
    }
   ],
   "source": [
    "#plotting purpose of the loan\n",
    "sns.histplot(data.purpose)\n",
    "plt.xticks(rotation=90)\n",
    "\n",
    "#Observation\n",
    "#1- Maximum number of loans are applied for the purpose of debt consolidation\n",
    "#2- 2nd most applied purpose of loan is credit card"
   ]
  },
  {
   "cell_type": "code",
   "execution_count": null,
   "metadata": {
    "colab": {
     "base_uri": "https://localhost:8080/",
     "height": 266
    },
    "executionInfo": {
     "elapsed": 14,
     "status": "ok",
     "timestamp": 1670427827352,
     "user": {
      "displayName": "aman maurya",
      "userId": "06203795675099361363"
     },
     "user_tz": -330
    },
    "id": "GCXbq1QEtGHp",
    "outputId": "8f7ab0dc-4416-4dbd-9de0-c965b23e4a35"
   },
   "outputs": [
    {
     "data": {
      "text/plain": [
       "<matplotlib.axes._subplots.AxesSubplot at 0x7f4fd9dbcb20>"
      ]
     },
     "execution_count": 300,
     "metadata": {},
     "output_type": "execute_result"
    },
    {
     "data": {
      "image/png": "[encoded data removed]",
      "text/plain": [
       "<Figure size 432x288 with 1 Axes>"
      ]
     },
     "metadata": {},
     "output_type": "display_data"
    }
   ],
   "source": [
    "#plotting purpose of the loan as pie chart\n",
    "data.purpose.value_counts().plot.pie()\n",
    "\n",
    "#Observation\n",
    "#1- More than 40% of the loans are applied with the purpose of debt consolidation\n"
   ]
  },
  {
   "cell_type": "code",
   "execution_count": null,
   "metadata": {
    "colab": {
     "base_uri": "https://localhost:8080/",
     "height": 504
    },
    "executionInfo": {
     "elapsed": 703,
     "status": "ok",
     "timestamp": 1670427828045,
     "user": {
      "displayName": "aman maurya",
      "userId": "06203795675099361363"
     },
     "user_tz": -330
    },
    "id": "M3jjlw6wtOC1",
    "outputId": "f845e0a2-8397-4c57-9a1d-db34f5d688de"
   },
   "outputs": [
    {
     "data": {
      "image/png": "[encoded data removed]",
      "text/plain": [
       "<Figure size 864x576 with 1 Axes>"
      ]
     },
     "metadata": {
      "needs_background": "light"
     },
     "output_type": "display_data"
    }
   ],
   "source": [
    "#plotting address state\n",
    "plt.figure(figsize=(12,8))\n",
    "sns.histplot(data.addr_state)\n",
    "plt.xticks(rotation=90)\n",
    "plt.show()\n",
    "\n",
    "#Observation\n",
    "#1- Top 3 states for loan applications are CA,NY and FL\n",
    "#2- Loan applications from CA are relatively high with respect to the NY and FL"
   ]
  },
  {
   "cell_type": "code",
   "execution_count": null,
   "metadata": {
    "colab": {
     "base_uri": "https://localhost:8080/",
     "height": 353
    },
    "executionInfo": {
     "elapsed": 15,
     "status": "ok",
     "timestamp": 1670427828046,
     "user": {
      "displayName": "aman maurya",
      "userId": "06203795675099361363"
     },
     "user_tz": -330
    },
    "id": "Zr47mPi3tUxs",
    "outputId": "3ab7e02a-7758-4c45-ec74-d8c78b8fdd51"
   },
   "outputs": [
    {
     "name": "stderr",
     "output_type": "stream",
     "text": [
      "/usr/local/lib/python3.8/dist-packages/seaborn/_decorators.py:36: FutureWarning: Pass the following variable as a keyword arg: x. From version 0.12, the only valid positional argument will be `data`, and passing other arguments without an explicit keyword will result in an error or misinterpretation.\n",
      "  warnings.warn(\n"
     ]
    },
    {
     "data": {
      "text/plain": [
       "<matplotlib.axes._subplots.AxesSubplot at 0x7f4fd9f6e8e0>"
      ]
     },
     "execution_count": 302,
     "metadata": {},
     "output_type": "execute_result"
    },
    {
     "data": {
      "image/png": "[encoded data removed]",
      "text/plain": [
       "<Figure size 432x288 with 1 Axes>"
      ]
     },
     "metadata": {
      "needs_background": "light"
     },
     "output_type": "display_data"
    }
   ],
   "source": [
    "#plotting dti\n",
    "sns.boxplot(data.dti)\n",
    "\n",
    "#Observation\n",
    "#1- Most of the values lie between 7.25 to 18"
   ]
  },
  {
   "cell_type": "code",
   "execution_count": null,
   "metadata": {
    "colab": {
     "base_uri": "https://localhost:8080/",
     "height": 283
    },
    "executionInfo": {
     "elapsed": 1020,
     "status": "ok",
     "timestamp": 1670427829061,
     "user": {
      "displayName": "aman maurya",
      "userId": "06203795675099361363"
     },
     "user_tz": -330
    },
    "id": "Ma7mPdNQtpew",
    "outputId": "e38a1d09-8650-4cff-be06-538bb6c09152"
   },
   "outputs": [
    {
     "data": {
      "text/plain": [
       "<matplotlib.axes._subplots.AxesSubplot at 0x7f4fdd4afca0>"
      ]
     },
     "execution_count": 303,
     "metadata": {},
     "output_type": "execute_result"
    },
    {
     "data": {
      "image/png": "[encoded data removed]",
      "text/plain": [
       "<Figure size 432x288 with 1 Axes>"
      ]
     },
     "metadata": {
      "needs_background": "light"
     },
     "output_type": "display_data"
    }
   ],
   "source": [
    "#plotting dti as line graph\n",
    "data['dti'].plot(kind='kde')\n",
    "\n",
    "#Observation\n",
    "#1- Dti data s evenly spread throughout"
   ]
  },
  {
   "cell_type": "code",
   "execution_count": null,
   "metadata": {
    "colab": {
     "base_uri": "https://localhost:8080/",
     "height": 298
    },
    "executionInfo": {
     "elapsed": 632,
     "status": "ok",
     "timestamp": 1670427829683,
     "user": {
      "displayName": "aman maurya",
      "userId": "06203795675099361363"
     },
     "user_tz": -330
    },
    "id": "a43NAB6UtZ1v",
    "outputId": "23f4e7bc-7e7a-4e33-ab68-08e640d4ee31"
   },
   "outputs": [
    {
     "data": {
      "text/plain": [
       "<matplotlib.axes._subplots.AxesSubplot at 0x7f4fdd5aa280>"
      ]
     },
     "execution_count": 304,
     "metadata": {},
     "output_type": "execute_result"
    },
    {
     "data": {
      "image/png": "[encoded data removed]",
      "text/plain": [
       "<Figure size 432x288 with 1 Axes>"
      ]
     },
     "metadata": {
      "needs_background": "light"
     },
     "output_type": "display_data"
    }
   ],
   "source": [
    "#plotting year of issue of the loan\n",
    "sns.histplot(data.issue_d_year)\n",
    "\n",
    "#Observation\n",
    "#1- Most of the loans are borrowed during 2011\n",
    "#2- the no of loan application increases each year"
   ]
  },
  {
   "cell_type": "code",
   "execution_count": null,
   "metadata": {
    "colab": {
     "base_uri": "https://localhost:8080/",
     "height": 298
    },
    "executionInfo": {
     "elapsed": 102,
     "status": "ok",
     "timestamp": 1670427829687,
     "user": {
      "displayName": "aman maurya",
      "userId": "06203795675099361363"
     },
     "user_tz": -330
    },
    "id": "FIn6viuTtfTD",
    "outputId": "370f7e08-81f8-49db-d9b2-f160df7f015e"
   },
   "outputs": [
    {
     "data": {
      "text/plain": [
       "<matplotlib.axes._subplots.AxesSubplot at 0x7f4fdd434040>"
      ]
     },
     "execution_count": 305,
     "metadata": {},
     "output_type": "execute_result"
    },
    {
     "data": {
      "image/png": "[encoded data removed]",
      "text/plain": [
       "<Figure size 432x288 with 1 Axes>"
      ]
     },
     "metadata": {
      "needs_background": "light"
     },
     "output_type": "display_data"
    }
   ],
   "source": [
    "#plottig issue month\n",
    "sns.histplot(data.issue_d_month)\n",
    "\n",
    "#Observation\n",
    "#1- loan application increase thorughout the year\n"
   ]
  },
  {
   "cell_type": "code",
   "execution_count": null,
   "metadata": {
    "colab": {
     "base_uri": "https://localhost:8080/",
     "height": 354
    },
    "executionInfo": {
     "elapsed": 83,
     "status": "ok",
     "timestamp": 1670427829689,
     "user": {
      "displayName": "aman maurya",
      "userId": "06203795675099361363"
     },
     "user_tz": -330
    },
    "id": "sgwAk48JtmVO",
    "outputId": "928c0ef3-20c9-451e-9fe3-00edcc8e8684"
   },
   "outputs": [
    {
     "name": "stderr",
     "output_type": "stream",
     "text": [
      "/usr/local/lib/python3.8/dist-packages/seaborn/_decorators.py:36: FutureWarning: Pass the following variable as a keyword arg: x. From version 0.12, the only valid positional argument will be `data`, and passing other arguments without an explicit keyword will result in an error or misinterpretation.\n",
      "  warnings.warn(\n"
     ]
    },
    {
     "data": {
      "text/plain": [
       "<matplotlib.axes._subplots.AxesSubplot at 0x7f4fd9e63d00>"
      ]
     },
     "execution_count": 306,
     "metadata": {},
     "output_type": "execute_result"
    },
    {
     "data": {
      "image/png": "[encoded data removed]",
      "text/plain": [
       "<Figure size 432x288 with 1 Axes>"
      ]
     },
     "metadata": {
      "needs_background": "light"
     },
     "output_type": "display_data"
    }
   ],
   "source": [
    "#plotting annual income of borrowers\n",
    "sns.boxplot(data.annual_inc)\n",
    "\n",
    "#Observation\n",
    "#1- There are some borrowers with relatively high annual income.\n",
    "#2- The annual income of most of the borrowers is low."
   ]
  },
  {
   "cell_type": "code",
   "execution_count": null,
   "metadata": {
    "colab": {
     "base_uri": "https://localhost:8080/"
    },
    "executionInfo": {
     "elapsed": 73,
     "status": "ok",
     "timestamp": 1670427829691,
     "user": {
      "displayName": "aman maurya",
      "userId": "06203795675099361363"
     },
     "user_tz": -330
    },
    "id": "UU9u4J8muXH0",
    "outputId": "0cac8e59-6edb-4d76-94ac-2da4bafb4d55"
   },
   "outputs": [
    {
     "data": {
      "text/plain": [
       "count    3.783900e+04\n",
       "mean     6.763401e+04\n",
       "std      6.343049e+04\n",
       "min      4.000000e+03\n",
       "25%      4.000000e+04\n",
       "50%      5.780000e+04\n",
       "75%      8.000000e+04\n",
       "max      6.000000e+06\n",
       "Name: annual_inc, dtype: float64"
      ]
     },
     "execution_count": 307,
     "metadata": {},
     "output_type": "execute_result"
    }
   ],
   "source": [
    "#cleaning the annual_inc column.\n",
    "#here we see the data has some outliers which seems to be an extreme high value.\n",
    "data.annual_inc.describe()"
   ]
  },
  {
   "cell_type": "code",
   "execution_count": null,
   "metadata": {
    "id": "AIMzYwXWwGl6"
   },
   "outputs": [],
   "source": [
    "#cleaning the data by dropping the outlier\n",
    "data = data[data['annual_inc']<data['annual_inc'].quantile(0.99)]"
   ]
  },
  {
   "cell_type": "code",
   "execution_count": null,
   "metadata": {
    "colab": {
     "base_uri": "https://localhost:8080/",
     "height": 354
    },
    "executionInfo": {
     "elapsed": 65,
     "status": "ok",
     "timestamp": 1670427829693,
     "user": {
      "displayName": "aman maurya",
      "userId": "06203795675099361363"
     },
     "user_tz": -330
    },
    "id": "izrFENfywzvv",
    "outputId": "ba0a841c-1560-4c39-e2a1-1fcf5e182199"
   },
   "outputs": [
    {
     "name": "stderr",
     "output_type": "stream",
     "text": [
      "/usr/local/lib/python3.8/dist-packages/seaborn/_decorators.py:36: FutureWarning: Pass the following variable as a keyword arg: x. From version 0.12, the only valid positional argument will be `data`, and passing other arguments without an explicit keyword will result in an error or misinterpretation.\n",
      "  warnings.warn(\n"
     ]
    },
    {
     "data": {
      "text/plain": [
       "<matplotlib.axes._subplots.AxesSubplot at 0x7f4fdd69fe20>"
      ]
     },
     "execution_count": 309,
     "metadata": {},
     "output_type": "execute_result"
    },
    {
     "data": {
      "image/png": "[encoded data removed]",
      "text/plain": [
       "<Figure size 432x288 with 1 Axes>"
      ]
     },
     "metadata": {
      "needs_background": "light"
     },
     "output_type": "display_data"
    }
   ],
   "source": [
    "#plotting annual income again\n",
    "sns.boxplot(data.annual_inc)\n",
    "\n",
    "#Observation\n",
    "#1- Most of the borrowers have annual income between 40000 to 80000"
   ]
  },
  {
   "cell_type": "code",
   "execution_count": null,
   "metadata": {
    "id": "6e13ZZfS1WQx"
   },
   "outputs": [],
   "source": [
    "#Manual function for binning annual Income\n",
    "def bin(x):\n",
    "  data=x.annual_inc\n",
    "  if data < 20000:\n",
    "    return '<20000'\n",
    "  elif data>=20000 and data <40000:\n",
    "    return '<40000'\n",
    "  elif data>=40000 and data <60000:\n",
    "    return '<60000'\n",
    "  elif data>=60000 and data <80000:\n",
    "    return '<80000'\n",
    "  elif data>=80000 and data <100000:\n",
    "    return '<100000'\n",
    "  elif data>=100000 and data <120000:\n",
    "    return '<120000'\n",
    "  elif data>=120000:\n",
    "    return '>=120000'"
   ]
  },
  {
   "cell_type": "code",
   "execution_count": null,
   "metadata": {
    "id": "HzRbYQ0A1azi"
   },
   "outputs": [],
   "source": [
    "#binning the annual_inc column to get a better view of the data\n",
    "data['binned_annual_inc'] = data.apply(bin,axis=1)"
   ]
  },
  {
   "cell_type": "code",
   "execution_count": null,
   "metadata": {
    "colab": {
     "base_uri": "https://localhost:8080/",
     "height": 343
    },
    "executionInfo": {
     "elapsed": 692,
     "status": "ok",
     "timestamp": 1670427830869,
     "user": {
      "displayName": "aman maurya",
      "userId": "06203795675099361363"
     },
     "user_tz": -330
    },
    "id": "U-lLEgUT0Ybv",
    "outputId": "5bdb5110-1543-43b5-8560-c4817d4e858f"
   },
   "outputs": [
    {
     "data": {
      "text/plain": [
       "([0, 1, 2, 3, 4, 5, 6], <a list of 7 Text major ticklabel objects>)"
      ]
     },
     "execution_count": 312,
     "metadata": {},
     "output_type": "execute_result"
    },
    {
     "data": {
      "image/png": "[encoded data removed]",
      "text/plain": [
       "<Figure size 432x288 with 1 Axes>"
      ]
     },
     "metadata": {
      "needs_background": "light"
     },
     "output_type": "display_data"
    }
   ],
   "source": [
    "sns.histplot(data['binned_annual_inc'])\n",
    "plt.xticks(rotation = 90)\n",
    "\n",
    "#Observation\n",
    "#1- Most of the borrowers have annual income between 40000 to 60000\n",
    "#2- Very few borrowers have annual income less than 20000\n",
    "#3- Average annual income of borrowers is in the range 20000 to 80000"
   ]
  },
  {
   "cell_type": "markdown",
   "metadata": {
    "id": "_uG_k43y2N91"
   },
   "source": [
    "## Segmented Univariate and Bivariate Analysis"
   ]
  },
  {
   "cell_type": "code",
   "execution_count": null,
   "metadata": {
    "colab": {
     "base_uri": "https://localhost:8080/",
     "height": 618
    },
    "executionInfo": {
     "elapsed": 1015,
     "status": "ok",
     "timestamp": 1670427831874,
     "user": {
      "displayName": "aman maurya",
      "userId": "06203795675099361363"
     },
     "user_tz": -330
    },
    "id": "MbbZI1rW015U",
    "outputId": "b668b86f-f5c0-4c41-dee3-7b3267870a66"
   },
   "outputs": [
    {
     "data": {
      "image/png": "[encoded data removed]",
      "text/plain": [
       "<Figure size 864x648 with 2 Axes>"
      ]
     },
     "metadata": {
      "needs_background": "light"
     },
     "output_type": "display_data"
    }
   ],
   "source": [
    "#plotting correlation on a heatmap\n",
    "plt.figure(figsize=(12,9))\n",
    "sns.heatmap(data.corr(),annot=True,cmap='Greens')\n",
    "plt.show()\n",
    "\n",
    "#Observation\n",
    "#1- We can cluster loan amount, funded amount and funded amount invested as they are highly correlated.\n",
    "#2- dti is slightly inversely correlated to annual income.\n",
    "#3- Annual income is lightly correlated with loan amount,funded amount and funded amount invested."
   ]
  },
  {
   "cell_type": "code",
   "execution_count": null,
   "metadata": {
    "colab": {
     "base_uri": "https://localhost:8080/",
     "height": 722
    },
    "executionInfo": {
     "elapsed": 785,
     "status": "ok",
     "timestamp": 1670427832656,
     "user": {
      "displayName": "aman maurya",
      "userId": "06203795675099361363"
     },
     "user_tz": -330
    },
    "id": "Licfe8T62d5R",
    "outputId": "6ac4aafe-7af6-46ff-d883-017c5d23d1bd"
   },
   "outputs": [
    {
     "data": {
      "image/png": "[encoded data removed]",
      "text/plain": [
       "<Figure size 1440x864 with 1 Axes>"
      ]
     },
     "metadata": {
      "needs_background": "light"
     },
     "output_type": "display_data"
    }
   ],
   "source": [
    "#plotting address state with respect to loan status\n",
    "plt.figure(figsize=[20,12])\n",
    "sns.countplot(data=data,x='addr_state',hue = 'loan_status')\n",
    "plt.xticks(rotation = 90)\n",
    "plt.show()\n",
    "\n",
    "#Observation\n",
    "#1- Most amount of charged off loans are from CA, NY and FL\n"
   ]
  },
  {
   "cell_type": "code",
   "execution_count": null,
   "metadata": {
    "colab": {
     "base_uri": "https://localhost:8080/",
     "height": 297
    },
    "executionInfo": {
     "elapsed": 39,
     "status": "ok",
     "timestamp": 1670427832657,
     "user": {
      "displayName": "aman maurya",
      "userId": "06203795675099361363"
     },
     "user_tz": -330
    },
    "id": "JJI6onmG3Txv",
    "outputId": "77de0fb8-8ec9-42f6-cf55-e3a2428a15f7"
   },
   "outputs": [
    {
     "data": {
      "text/plain": [
       "<matplotlib.axes._subplots.AxesSubplot at 0x7f4fda10cf40>"
      ]
     },
     "execution_count": 315,
     "metadata": {},
     "output_type": "execute_result"
    },
    {
     "data": {
      "image/png": "[encoded data removed]",
      "text/plain": [
       "<Figure size 432x288 with 1 Axes>"
      ]
     },
     "metadata": {
      "needs_background": "light"
     },
     "output_type": "display_data"
    }
   ],
   "source": [
    "#plotting term with respect to loan status\n",
    "sns.countplot(x=\"term\",data=data, \n",
    "              palette=\"hls\", \n",
    "              hue = \"loan_status\")\n",
    "\n",
    "#Observation\n",
    "#1- Charge off rate for term of 60 months is higher than loans of 36 months term.\n",
    "#2- We can say that the higher term loans are more likely to charge off. "
   ]
  },
  {
   "cell_type": "code",
   "execution_count": null,
   "metadata": {
    "colab": {
     "base_uri": "https://localhost:8080/",
     "height": 299
    },
    "executionInfo": {
     "elapsed": 29,
     "status": "ok",
     "timestamp": 1670427832658,
     "user": {
      "displayName": "aman maurya",
      "userId": "06203795675099361363"
     },
     "user_tz": -330
    },
    "id": "oW-4UV3R3crb",
    "outputId": "440f7f75-9d82-41ba-9403-606a2a860359"
   },
   "outputs": [
    {
     "data": {
      "text/plain": [
       "<matplotlib.axes._subplots.AxesSubplot at 0x7f4fd8538ee0>"
      ]
     },
     "execution_count": 316,
     "metadata": {},
     "output_type": "execute_result"
    },
    {
     "data": {
      "image/png": "[encoded data removed]",
      "text/plain": [
       "<Figure size 432x288 with 1 Axes>"
      ]
     },
     "metadata": {
      "needs_background": "light"
     },
     "output_type": "display_data"
    }
   ],
   "source": [
    "#plotting home ownership with respect to loan status\n",
    "sns.countplot(data=data,x='home_ownership',hue = 'loan_status')\n",
    "\n",
    "#Observation\n",
    "#1- Borrowers having home ownership as rent or mortgage are more likely to charge off."
   ]
  },
  {
   "cell_type": "code",
   "execution_count": null,
   "metadata": {
    "colab": {
     "base_uri": "https://localhost:8080/",
     "height": 354
    },
    "executionInfo": {
     "elapsed": 1107,
     "status": "ok",
     "timestamp": 1670427833743,
     "user": {
      "displayName": "aman maurya",
      "userId": "06203795675099361363"
     },
     "user_tz": -330
    },
    "id": "8NLK0hFE3fqX",
    "outputId": "7dd9296b-5ab5-4dce-94a7-d45b64302f6b"
   },
   "outputs": [
    {
     "name": "stderr",
     "output_type": "stream",
     "text": [
      "/usr/local/lib/python3.8/dist-packages/seaborn/_decorators.py:36: FutureWarning: Pass the following variables as keyword args: x, y. From version 0.12, the only valid positional argument will be `data`, and passing other arguments without an explicit keyword will result in an error or misinterpretation.\n",
      "  warnings.warn(\n"
     ]
    },
    {
     "data": {
      "text/plain": [
       "<matplotlib.axes._subplots.AxesSubplot at 0x7f4fd84a4580>"
      ]
     },
     "execution_count": 317,
     "metadata": {},
     "output_type": "execute_result"
    },
    {
     "data": {
      "image/png": "[encoded data removed]",
      "text/plain": [
       "<Figure size 432x288 with 1 Axes>"
      ]
     },
     "metadata": {
      "needs_background": "light"
     },
     "output_type": "display_data"
    }
   ],
   "source": [
    "#plotting issue month with respect to loan status\n",
    "sns.boxplot(data.loan_status,data.issue_d_month)\n",
    "\n",
    "#Observation\n",
    "#1- Most of the charged off loans are borrowed in months may to october"
   ]
  },
  {
   "cell_type": "code",
   "execution_count": null,
   "metadata": {
    "colab": {
     "base_uri": "https://localhost:8080/",
     "height": 355
    },
    "executionInfo": {
     "elapsed": 29,
     "status": "ok",
     "timestamp": 1670427833745,
     "user": {
      "displayName": "aman maurya",
      "userId": "06203795675099361363"
     },
     "user_tz": -330
    },
    "id": "Uhlm04ej3shH",
    "outputId": "75a07b0b-0754-4087-f642-0ea085c7f313"
   },
   "outputs": [
    {
     "name": "stderr",
     "output_type": "stream",
     "text": [
      "/usr/local/lib/python3.8/dist-packages/seaborn/_decorators.py:36: FutureWarning: Pass the following variables as keyword args: x, y. From version 0.12, the only valid positional argument will be `data`, and passing other arguments without an explicit keyword will result in an error or misinterpretation.\n",
      "  warnings.warn(\n"
     ]
    },
    {
     "data": {
      "text/plain": [
       "<matplotlib.axes._subplots.AxesSubplot at 0x7f4fd84a4e20>"
      ]
     },
     "execution_count": 318,
     "metadata": {},
     "output_type": "execute_result"
    },
    {
     "data": {
      "image/png": "[encoded data removed]",
      "text/plain": [
       "<Figure size 432x288 with 1 Axes>"
      ]
     },
     "metadata": {
      "needs_background": "light"
     },
     "output_type": "display_data"
    }
   ],
   "source": [
    "#plotting interest rate with respect to loan status\n",
    "sns.boxplot(data.loan_status,data.int_rate)\n",
    "\n",
    "#Observation\n",
    "#1- Loans with high interest rate are more likely to charge off.\n",
    "#2- Most of the loans tht charge off have interest rate between 12 to 17"
   ]
  },
  {
   "cell_type": "code",
   "execution_count": null,
   "metadata": {
    "colab": {
     "base_uri": "https://localhost:8080/",
     "height": 488
    },
    "executionInfo": {
     "elapsed": 5,
     "status": "ok",
     "timestamp": 1670428653526,
     "user": {
      "displayName": "aman maurya",
      "userId": "06203795675099361363"
     },
     "user_tz": -330
    },
    "id": "pgaRraYc302y",
    "outputId": "d2b6a896-4876-458f-da95-65e691ec6bd7"
   },
   "outputs": [
    {
     "data": {
      "text/html": [
       "\n",
       "  <div id=\"df-51e3f4aa-c433-4982-8992-defef94e7b73\">\n",
       "    <div class=\"colab-df-container\">\n",
       "      <div>\n",
       "<style scoped>\n",
       "    .dataframe tbody tr th:only-of-type {\n",
       "        vertical-align: middle;\n",
       "    }\n",
       "\n",
       "    .dataframe tbody tr th {\n",
       "        vertical-align: top;\n",
       "    }\n",
       "\n",
       "    .dataframe thead th {\n",
       "        text-align: right;\n",
       "    }\n",
       "</style>\n",
       "<table border=\"1\" class=\"dataframe\">\n",
       "  <thead>\n",
       "    <tr style=\"text-align: right;\">\n",
       "      <th>loan_status</th>\n",
       "      <th>purpose</th>\n",
       "      <th>Charged Off</th>\n",
       "      <th>Fully Paid</th>\n",
       "      <th>Charged_Off_rate</th>\n",
       "    </tr>\n",
       "  </thead>\n",
       "  <tbody>\n",
       "    <tr>\n",
       "      <th>0</th>\n",
       "      <td>car</td>\n",
       "      <td>160</td>\n",
       "      <td>1329</td>\n",
       "      <td>0.107455</td>\n",
       "    </tr>\n",
       "    <tr>\n",
       "      <th>1</th>\n",
       "      <td>credit_card</td>\n",
       "      <td>522</td>\n",
       "      <td>4387</td>\n",
       "      <td>0.106335</td>\n",
       "    </tr>\n",
       "    <tr>\n",
       "      <th>2</th>\n",
       "      <td>debt_consolidation</td>\n",
       "      <td>2651</td>\n",
       "      <td>14860</td>\n",
       "      <td>0.151391</td>\n",
       "    </tr>\n",
       "    <tr>\n",
       "      <th>3</th>\n",
       "      <td>educational</td>\n",
       "      <td>55</td>\n",
       "      <td>268</td>\n",
       "      <td>0.170279</td>\n",
       "    </tr>\n",
       "    <tr>\n",
       "      <th>4</th>\n",
       "      <td>home_improvement</td>\n",
       "      <td>327</td>\n",
       "      <td>2388</td>\n",
       "      <td>0.120442</td>\n",
       "    </tr>\n",
       "    <tr>\n",
       "      <th>5</th>\n",
       "      <td>house</td>\n",
       "      <td>54</td>\n",
       "      <td>293</td>\n",
       "      <td>0.155620</td>\n",
       "    </tr>\n",
       "    <tr>\n",
       "      <th>6</th>\n",
       "      <td>major_purchase</td>\n",
       "      <td>219</td>\n",
       "      <td>1890</td>\n",
       "      <td>0.103841</td>\n",
       "    </tr>\n",
       "    <tr>\n",
       "      <th>7</th>\n",
       "      <td>medical</td>\n",
       "      <td>104</td>\n",
       "      <td>565</td>\n",
       "      <td>0.155456</td>\n",
       "    </tr>\n",
       "    <tr>\n",
       "      <th>8</th>\n",
       "      <td>moving</td>\n",
       "      <td>91</td>\n",
       "      <td>476</td>\n",
       "      <td>0.160494</td>\n",
       "    </tr>\n",
       "    <tr>\n",
       "      <th>9</th>\n",
       "      <td>other</td>\n",
       "      <td>617</td>\n",
       "      <td>3172</td>\n",
       "      <td>0.162840</td>\n",
       "    </tr>\n",
       "    <tr>\n",
       "      <th>10</th>\n",
       "      <td>renewable_energy</td>\n",
       "      <td>19</td>\n",
       "      <td>80</td>\n",
       "      <td>0.191919</td>\n",
       "    </tr>\n",
       "    <tr>\n",
       "      <th>11</th>\n",
       "      <td>small_business</td>\n",
       "      <td>442</td>\n",
       "      <td>1204</td>\n",
       "      <td>0.268530</td>\n",
       "    </tr>\n",
       "    <tr>\n",
       "      <th>12</th>\n",
       "      <td>vacation</td>\n",
       "      <td>53</td>\n",
       "      <td>322</td>\n",
       "      <td>0.141333</td>\n",
       "    </tr>\n",
       "    <tr>\n",
       "      <th>13</th>\n",
       "      <td>wedding</td>\n",
       "      <td>92</td>\n",
       "      <td>817</td>\n",
       "      <td>0.101210</td>\n",
       "    </tr>\n",
       "  </tbody>\n",
       "</table>\n",
       "</div>\n",
       "      <button class=\"colab-df-convert\" onclick=\"convertToInteractive('df-51e3f4aa-c433-4982-8992-defef94e7b73')\"\n",
       "              title=\"Convert this dataframe to an interactive table.\"\n",
       "              style=\"display:none;\">\n",
       "        \n",
       "  <svg xmlns=\"http://www.w3.org/2000/svg\" height=\"24px\"viewBox=\"0 0 24 24\"\n",
       "       width=\"24px\">\n",
       "    <path d=\"M0 0h24v24H0V0z\" fill=\"none\"/>\n",
       "    <path d=\"M18.56 5.44l.94 2.06.94-2.06 2.06-.94-2.06-.94-.94-2.06-.94 2.06-2.06.94zm-11 1L8.5 8.5l.94-2.06 2.06-.94-2.06-.94L8.5 2.5l-.94 2.06-2.06.94zm10 10l.94 2.06.94-2.06 2.06-.94-2.06-.94-.94-2.06-.94 2.06-2.06.94z\"/><path d=\"M17.41 7.96l-1.37-1.37c-.4-.4-.92-.59-1.43-.59-.52 0-1.04.2-1.43.59L10.3 9.45l-7.72 7.72c-.78.78-.78 2.05 0 2.83L4 21.41c.39.39.9.59 1.41.59.51 0 1.02-.2 1.41-.59l7.78-7.78 2.81-2.81c.8-.78.8-2.07 0-2.86zM5.41 20L4 18.59l7.72-7.72 1.47 1.35L5.41 20z\"/>\n",
       "  </svg>\n",
       "      </button>\n",
       "      \n",
       "  <style>\n",
       "    .colab-df-container {\n",
       "      display:flex;\n",
       "      flex-wrap:wrap;\n",
       "      gap: 12px;\n",
       "    }\n",
       "\n",
       "    .colab-df-convert {\n",
       "      background-color: #E8F0FE;\n",
       "      border: none;\n",
       "      border-radius: 50%;\n",
       "      cursor: pointer;\n",
       "      display: none;\n",
       "      fill: #1967D2;\n",
       "      height: 32px;\n",
       "      padding: 0 0 0 0;\n",
       "      width: 32px;\n",
       "    }\n",
       "\n",
       "    .colab-df-convert:hover {\n",
       "      background-color: #E2EBFA;\n",
       "      box-shadow: 0px 1px 2px rgba(60, 64, 67, 0.3), 0px 1px 3px 1px rgba(60, 64, 67, 0.15);\n",
       "      fill: #174EA6;\n",
       "    }\n",
       "\n",
       "    [theme=dark] .colab-df-convert {\n",
       "      background-color: #3B4455;\n",
       "      fill: #D2E3FC;\n",
       "    }\n",
       "\n",
       "    [theme=dark] .colab-df-convert:hover {\n",
       "      background-color: #434B5C;\n",
       "      box-shadow: 0px 1px 3px 1px rgba(0, 0, 0, 0.15);\n",
       "      filter: drop-shadow(0px 1px 2px rgba(0, 0, 0, 0.3));\n",
       "      fill: #FFFFFF;\n",
       "    }\n",
       "  </style>\n",
       "\n",
       "      <script>\n",
       "        const buttonEl =\n",
       "          document.querySelector('#df-51e3f4aa-c433-4982-8992-defef94e7b73 button.colab-df-convert');\n",
       "        buttonEl.style.display =\n",
       "          google.colab.kernel.accessAllowed ? 'block' : 'none';\n",
       "\n",
       "        async function convertToInteractive(key) {\n",
       "          const element = document.querySelector('#df-51e3f4aa-c433-4982-8992-defef94e7b73');\n",
       "          const dataTable =\n",
       "            await google.colab.kernel.invokeFunction('convertToInteractive',\n",
       "                                                     [key], {});\n",
       "          if (!dataTable) return;\n",
       "\n",
       "          const docLinkHtml = 'Like what you see? Visit the ' +\n",
       "            '<a target=\"_blank\" href=https://colab.research.google.com/notebooks/data_table.ipynb>data table notebook</a>'\n",
       "            + ' to learn more about interactive tables.';\n",
       "          element.innerHTML = '';\n",
       "          dataTable['output_type'] = 'display_data';\n",
       "          await google.colab.output.renderOutput(dataTable, element);\n",
       "          const docLink = document.createElement('div');\n",
       "          docLink.innerHTML = docLinkHtml;\n",
       "          element.appendChild(docLink);\n",
       "        }\n",
       "      </script>\n",
       "    </div>\n",
       "  </div>\n",
       "  "
      ],
      "text/plain": [
       "loan_status             purpose  Charged Off  Fully Paid  Charged_Off_rate\n",
       "0                           car          160        1329          0.107455\n",
       "1                   credit_card          522        4387          0.106335\n",
       "2            debt_consolidation         2651       14860          0.151391\n",
       "3                   educational           55         268          0.170279\n",
       "4              home_improvement          327        2388          0.120442\n",
       "5                         house           54         293          0.155620\n",
       "6                major_purchase          219        1890          0.103841\n",
       "7                       medical          104         565          0.155456\n",
       "8                        moving           91         476          0.160494\n",
       "9                         other          617        3172          0.162840\n",
       "10             renewable_energy           19          80          0.191919\n",
       "11               small_business          442        1204          0.268530\n",
       "12                     vacation           53         322          0.141333\n",
       "13                      wedding           92         817          0.101210"
      ]
     },
     "execution_count": 343,
     "metadata": {},
     "output_type": "execute_result"
    }
   ],
   "source": [
    "#Analysing purpose with respect to loan status\n",
    "data2 = data.groupby(by=['purpose','loan_status']).loan_status.count().unstack().fillna(0).reset_index()\n",
    "data2['Charged_Off_rate'] = data2['Charged Off']/(data2['Charged Off']+data2['Fully Paid'])\n",
    "data2"
   ]
  },
  {
   "cell_type": "code",
   "execution_count": null,
   "metadata": {
    "colab": {
     "base_uri": "https://localhost:8080/",
     "height": 369
    },
    "executionInfo": {
     "elapsed": 26,
     "status": "ok",
     "timestamp": 1670427833747,
     "user": {
      "displayName": "aman maurya",
      "userId": "06203795675099361363"
     },
     "user_tz": -330
    },
    "id": "lFFw83IB4SBW",
    "outputId": "5964e08c-67c1-438c-a52a-83509f9b262e"
   },
   "outputs": [
    {
     "data": {
      "image/png": "[encoded data removed]",
      "text/plain": [
       "<Figure size 432x288 with 1 Axes>"
      ]
     },
     "metadata": {
      "needs_background": "light"
     },
     "output_type": "display_data"
    }
   ],
   "source": [
    "#Plotting Purpose with respect to loan status\n",
    "sns.barplot(x=data2.purpose,y=data2.Charged_Off_rate,data=data2)\n",
    "plt.xticks(rotation=90)\n",
    "plt.show()\n",
    "\n",
    "#Observation\n",
    "#1- Loans having purpose of small business are more likely to charge off."
   ]
  },
  {
   "cell_type": "code",
   "execution_count": null,
   "metadata": {
    "colab": {
     "base_uri": "https://localhost:8080/",
     "height": 143
    },
    "executionInfo": {
     "elapsed": 879,
     "status": "ok",
     "timestamp": 1670429298171,
     "user": {
      "displayName": "aman maurya",
      "userId": "06203795675099361363"
     },
     "user_tz": -330
    },
    "id": "qfD9q16n4T-W",
    "outputId": "c0505ac2-3662-4cd0-8f05-a8da2cb04191"
   },
   "outputs": [
    {
     "data": {
      "text/html": [
       "\n",
       "  <div id=\"df-f3ebc564-84c6-4dd3-9958-79369ac90610\">\n",
       "    <div class=\"colab-df-container\">\n",
       "      <div>\n",
       "<style scoped>\n",
       "    .dataframe tbody tr th:only-of-type {\n",
       "        vertical-align: middle;\n",
       "    }\n",
       "\n",
       "    .dataframe tbody tr th {\n",
       "        vertical-align: top;\n",
       "    }\n",
       "\n",
       "    .dataframe thead th {\n",
       "        text-align: right;\n",
       "    }\n",
       "</style>\n",
       "<table border=\"1\" class=\"dataframe\">\n",
       "  <thead>\n",
       "    <tr style=\"text-align: right;\">\n",
       "      <th>loan_status</th>\n",
       "      <th>home_ownership</th>\n",
       "      <th>Charged Off</th>\n",
       "      <th>Fully Paid</th>\n",
       "      <th>Charged_off_rate</th>\n",
       "    </tr>\n",
       "  </thead>\n",
       "  <tbody>\n",
       "    <tr>\n",
       "      <th>0</th>\n",
       "      <td>MORTGAGE</td>\n",
       "      <td>2184</td>\n",
       "      <td>14051</td>\n",
       "      <td>0.134524</td>\n",
       "    </tr>\n",
       "    <tr>\n",
       "      <th>2</th>\n",
       "      <td>OWN</td>\n",
       "      <td>430</td>\n",
       "      <td>2479</td>\n",
       "      <td>0.147817</td>\n",
       "    </tr>\n",
       "    <tr>\n",
       "      <th>3</th>\n",
       "      <td>RENT</td>\n",
       "      <td>2774</td>\n",
       "      <td>15443</td>\n",
       "      <td>0.152275</td>\n",
       "    </tr>\n",
       "  </tbody>\n",
       "</table>\n",
       "</div>\n",
       "      <button class=\"colab-df-convert\" onclick=\"convertToInteractive('df-f3ebc564-84c6-4dd3-9958-79369ac90610')\"\n",
       "              title=\"Convert this dataframe to an interactive table.\"\n",
       "              style=\"display:none;\">\n",
       "        \n",
       "  <svg xmlns=\"http://www.w3.org/2000/svg\" height=\"24px\"viewBox=\"0 0 24 24\"\n",
       "       width=\"24px\">\n",
       "    <path d=\"M0 0h24v24H0V0z\" fill=\"none\"/>\n",
       "    <path d=\"M18.56 5.44l.94 2.06.94-2.06 2.06-.94-2.06-.94-.94-2.06-.94 2.06-2.06.94zm-11 1L8.5 8.5l.94-2.06 2.06-.94-2.06-.94L8.5 2.5l-.94 2.06-2.06.94zm10 10l.94 2.06.94-2.06 2.06-.94-2.06-.94-.94-2.06-.94 2.06-2.06.94z\"/><path d=\"M17.41 7.96l-1.37-1.37c-.4-.4-.92-.59-1.43-.59-.52 0-1.04.2-1.43.59L10.3 9.45l-7.72 7.72c-.78.78-.78 2.05 0 2.83L4 21.41c.39.39.9.59 1.41.59.51 0 1.02-.2 1.41-.59l7.78-7.78 2.81-2.81c.8-.78.8-2.07 0-2.86zM5.41 20L4 18.59l7.72-7.72 1.47 1.35L5.41 20z\"/>\n",
       "  </svg>\n",
       "      </button>\n",
       "      \n",
       "  <style>\n",
       "    .colab-df-container {\n",
       "      display:flex;\n",
       "      flex-wrap:wrap;\n",
       "      gap: 12px;\n",
       "    }\n",
       "\n",
       "    .colab-df-convert {\n",
       "      background-color: #E8F0FE;\n",
       "      border: none;\n",
       "      border-radius: 50%;\n",
       "      cursor: pointer;\n",
       "      display: none;\n",
       "      fill: #1967D2;\n",
       "      height: 32px;\n",
       "      padding: 0 0 0 0;\n",
       "      width: 32px;\n",
       "    }\n",
       "\n",
       "    .colab-df-convert:hover {\n",
       "      background-color: #E2EBFA;\n",
       "      box-shadow: 0px 1px 2px rgba(60, 64, 67, 0.3), 0px 1px 3px 1px rgba(60, 64, 67, 0.15);\n",
       "      fill: #174EA6;\n",
       "    }\n",
       "\n",
       "    [theme=dark] .colab-df-convert {\n",
       "      background-color: #3B4455;\n",
       "      fill: #D2E3FC;\n",
       "    }\n",
       "\n",
       "    [theme=dark] .colab-df-convert:hover {\n",
       "      background-color: #434B5C;\n",
       "      box-shadow: 0px 1px 3px 1px rgba(0, 0, 0, 0.15);\n",
       "      filter: drop-shadow(0px 1px 2px rgba(0, 0, 0, 0.3));\n",
       "      fill: #FFFFFF;\n",
       "    }\n",
       "  </style>\n",
       "\n",
       "      <script>\n",
       "        const buttonEl =\n",
       "          document.querySelector('#df-f3ebc564-84c6-4dd3-9958-79369ac90610 button.colab-df-convert');\n",
       "        buttonEl.style.display =\n",
       "          google.colab.kernel.accessAllowed ? 'block' : 'none';\n",
       "\n",
       "        async function convertToInteractive(key) {\n",
       "          const element = document.querySelector('#df-f3ebc564-84c6-4dd3-9958-79369ac90610');\n",
       "          const dataTable =\n",
       "            await google.colab.kernel.invokeFunction('convertToInteractive',\n",
       "                                                     [key], {});\n",
       "          if (!dataTable) return;\n",
       "\n",
       "          const docLinkHtml = 'Like what you see? Visit the ' +\n",
       "            '<a target=\"_blank\" href=https://colab.research.google.com/notebooks/data_table.ipynb>data table notebook</a>'\n",
       "            + ' to learn more about interactive tables.';\n",
       "          element.innerHTML = '';\n",
       "          dataTable['output_type'] = 'display_data';\n",
       "          await google.colab.output.renderOutput(dataTable, element);\n",
       "          const docLink = document.createElement('div');\n",
       "          docLink.innerHTML = docLinkHtml;\n",
       "          element.appendChild(docLink);\n",
       "        }\n",
       "      </script>\n",
       "    </div>\n",
       "  </div>\n",
       "  "
      ],
      "text/plain": [
       "loan_status home_ownership  Charged Off  Fully Paid  Charged_off_rate\n",
       "0                 MORTGAGE         2184       14051          0.134524\n",
       "2                      OWN          430        2479          0.147817\n",
       "3                     RENT         2774       15443          0.152275"
      ]
     },
     "execution_count": 351,
     "metadata": {},
     "output_type": "execute_result"
    }
   ],
   "source": [
    "#Analysing charge off rate for home ownership variable \n",
    "data3 = data.groupby(by=['home_ownership','loan_status']).loan_status.count().unstack().fillna(0).reset_index()\n",
    "data3['Charged_off_rate'] = data3['Charged Off']/(data3['Charged Off']+data3['Fully Paid'])\n",
    "data3 = data3[-(data3['home_ownership']=='OTHER')]\n",
    "data3"
   ]
  },
  {
   "cell_type": "code",
   "execution_count": null,
   "metadata": {
    "colab": {
     "base_uri": "https://localhost:8080/",
     "height": 298
    },
    "executionInfo": {
     "elapsed": 706,
     "status": "ok",
     "timestamp": 1670429304099,
     "user": {
      "displayName": "aman maurya",
      "userId": "06203795675099361363"
     },
     "user_tz": -330
    },
    "id": "hcYbXNdk4b63",
    "outputId": "bef6b8c3-12f2-4786-e288-d07e6d84ede9"
   },
   "outputs": [
    {
     "data": {
      "text/plain": [
       "<matplotlib.axes._subplots.AxesSubplot at 0x7f4fd81dd970>"
      ]
     },
     "execution_count": 352,
     "metadata": {},
     "output_type": "execute_result"
    },
    {
     "data": {
      "image/png": "[encoded data removed]",
      "text/plain": [
       "<Figure size 432x288 with 1 Axes>"
      ]
     },
     "metadata": {
      "needs_background": "light"
     },
     "output_type": "display_data"
    }
   ],
   "source": [
    "#plotting home ownership with respect to charge off rate\n",
    "sns.barplot(x=data3.home_ownership,y=data3.Charged_off_rate,data=data3)\n",
    "\n",
    "#Observation\n",
    "#1- Borrowers with home ownership as rent are more likely to charge off.\n"
   ]
  },
  {
   "cell_type": "code",
   "execution_count": null,
   "metadata": {
    "colab": {
     "base_uri": "https://localhost:8080/",
     "height": 112
    },
    "executionInfo": {
     "elapsed": 456,
     "status": "ok",
     "timestamp": 1670428689264,
     "user": {
      "displayName": "aman maurya",
      "userId": "06203795675099361363"
     },
     "user_tz": -330
    },
    "id": "XqUhBOKj4eHd",
    "outputId": "38c647a4-5d65-404e-b9a3-9a0f9c997349"
   },
   "outputs": [
    {
     "data": {
      "text/html": [
       "\n",
       "  <div id=\"df-f05c0a6a-6048-4982-b8b9-a97439dfedd1\">\n",
       "    <div class=\"colab-df-container\">\n",
       "      <div>\n",
       "<style scoped>\n",
       "    .dataframe tbody tr th:only-of-type {\n",
       "        vertical-align: middle;\n",
       "    }\n",
       "\n",
       "    .dataframe tbody tr th {\n",
       "        vertical-align: top;\n",
       "    }\n",
       "\n",
       "    .dataframe thead th {\n",
       "        text-align: right;\n",
       "    }\n",
       "</style>\n",
       "<table border=\"1\" class=\"dataframe\">\n",
       "  <thead>\n",
       "    <tr style=\"text-align: right;\">\n",
       "      <th>loan_status</th>\n",
       "      <th>term</th>\n",
       "      <th>Charged Off</th>\n",
       "      <th>Fully Paid</th>\n",
       "      <th>Charged_off_rate</th>\n",
       "    </tr>\n",
       "  </thead>\n",
       "  <tbody>\n",
       "    <tr>\n",
       "      <th>0</th>\n",
       "      <td>36 months</td>\n",
       "      <td>3183</td>\n",
       "      <td>25422</td>\n",
       "      <td>0.111274</td>\n",
       "    </tr>\n",
       "    <tr>\n",
       "      <th>1</th>\n",
       "      <td>60 months</td>\n",
       "      <td>2223</td>\n",
       "      <td>6629</td>\n",
       "      <td>0.251130</td>\n",
       "    </tr>\n",
       "  </tbody>\n",
       "</table>\n",
       "</div>\n",
       "      <button class=\"colab-df-convert\" onclick=\"convertToInteractive('df-f05c0a6a-6048-4982-b8b9-a97439dfedd1')\"\n",
       "              title=\"Convert this dataframe to an interactive table.\"\n",
       "              style=\"display:none;\">\n",
       "        \n",
       "  <svg xmlns=\"http://www.w3.org/2000/svg\" height=\"24px\"viewBox=\"0 0 24 24\"\n",
       "       width=\"24px\">\n",
       "    <path d=\"M0 0h24v24H0V0z\" fill=\"none\"/>\n",
       "    <path d=\"M18.56 5.44l.94 2.06.94-2.06 2.06-.94-2.06-.94-.94-2.06-.94 2.06-2.06.94zm-11 1L8.5 8.5l.94-2.06 2.06-.94-2.06-.94L8.5 2.5l-.94 2.06-2.06.94zm10 10l.94 2.06.94-2.06 2.06-.94-2.06-.94-.94-2.06-.94 2.06-2.06.94z\"/><path d=\"M17.41 7.96l-1.37-1.37c-.4-.4-.92-.59-1.43-.59-.52 0-1.04.2-1.43.59L10.3 9.45l-7.72 7.72c-.78.78-.78 2.05 0 2.83L4 21.41c.39.39.9.59 1.41.59.51 0 1.02-.2 1.41-.59l7.78-7.78 2.81-2.81c.8-.78.8-2.07 0-2.86zM5.41 20L4 18.59l7.72-7.72 1.47 1.35L5.41 20z\"/>\n",
       "  </svg>\n",
       "      </button>\n",
       "      \n",
       "  <style>\n",
       "    .colab-df-container {\n",
       "      display:flex;\n",
       "      flex-wrap:wrap;\n",
       "      gap: 12px;\n",
       "    }\n",
       "\n",
       "    .colab-df-convert {\n",
       "      background-color: #E8F0FE;\n",
       "      border: none;\n",
       "      border-radius: 50%;\n",
       "      cursor: pointer;\n",
       "      display: none;\n",
       "      fill: #1967D2;\n",
       "      height: 32px;\n",
       "      padding: 0 0 0 0;\n",
       "      width: 32px;\n",
       "    }\n",
       "\n",
       "    .colab-df-convert:hover {\n",
       "      background-color: #E2EBFA;\n",
       "      box-shadow: 0px 1px 2px rgba(60, 64, 67, 0.3), 0px 1px 3px 1px rgba(60, 64, 67, 0.15);\n",
       "      fill: #174EA6;\n",
       "    }\n",
       "\n",
       "    [theme=dark] .colab-df-convert {\n",
       "      background-color: #3B4455;\n",
       "      fill: #D2E3FC;\n",
       "    }\n",
       "\n",
       "    [theme=dark] .colab-df-convert:hover {\n",
       "      background-color: #434B5C;\n",
       "      box-shadow: 0px 1px 3px 1px rgba(0, 0, 0, 0.15);\n",
       "      filter: drop-shadow(0px 1px 2px rgba(0, 0, 0, 0.3));\n",
       "      fill: #FFFFFF;\n",
       "    }\n",
       "  </style>\n",
       "\n",
       "      <script>\n",
       "        const buttonEl =\n",
       "          document.querySelector('#df-f05c0a6a-6048-4982-b8b9-a97439dfedd1 button.colab-df-convert');\n",
       "        buttonEl.style.display =\n",
       "          google.colab.kernel.accessAllowed ? 'block' : 'none';\n",
       "\n",
       "        async function convertToInteractive(key) {\n",
       "          const element = document.querySelector('#df-f05c0a6a-6048-4982-b8b9-a97439dfedd1');\n",
       "          const dataTable =\n",
       "            await google.colab.kernel.invokeFunction('convertToInteractive',\n",
       "                                                     [key], {});\n",
       "          if (!dataTable) return;\n",
       "\n",
       "          const docLinkHtml = 'Like what you see? Visit the ' +\n",
       "            '<a target=\"_blank\" href=https://colab.research.google.com/notebooks/data_table.ipynb>data table notebook</a>'\n",
       "            + ' to learn more about interactive tables.';\n",
       "          element.innerHTML = '';\n",
       "          dataTable['output_type'] = 'display_data';\n",
       "          await google.colab.output.renderOutput(dataTable, element);\n",
       "          const docLink = document.createElement('div');\n",
       "          docLink.innerHTML = docLinkHtml;\n",
       "          element.appendChild(docLink);\n",
       "        }\n",
       "      </script>\n",
       "    </div>\n",
       "  </div>\n",
       "  "
      ],
      "text/plain": [
       "loan_status        term  Charged Off  Fully Paid  Charged_off_rate\n",
       "0             36 months         3183       25422          0.111274\n",
       "1             60 months         2223        6629          0.251130"
      ]
     },
     "execution_count": 344,
     "metadata": {},
     "output_type": "execute_result"
    }
   ],
   "source": [
    "#Analysing term with loan status\n",
    "data4 = data.groupby(by=['term','loan_status']).loan_status.count().unstack().fillna(0).reset_index()\n",
    "data4['Charged_off_rate'] = data4['Charged Off']/(data4['Charged Off']+data4['Fully Paid'])\n",
    "data4"
   ]
  },
  {
   "cell_type": "code",
   "execution_count": null,
   "metadata": {
    "colab": {
     "base_uri": "https://localhost:8080/",
     "height": 297
    },
    "executionInfo": {
     "elapsed": 1030,
     "status": "ok",
     "timestamp": 1670427834761,
     "user": {
      "displayName": "aman maurya",
      "userId": "06203795675099361363"
     },
     "user_tz": -330
    },
    "id": "QcQruuk74i-_",
    "outputId": "cb89a62e-1e41-4dcd-d8fe-009c36250b0e"
   },
   "outputs": [
    {
     "data": {
      "text/plain": [
       "<matplotlib.axes._subplots.AxesSubplot at 0x7f4fd8d8ce80>"
      ]
     },
     "execution_count": 324,
     "metadata": {},
     "output_type": "execute_result"
    },
    {
     "data": {
      "image/png": "[encoded data removed]",
      "text/plain": [
       "<Figure size 432x288 with 1 Axes>"
      ]
     },
     "metadata": {
      "needs_background": "light"
     },
     "output_type": "display_data"
    }
   ],
   "source": [
    "#plotting term with charge off rate\n",
    "sns.barplot(x=data4.term,y=data4.Charged_off_rate,data=data4)\n",
    "\n",
    "#Observation\n",
    "#1- Loans with high payment term are more likely to charge off."
   ]
  },
  {
   "cell_type": "code",
   "execution_count": null,
   "metadata": {
    "colab": {
     "base_uri": "https://localhost:8080/",
     "height": 297
    },
    "executionInfo": {
     "elapsed": 33,
     "status": "ok",
     "timestamp": 1670427834762,
     "user": {
      "displayName": "aman maurya",
      "userId": "06203795675099361363"
     },
     "user_tz": -330
    },
    "id": "bEmmLir54tVc",
    "outputId": "9a786fec-3e98-48b4-d477-71e7f826dcc0"
   },
   "outputs": [
    {
     "data": {
      "text/plain": [
       "<matplotlib.axes._subplots.AxesSubplot at 0x7f4fd82846d0>"
      ]
     },
     "execution_count": 325,
     "metadata": {},
     "output_type": "execute_result"
    },
    {
     "data": {
      "image/png": "[encoded data removed]",
      "text/plain": [
       "<Figure size 432x288 with 1 Axes>"
      ]
     },
     "metadata": {
      "needs_background": "light"
     },
     "output_type": "display_data"
    }
   ],
   "source": [
    "#plotting term with charge off rate in boxen plot\n",
    "sns.boxenplot(x=\"term\", y=\"Charged_off_rate\",\n",
    "              color=\"b\",\n",
    "              scale=\"linear\", data=data4)"
   ]
  },
  {
   "cell_type": "code",
   "execution_count": null,
   "metadata": {
    "colab": {
     "base_uri": "https://localhost:8080/",
     "height": 1000
    },
    "executionInfo": {
     "elapsed": 413,
     "status": "ok",
     "timestamp": 1670429568136,
     "user": {
      "displayName": "aman maurya",
      "userId": "06203795675099361363"
     },
     "user_tz": -330
    },
    "id": "nUcllv344lio",
    "outputId": "d8389387-bf68-4183-a5ed-817edf7fa5ce"
   },
   "outputs": [
    {
     "data": {
      "text/html": [
       "\n",
       "  <div id=\"df-ded2718e-bdea-4426-a13f-62dd61e301c2\">\n",
       "    <div class=\"colab-df-container\">\n",
       "      <div>\n",
       "<style scoped>\n",
       "    .dataframe tbody tr th:only-of-type {\n",
       "        vertical-align: middle;\n",
       "    }\n",
       "\n",
       "    .dataframe tbody tr th {\n",
       "        vertical-align: top;\n",
       "    }\n",
       "\n",
       "    .dataframe thead th {\n",
       "        text-align: right;\n",
       "    }\n",
       "</style>\n",
       "<table border=\"1\" class=\"dataframe\">\n",
       "  <thead>\n",
       "    <tr style=\"text-align: right;\">\n",
       "      <th>loan_status</th>\n",
       "      <th>addr_state</th>\n",
       "      <th>Charged Off</th>\n",
       "      <th>Fully Paid</th>\n",
       "      <th>Charged_off_rate</th>\n",
       "      <th>Total</th>\n",
       "    </tr>\n",
       "  </thead>\n",
       "  <tbody>\n",
       "    <tr>\n",
       "      <th>0</th>\n",
       "      <td>AK</td>\n",
       "      <td>14.0</td>\n",
       "      <td>60.0</td>\n",
       "      <td>0.189189</td>\n",
       "      <td>74.0</td>\n",
       "    </tr>\n",
       "    <tr>\n",
       "      <th>1</th>\n",
       "      <td>AL</td>\n",
       "      <td>49.0</td>\n",
       "      <td>371.0</td>\n",
       "      <td>0.116667</td>\n",
       "      <td>420.0</td>\n",
       "    </tr>\n",
       "    <tr>\n",
       "      <th>2</th>\n",
       "      <td>AR</td>\n",
       "      <td>27.0</td>\n",
       "      <td>206.0</td>\n",
       "      <td>0.115880</td>\n",
       "      <td>233.0</td>\n",
       "    </tr>\n",
       "    <tr>\n",
       "      <th>3</th>\n",
       "      <td>AZ</td>\n",
       "      <td>119.0</td>\n",
       "      <td>708.0</td>\n",
       "      <td>0.143894</td>\n",
       "      <td>827.0</td>\n",
       "    </tr>\n",
       "    <tr>\n",
       "      <th>4</th>\n",
       "      <td>CA</td>\n",
       "      <td>1081.0</td>\n",
       "      <td>5669.0</td>\n",
       "      <td>0.160148</td>\n",
       "      <td>6750.0</td>\n",
       "    </tr>\n",
       "    <tr>\n",
       "      <th>5</th>\n",
       "      <td>CO</td>\n",
       "      <td>91.0</td>\n",
       "      <td>647.0</td>\n",
       "      <td>0.123306</td>\n",
       "      <td>738.0</td>\n",
       "    </tr>\n",
       "    <tr>\n",
       "      <th>6</th>\n",
       "      <td>CT</td>\n",
       "      <td>90.0</td>\n",
       "      <td>600.0</td>\n",
       "      <td>0.130435</td>\n",
       "      <td>690.0</td>\n",
       "    </tr>\n",
       "    <tr>\n",
       "      <th>7</th>\n",
       "      <td>DC</td>\n",
       "      <td>14.0</td>\n",
       "      <td>192.0</td>\n",
       "      <td>0.067961</td>\n",
       "      <td>206.0</td>\n",
       "    </tr>\n",
       "    <tr>\n",
       "      <th>8</th>\n",
       "      <td>DE</td>\n",
       "      <td>12.0</td>\n",
       "      <td>99.0</td>\n",
       "      <td>0.108108</td>\n",
       "      <td>111.0</td>\n",
       "    </tr>\n",
       "    <tr>\n",
       "      <th>9</th>\n",
       "      <td>FL</td>\n",
       "      <td>485.0</td>\n",
       "      <td>2220.0</td>\n",
       "      <td>0.179298</td>\n",
       "      <td>2705.0</td>\n",
       "    </tr>\n",
       "    <tr>\n",
       "      <th>10</th>\n",
       "      <td>GA</td>\n",
       "      <td>208.0</td>\n",
       "      <td>1116.0</td>\n",
       "      <td>0.157100</td>\n",
       "      <td>1324.0</td>\n",
       "    </tr>\n",
       "    <tr>\n",
       "      <th>11</th>\n",
       "      <td>HI</td>\n",
       "      <td>28.0</td>\n",
       "      <td>135.0</td>\n",
       "      <td>0.171779</td>\n",
       "      <td>163.0</td>\n",
       "    </tr>\n",
       "    <tr>\n",
       "      <th>12</th>\n",
       "      <td>IA</td>\n",
       "      <td>0.0</td>\n",
       "      <td>5.0</td>\n",
       "      <td>0.000000</td>\n",
       "      <td>5.0</td>\n",
       "    </tr>\n",
       "    <tr>\n",
       "      <th>13</th>\n",
       "      <td>ID</td>\n",
       "      <td>1.0</td>\n",
       "      <td>5.0</td>\n",
       "      <td>0.166667</td>\n",
       "      <td>6.0</td>\n",
       "    </tr>\n",
       "    <tr>\n",
       "      <th>14</th>\n",
       "      <td>IL</td>\n",
       "      <td>191.0</td>\n",
       "      <td>1242.0</td>\n",
       "      <td>0.133287</td>\n",
       "      <td>1433.0</td>\n",
       "    </tr>\n",
       "    <tr>\n",
       "      <th>15</th>\n",
       "      <td>IN</td>\n",
       "      <td>0.0</td>\n",
       "      <td>9.0</td>\n",
       "      <td>0.000000</td>\n",
       "      <td>9.0</td>\n",
       "    </tr>\n",
       "    <tr>\n",
       "      <th>16</th>\n",
       "      <td>KS</td>\n",
       "      <td>29.0</td>\n",
       "      <td>219.0</td>\n",
       "      <td>0.116935</td>\n",
       "      <td>248.0</td>\n",
       "    </tr>\n",
       "    <tr>\n",
       "      <th>17</th>\n",
       "      <td>KY</td>\n",
       "      <td>43.0</td>\n",
       "      <td>264.0</td>\n",
       "      <td>0.140065</td>\n",
       "      <td>307.0</td>\n",
       "    </tr>\n",
       "    <tr>\n",
       "      <th>18</th>\n",
       "      <td>LA</td>\n",
       "      <td>51.0</td>\n",
       "      <td>363.0</td>\n",
       "      <td>0.123188</td>\n",
       "      <td>414.0</td>\n",
       "    </tr>\n",
       "    <tr>\n",
       "      <th>19</th>\n",
       "      <td>MA</td>\n",
       "      <td>155.0</td>\n",
       "      <td>1106.0</td>\n",
       "      <td>0.122918</td>\n",
       "      <td>1261.0</td>\n",
       "    </tr>\n",
       "    <tr>\n",
       "      <th>20</th>\n",
       "      <td>MD</td>\n",
       "      <td>153.0</td>\n",
       "      <td>834.0</td>\n",
       "      <td>0.155015</td>\n",
       "      <td>987.0</td>\n",
       "    </tr>\n",
       "    <tr>\n",
       "      <th>21</th>\n",
       "      <td>ME</td>\n",
       "      <td>0.0</td>\n",
       "      <td>3.0</td>\n",
       "      <td>0.000000</td>\n",
       "      <td>3.0</td>\n",
       "    </tr>\n",
       "    <tr>\n",
       "      <th>22</th>\n",
       "      <td>MI</td>\n",
       "      <td>101.0</td>\n",
       "      <td>583.0</td>\n",
       "      <td>0.147661</td>\n",
       "      <td>684.0</td>\n",
       "    </tr>\n",
       "    <tr>\n",
       "      <th>23</th>\n",
       "      <td>MN</td>\n",
       "      <td>78.0</td>\n",
       "      <td>517.0</td>\n",
       "      <td>0.131092</td>\n",
       "      <td>595.0</td>\n",
       "    </tr>\n",
       "    <tr>\n",
       "      <th>24</th>\n",
       "      <td>MO</td>\n",
       "      <td>112.0</td>\n",
       "      <td>541.0</td>\n",
       "      <td>0.171516</td>\n",
       "      <td>653.0</td>\n",
       "    </tr>\n",
       "    <tr>\n",
       "      <th>25</th>\n",
       "      <td>MS</td>\n",
       "      <td>2.0</td>\n",
       "      <td>17.0</td>\n",
       "      <td>0.105263</td>\n",
       "      <td>19.0</td>\n",
       "    </tr>\n",
       "    <tr>\n",
       "      <th>26</th>\n",
       "      <td>MT</td>\n",
       "      <td>10.0</td>\n",
       "      <td>71.0</td>\n",
       "      <td>0.123457</td>\n",
       "      <td>81.0</td>\n",
       "    </tr>\n",
       "    <tr>\n",
       "      <th>27</th>\n",
       "      <td>NC</td>\n",
       "      <td>111.0</td>\n",
       "      <td>613.0</td>\n",
       "      <td>0.153315</td>\n",
       "      <td>724.0</td>\n",
       "    </tr>\n",
       "    <tr>\n",
       "      <th>28</th>\n",
       "      <td>NE</td>\n",
       "      <td>3.0</td>\n",
       "      <td>2.0</td>\n",
       "      <td>0.600000</td>\n",
       "      <td>5.0</td>\n",
       "    </tr>\n",
       "    <tr>\n",
       "      <th>29</th>\n",
       "      <td>NH</td>\n",
       "      <td>23.0</td>\n",
       "      <td>135.0</td>\n",
       "      <td>0.145570</td>\n",
       "      <td>158.0</td>\n",
       "    </tr>\n",
       "    <tr>\n",
       "      <th>30</th>\n",
       "      <td>NJ</td>\n",
       "      <td>267.0</td>\n",
       "      <td>1450.0</td>\n",
       "      <td>0.155504</td>\n",
       "      <td>1717.0</td>\n",
       "    </tr>\n",
       "    <tr>\n",
       "      <th>31</th>\n",
       "      <td>NM</td>\n",
       "      <td>30.0</td>\n",
       "      <td>148.0</td>\n",
       "      <td>0.168539</td>\n",
       "      <td>178.0</td>\n",
       "    </tr>\n",
       "    <tr>\n",
       "      <th>32</th>\n",
       "      <td>NV</td>\n",
       "      <td>102.0</td>\n",
       "      <td>364.0</td>\n",
       "      <td>0.218884</td>\n",
       "      <td>466.0</td>\n",
       "    </tr>\n",
       "    <tr>\n",
       "      <th>33</th>\n",
       "      <td>NY</td>\n",
       "      <td>477.0</td>\n",
       "      <td>3096.0</td>\n",
       "      <td>0.133501</td>\n",
       "      <td>3573.0</td>\n",
       "    </tr>\n",
       "    <tr>\n",
       "      <th>34</th>\n",
       "      <td>OH</td>\n",
       "      <td>148.0</td>\n",
       "      <td>1000.0</td>\n",
       "      <td>0.128920</td>\n",
       "      <td>1148.0</td>\n",
       "    </tr>\n",
       "    <tr>\n",
       "      <th>35</th>\n",
       "      <td>OK</td>\n",
       "      <td>40.0</td>\n",
       "      <td>240.0</td>\n",
       "      <td>0.142857</td>\n",
       "      <td>280.0</td>\n",
       "    </tr>\n",
       "    <tr>\n",
       "      <th>36</th>\n",
       "      <td>OR</td>\n",
       "      <td>71.0</td>\n",
       "      <td>362.0</td>\n",
       "      <td>0.163972</td>\n",
       "      <td>433.0</td>\n",
       "    </tr>\n",
       "    <tr>\n",
       "      <th>37</th>\n",
       "      <td>PA</td>\n",
       "      <td>171.0</td>\n",
       "      <td>1269.0</td>\n",
       "      <td>0.118750</td>\n",
       "      <td>1440.0</td>\n",
       "    </tr>\n",
       "    <tr>\n",
       "      <th>38</th>\n",
       "      <td>RI</td>\n",
       "      <td>25.0</td>\n",
       "      <td>165.0</td>\n",
       "      <td>0.131579</td>\n",
       "      <td>190.0</td>\n",
       "    </tr>\n",
       "    <tr>\n",
       "      <th>39</th>\n",
       "      <td>SC</td>\n",
       "      <td>64.0</td>\n",
       "      <td>384.0</td>\n",
       "      <td>0.142857</td>\n",
       "      <td>448.0</td>\n",
       "    </tr>\n",
       "    <tr>\n",
       "      <th>40</th>\n",
       "      <td>SD</td>\n",
       "      <td>12.0</td>\n",
       "      <td>50.0</td>\n",
       "      <td>0.193548</td>\n",
       "      <td>62.0</td>\n",
       "    </tr>\n",
       "    <tr>\n",
       "      <th>41</th>\n",
       "      <td>TN</td>\n",
       "      <td>2.0</td>\n",
       "      <td>15.0</td>\n",
       "      <td>0.117647</td>\n",
       "      <td>17.0</td>\n",
       "    </tr>\n",
       "    <tr>\n",
       "      <th>42</th>\n",
       "      <td>TX</td>\n",
       "      <td>299.0</td>\n",
       "      <td>2270.0</td>\n",
       "      <td>0.116388</td>\n",
       "      <td>2569.0</td>\n",
       "    </tr>\n",
       "    <tr>\n",
       "      <th>43</th>\n",
       "      <td>UT</td>\n",
       "      <td>36.0</td>\n",
       "      <td>209.0</td>\n",
       "      <td>0.146939</td>\n",
       "      <td>245.0</td>\n",
       "    </tr>\n",
       "    <tr>\n",
       "      <th>44</th>\n",
       "      <td>VA</td>\n",
       "      <td>167.0</td>\n",
       "      <td>1163.0</td>\n",
       "      <td>0.125564</td>\n",
       "      <td>1330.0</td>\n",
       "    </tr>\n",
       "    <tr>\n",
       "      <th>45</th>\n",
       "      <td>VT</td>\n",
       "      <td>6.0</td>\n",
       "      <td>46.0</td>\n",
       "      <td>0.115385</td>\n",
       "      <td>52.0</td>\n",
       "    </tr>\n",
       "    <tr>\n",
       "      <th>46</th>\n",
       "      <td>WA</td>\n",
       "      <td>124.0</td>\n",
       "      <td>676.0</td>\n",
       "      <td>0.155000</td>\n",
       "      <td>800.0</td>\n",
       "    </tr>\n",
       "    <tr>\n",
       "      <th>47</th>\n",
       "      <td>WI</td>\n",
       "      <td>61.0</td>\n",
       "      <td>369.0</td>\n",
       "      <td>0.141860</td>\n",
       "      <td>430.0</td>\n",
       "    </tr>\n",
       "    <tr>\n",
       "      <th>48</th>\n",
       "      <td>WV</td>\n",
       "      <td>20.0</td>\n",
       "      <td>147.0</td>\n",
       "      <td>0.119760</td>\n",
       "      <td>167.0</td>\n",
       "    </tr>\n",
       "    <tr>\n",
       "      <th>49</th>\n",
       "      <td>WY</td>\n",
       "      <td>3.0</td>\n",
       "      <td>76.0</td>\n",
       "      <td>0.037975</td>\n",
       "      <td>79.0</td>\n",
       "    </tr>\n",
       "  </tbody>\n",
       "</table>\n",
       "</div>\n",
       "      <button class=\"colab-df-convert\" onclick=\"convertToInteractive('df-ded2718e-bdea-4426-a13f-62dd61e301c2')\"\n",
       "              title=\"Convert this dataframe to an interactive table.\"\n",
       "              style=\"display:none;\">\n",
       "        \n",
       "  <svg xmlns=\"http://www.w3.org/2000/svg\" height=\"24px\"viewBox=\"0 0 24 24\"\n",
       "       width=\"24px\">\n",
       "    <path d=\"M0 0h24v24H0V0z\" fill=\"none\"/>\n",
       "    <path d=\"M18.56 5.44l.94 2.06.94-2.06 2.06-.94-2.06-.94-.94-2.06-.94 2.06-2.06.94zm-11 1L8.5 8.5l.94-2.06 2.06-.94-2.06-.94L8.5 2.5l-.94 2.06-2.06.94zm10 10l.94 2.06.94-2.06 2.06-.94-2.06-.94-.94-2.06-.94 2.06-2.06.94z\"/><path d=\"M17.41 7.96l-1.37-1.37c-.4-.4-.92-.59-1.43-.59-.52 0-1.04.2-1.43.59L10.3 9.45l-7.72 7.72c-.78.78-.78 2.05 0 2.83L4 21.41c.39.39.9.59 1.41.59.51 0 1.02-.2 1.41-.59l7.78-7.78 2.81-2.81c.8-.78.8-2.07 0-2.86zM5.41 20L4 18.59l7.72-7.72 1.47 1.35L5.41 20z\"/>\n",
       "  </svg>\n",
       "      </button>\n",
       "      \n",
       "  <style>\n",
       "    .colab-df-container {\n",
       "      display:flex;\n",
       "      flex-wrap:wrap;\n",
       "      gap: 12px;\n",
       "    }\n",
       "\n",
       "    .colab-df-convert {\n",
       "      background-color: #E8F0FE;\n",
       "      border: none;\n",
       "      border-radius: 50%;\n",
       "      cursor: pointer;\n",
       "      display: none;\n",
       "      fill: #1967D2;\n",
       "      height: 32px;\n",
       "      padding: 0 0 0 0;\n",
       "      width: 32px;\n",
       "    }\n",
       "\n",
       "    .colab-df-convert:hover {\n",
       "      background-color: #E2EBFA;\n",
       "      box-shadow: 0px 1px 2px rgba(60, 64, 67, 0.3), 0px 1px 3px 1px rgba(60, 64, 67, 0.15);\n",
       "      fill: #174EA6;\n",
       "    }\n",
       "\n",
       "    [theme=dark] .colab-df-convert {\n",
       "      background-color: #3B4455;\n",
       "      fill: #D2E3FC;\n",
       "    }\n",
       "\n",
       "    [theme=dark] .colab-df-convert:hover {\n",
       "      background-color: #434B5C;\n",
       "      box-shadow: 0px 1px 3px 1px rgba(0, 0, 0, 0.15);\n",
       "      filter: drop-shadow(0px 1px 2px rgba(0, 0, 0, 0.3));\n",
       "      fill: #FFFFFF;\n",
       "    }\n",
       "  </style>\n",
       "\n",
       "      <script>\n",
       "        const buttonEl =\n",
       "          document.querySelector('#df-ded2718e-bdea-4426-a13f-62dd61e301c2 button.colab-df-convert');\n",
       "        buttonEl.style.display =\n",
       "          google.colab.kernel.accessAllowed ? 'block' : 'none';\n",
       "\n",
       "        async function convertToInteractive(key) {\n",
       "          const element = document.querySelector('#df-ded2718e-bdea-4426-a13f-62dd61e301c2');\n",
       "          const dataTable =\n",
       "            await google.colab.kernel.invokeFunction('convertToInteractive',\n",
       "                                                     [key], {});\n",
       "          if (!dataTable) return;\n",
       "\n",
       "          const docLinkHtml = 'Like what you see? Visit the ' +\n",
       "            '<a target=\"_blank\" href=https://colab.research.google.com/notebooks/data_table.ipynb>data table notebook</a>'\n",
       "            + ' to learn more about interactive tables.';\n",
       "          element.innerHTML = '';\n",
       "          dataTable['output_type'] = 'display_data';\n",
       "          await google.colab.output.renderOutput(dataTable, element);\n",
       "          const docLink = document.createElement('div');\n",
       "          docLink.innerHTML = docLinkHtml;\n",
       "          element.appendChild(docLink);\n",
       "        }\n",
       "      </script>\n",
       "    </div>\n",
       "  </div>\n",
       "  "
      ],
      "text/plain": [
       "loan_status addr_state  Charged Off  Fully Paid  Charged_off_rate   Total\n",
       "0                   AK         14.0        60.0          0.189189    74.0\n",
       "1                   AL         49.0       371.0          0.116667   420.0\n",
       "2                   AR         27.0       206.0          0.115880   233.0\n",
       "3                   AZ        119.0       708.0          0.143894   827.0\n",
       "4                   CA       1081.0      5669.0          0.160148  6750.0\n",
       "5                   CO         91.0       647.0          0.123306   738.0\n",
       "6                   CT         90.0       600.0          0.130435   690.0\n",
       "7                   DC         14.0       192.0          0.067961   206.0\n",
       "8                   DE         12.0        99.0          0.108108   111.0\n",
       "9                   FL        485.0      2220.0          0.179298  2705.0\n",
       "10                  GA        208.0      1116.0          0.157100  1324.0\n",
       "11                  HI         28.0       135.0          0.171779   163.0\n",
       "12                  IA          0.0         5.0          0.000000     5.0\n",
       "13                  ID          1.0         5.0          0.166667     6.0\n",
       "14                  IL        191.0      1242.0          0.133287  1433.0\n",
       "15                  IN          0.0         9.0          0.000000     9.0\n",
       "16                  KS         29.0       219.0          0.116935   248.0\n",
       "17                  KY         43.0       264.0          0.140065   307.0\n",
       "18                  LA         51.0       363.0          0.123188   414.0\n",
       "19                  MA        155.0      1106.0          0.122918  1261.0\n",
       "20                  MD        153.0       834.0          0.155015   987.0\n",
       "21                  ME          0.0         3.0          0.000000     3.0\n",
       "22                  MI        101.0       583.0          0.147661   684.0\n",
       "23                  MN         78.0       517.0          0.131092   595.0\n",
       "24                  MO        112.0       541.0          0.171516   653.0\n",
       "25                  MS          2.0        17.0          0.105263    19.0\n",
       "26                  MT         10.0        71.0          0.123457    81.0\n",
       "27                  NC        111.0       613.0          0.153315   724.0\n",
       "28                  NE          3.0         2.0          0.600000     5.0\n",
       "29                  NH         23.0       135.0          0.145570   158.0\n",
       "30                  NJ        267.0      1450.0          0.155504  1717.0\n",
       "31                  NM         30.0       148.0          0.168539   178.0\n",
       "32                  NV        102.0       364.0          0.218884   466.0\n",
       "33                  NY        477.0      3096.0          0.133501  3573.0\n",
       "34                  OH        148.0      1000.0          0.128920  1148.0\n",
       "35                  OK         40.0       240.0          0.142857   280.0\n",
       "36                  OR         71.0       362.0          0.163972   433.0\n",
       "37                  PA        171.0      1269.0          0.118750  1440.0\n",
       "38                  RI         25.0       165.0          0.131579   190.0\n",
       "39                  SC         64.0       384.0          0.142857   448.0\n",
       "40                  SD         12.0        50.0          0.193548    62.0\n",
       "41                  TN          2.0        15.0          0.117647    17.0\n",
       "42                  TX        299.0      2270.0          0.116388  2569.0\n",
       "43                  UT         36.0       209.0          0.146939   245.0\n",
       "44                  VA        167.0      1163.0          0.125564  1330.0\n",
       "45                  VT          6.0        46.0          0.115385    52.0\n",
       "46                  WA        124.0       676.0          0.155000   800.0\n",
       "47                  WI         61.0       369.0          0.141860   430.0\n",
       "48                  WV         20.0       147.0          0.119760   167.0\n",
       "49                  WY          3.0        76.0          0.037975    79.0"
      ]
     },
     "execution_count": 361,
     "metadata": {},
     "output_type": "execute_result"
    }
   ],
   "source": [
    "#Analysing address state with loan status\n",
    "data5 = data.groupby(by=['addr_state','loan_status']).loan_status.count().unstack().fillna(0).reset_index()\n",
    "data5['Charged_off_rate'] = data5['Charged Off']/(data5['Charged Off']+data5['Fully Paid'])\n",
    "data5['Total'] = data5['Charged Off']+data5['Fully Paid']\n",
    "#data5 = data5[data5['Total']<1500]\n",
    "data5"
   ]
  },
  {
   "cell_type": "code",
   "execution_count": null,
   "metadata": {
    "colab": {
     "base_uri": "https://localhost:8080/",
     "height": 504
    },
    "executionInfo": {
     "elapsed": 1874,
     "status": "ok",
     "timestamp": 1670429537718,
     "user": {
      "displayName": "aman maurya",
      "userId": "06203795675099361363"
     },
     "user_tz": -330
    },
    "id": "-1wMhqtV4q-O",
    "outputId": "28261ac2-b87b-4159-dbd3-5942352a67d3"
   },
   "outputs": [
    {
     "data": {
      "image/png": "[encoded data removed]",
      "text/plain": [
       "<Figure size 864x576 with 1 Axes>"
      ]
     },
     "metadata": {
      "needs_background": "light"
     },
     "output_type": "display_data"
    }
   ],
   "source": [
    "#plotting address state with respect to charge off rate\n",
    "plt.figure(figsize=(12,8))\n",
    "sns.barplot(x=data5.addr_state,y=data5.Charged_off_rate,data=data5)\n",
    "plt.xticks(rotation=90)\n",
    "plt.show()\n",
    "\n",
    "#Observation\n",
    "#1- loans from NE state are most likely to charged off.\n",
    "#2- In comparison to the data there is some bias as the count for the values differ in high margin."
   ]
  },
  {
   "cell_type": "code",
   "execution_count": null,
   "metadata": {
    "colab": {
     "base_uri": "https://localhost:8080/",
     "height": 353
    },
    "executionInfo": {
     "elapsed": 796,
     "status": "ok",
     "timestamp": 1670429572684,
     "user": {
      "displayName": "aman maurya",
      "userId": "06203795675099361363"
     },
     "user_tz": -330
    },
    "id": "4KoR5DfsVRl-",
    "outputId": "3e335b1b-fc4c-4519-b10e-d95419334021"
   },
   "outputs": [
    {
     "name": "stderr",
     "output_type": "stream",
     "text": [
      "/usr/local/lib/python3.8/dist-packages/seaborn/_decorators.py:36: FutureWarning: Pass the following variable as a keyword arg: x. From version 0.12, the only valid positional argument will be `data`, and passing other arguments without an explicit keyword will result in an error or misinterpretation.\n",
      "  warnings.warn(\n"
     ]
    },
    {
     "data": {
      "text/plain": [
       "<matplotlib.axes._subplots.AxesSubplot at 0x7f4fd7fe89a0>"
      ]
     },
     "execution_count": 362,
     "metadata": {},
     "output_type": "execute_result"
    },
    {
     "data": {
      "image/png": "[encoded data removed]",
      "text/plain": [
       "<Figure size 432x288 with 1 Axes>"
      ]
     },
     "metadata": {
      "needs_background": "light"
     },
     "output_type": "display_data"
    }
   ],
   "source": [
    "sns.boxplot(data5['Total'])\n",
    "#Observation\n",
    "#Here are some outliers which are biasing the data."
   ]
  },
  {
   "cell_type": "code",
   "execution_count": null,
   "metadata": {
    "id": "TDjErAdgXUvK"
   },
   "outputs": [],
   "source": [
    "dataa = data5[data5['Total']>1500]\n",
    "#Extracting the most number of loans borrowed state."
   ]
  },
  {
   "cell_type": "code",
   "execution_count": null,
   "metadata": {
    "colab": {
     "base_uri": "https://localhost:8080/",
     "height": 501
    },
    "executionInfo": {
     "elapsed": 4,
     "status": "ok",
     "timestamp": 1670429795507,
     "user": {
      "displayName": "aman maurya",
      "userId": "06203795675099361363"
     },
     "user_tz": -330
    },
    "id": "9jnlMQ5PX0pa",
    "outputId": "04619215-faee-4eee-e51d-9c6b93511b6e"
   },
   "outputs": [
    {
     "data": {
      "image/png": "[encoded data removed]",
      "text/plain": [
       "<Figure size 864x576 with 1 Axes>"
      ]
     },
     "metadata": {
      "needs_background": "light"
     },
     "output_type": "display_data"
    }
   ],
   "source": [
    "#plotting address state with respect to charge off rate\n",
    "plt.figure(figsize=(12,8))\n",
    "sns.barplot(x=dataa.addr_state,y=data5.Charged_off_rate,data=data5)\n",
    "plt.xticks(rotation=90)\n",
    "plt.show()\n",
    "\n",
    "#Observation\n",
    "#1- loans from FL state are most likely to charged off"
   ]
  },
  {
   "cell_type": "code",
   "execution_count": null,
   "metadata": {
    "colab": {
     "base_uri": "https://localhost:8080/",
     "height": 143
    },
    "executionInfo": {
     "elapsed": 707,
     "status": "ok",
     "timestamp": 1670430035348,
     "user": {
      "displayName": "aman maurya",
      "userId": "06203795675099361363"
     },
     "user_tz": -330
    },
    "id": "qsIig1QK4zJ1",
    "outputId": "6b24b7f2-19f8-4c86-d4bb-14f8954be881"
   },
   "outputs": [
    {
     "data": {
      "text/html": [
       "\n",
       "  <div id=\"df-8be49e22-2063-45e6-806e-022931cb4b20\">\n",
       "    <div class=\"colab-df-container\">\n",
       "      <div>\n",
       "<style scoped>\n",
       "    .dataframe tbody tr th:only-of-type {\n",
       "        vertical-align: middle;\n",
       "    }\n",
       "\n",
       "    .dataframe tbody tr th {\n",
       "        vertical-align: top;\n",
       "    }\n",
       "\n",
       "    .dataframe thead th {\n",
       "        text-align: right;\n",
       "    }\n",
       "</style>\n",
       "<table border=\"1\" class=\"dataframe\">\n",
       "  <thead>\n",
       "    <tr style=\"text-align: right;\">\n",
       "      <th>loan_status</th>\n",
       "      <th>verification_status</th>\n",
       "      <th>Charged Off</th>\n",
       "      <th>Fully Paid</th>\n",
       "      <th>Charged_off_rate</th>\n",
       "    </tr>\n",
       "  </thead>\n",
       "  <tbody>\n",
       "    <tr>\n",
       "      <th>0</th>\n",
       "      <td>Not Verified</td>\n",
       "      <td>2128</td>\n",
       "      <td>14453</td>\n",
       "      <td>0.128340</td>\n",
       "    </tr>\n",
       "    <tr>\n",
       "      <th>1</th>\n",
       "      <td>Source Verified</td>\n",
       "      <td>1394</td>\n",
       "      <td>8044</td>\n",
       "      <td>0.147701</td>\n",
       "    </tr>\n",
       "    <tr>\n",
       "      <th>2</th>\n",
       "      <td>Verified</td>\n",
       "      <td>1884</td>\n",
       "      <td>9554</td>\n",
       "      <td>0.164714</td>\n",
       "    </tr>\n",
       "  </tbody>\n",
       "</table>\n",
       "</div>\n",
       "      <button class=\"colab-df-convert\" onclick=\"convertToInteractive('df-8be49e22-2063-45e6-806e-022931cb4b20')\"\n",
       "              title=\"Convert this dataframe to an interactive table.\"\n",
       "              style=\"display:none;\">\n",
       "        \n",
       "  <svg xmlns=\"http://www.w3.org/2000/svg\" height=\"24px\"viewBox=\"0 0 24 24\"\n",
       "       width=\"24px\">\n",
       "    <path d=\"M0 0h24v24H0V0z\" fill=\"none\"/>\n",
       "    <path d=\"M18.56 5.44l.94 2.06.94-2.06 2.06-.94-2.06-.94-.94-2.06-.94 2.06-2.06.94zm-11 1L8.5 8.5l.94-2.06 2.06-.94-2.06-.94L8.5 2.5l-.94 2.06-2.06.94zm10 10l.94 2.06.94-2.06 2.06-.94-2.06-.94-.94-2.06-.94 2.06-2.06.94z\"/><path d=\"M17.41 7.96l-1.37-1.37c-.4-.4-.92-.59-1.43-.59-.52 0-1.04.2-1.43.59L10.3 9.45l-7.72 7.72c-.78.78-.78 2.05 0 2.83L4 21.41c.39.39.9.59 1.41.59.51 0 1.02-.2 1.41-.59l7.78-7.78 2.81-2.81c.8-.78.8-2.07 0-2.86zM5.41 20L4 18.59l7.72-7.72 1.47 1.35L5.41 20z\"/>\n",
       "  </svg>\n",
       "      </button>\n",
       "      \n",
       "  <style>\n",
       "    .colab-df-container {\n",
       "      display:flex;\n",
       "      flex-wrap:wrap;\n",
       "      gap: 12px;\n",
       "    }\n",
       "\n",
       "    .colab-df-convert {\n",
       "      background-color: #E8F0FE;\n",
       "      border: none;\n",
       "      border-radius: 50%;\n",
       "      cursor: pointer;\n",
       "      display: none;\n",
       "      fill: #1967D2;\n",
       "      height: 32px;\n",
       "      padding: 0 0 0 0;\n",
       "      width: 32px;\n",
       "    }\n",
       "\n",
       "    .colab-df-convert:hover {\n",
       "      background-color: #E2EBFA;\n",
       "      box-shadow: 0px 1px 2px rgba(60, 64, 67, 0.3), 0px 1px 3px 1px rgba(60, 64, 67, 0.15);\n",
       "      fill: #174EA6;\n",
       "    }\n",
       "\n",
       "    [theme=dark] .colab-df-convert {\n",
       "      background-color: #3B4455;\n",
       "      fill: #D2E3FC;\n",
       "    }\n",
       "\n",
       "    [theme=dark] .colab-df-convert:hover {\n",
       "      background-color: #434B5C;\n",
       "      box-shadow: 0px 1px 3px 1px rgba(0, 0, 0, 0.15);\n",
       "      filter: drop-shadow(0px 1px 2px rgba(0, 0, 0, 0.3));\n",
       "      fill: #FFFFFF;\n",
       "    }\n",
       "  </style>\n",
       "\n",
       "      <script>\n",
       "        const buttonEl =\n",
       "          document.querySelector('#df-8be49e22-2063-45e6-806e-022931cb4b20 button.colab-df-convert');\n",
       "        buttonEl.style.display =\n",
       "          google.colab.kernel.accessAllowed ? 'block' : 'none';\n",
       "\n",
       "        async function convertToInteractive(key) {\n",
       "          const element = document.querySelector('#df-8be49e22-2063-45e6-806e-022931cb4b20');\n",
       "          const dataTable =\n",
       "            await google.colab.kernel.invokeFunction('convertToInteractive',\n",
       "                                                     [key], {});\n",
       "          if (!dataTable) return;\n",
       "\n",
       "          const docLinkHtml = 'Like what you see? Visit the ' +\n",
       "            '<a target=\"_blank\" href=https://colab.research.google.com/notebooks/data_table.ipynb>data table notebook</a>'\n",
       "            + ' to learn more about interactive tables.';\n",
       "          element.innerHTML = '';\n",
       "          dataTable['output_type'] = 'display_data';\n",
       "          await google.colab.output.renderOutput(dataTable, element);\n",
       "          const docLink = document.createElement('div');\n",
       "          docLink.innerHTML = docLinkHtml;\n",
       "          element.appendChild(docLink);\n",
       "        }\n",
       "      </script>\n",
       "    </div>\n",
       "  </div>\n",
       "  "
      ],
      "text/plain": [
       "loan_status verification_status  Charged Off  Fully Paid  Charged_off_rate\n",
       "0                  Not Verified         2128       14453          0.128340\n",
       "1               Source Verified         1394        8044          0.147701\n",
       "2                      Verified         1884        9554          0.164714"
      ]
     },
     "execution_count": 369,
     "metadata": {},
     "output_type": "execute_result"
    }
   ],
   "source": [
    "#Analysing verification status with loan status\n",
    "data6 = data.groupby(by=['verification_status','loan_status']).loan_status.count().unstack().fillna(0).reset_index()\n",
    "data6['Charged_off_rate'] = data6['Charged Off']/(data6['Charged Off']+data6['Fully Paid'])\n",
    "data6"
   ]
  },
  {
   "cell_type": "code",
   "execution_count": null,
   "metadata": {
    "colab": {
     "base_uri": "https://localhost:8080/",
     "height": 298
    },
    "executionInfo": {
     "elapsed": 1416,
     "status": "ok",
     "timestamp": 1670427836163,
     "user": {
      "displayName": "aman maurya",
      "userId": "06203795675099361363"
     },
     "user_tz": -330
    },
    "id": "80G-2pHv454W",
    "outputId": "c2fedc6b-6b74-45ea-af62-b07669c4186e"
   },
   "outputs": [
    {
     "data": {
      "text/plain": [
       "<matplotlib.axes._subplots.AxesSubplot at 0x7f4fd8244610>"
      ]
     },
     "execution_count": 329,
     "metadata": {},
     "output_type": "execute_result"
    },
    {
     "data": {
      "image/png": "[encoded data removed]",
      "text/plain": [
       "<Figure size 432x288 with 1 Axes>"
      ]
     },
     "metadata": {
      "needs_background": "light"
     },
     "output_type": "display_data"
    }
   ],
   "source": [
    "#plotting verification status with charged off rate\n",
    "sns.barplot(data=data6,x='verification_status',y='Charged_off_rate')\n",
    "\n",
    "#Observation\n",
    "#1- borrowers with verification status as verified are more likely to charge off."
   ]
  },
  {
   "cell_type": "code",
   "execution_count": null,
   "metadata": {
    "colab": {
     "base_uri": "https://localhost:8080/",
     "height": 269
    },
    "executionInfo": {
     "elapsed": 422,
     "status": "ok",
     "timestamp": 1670430145968,
     "user": {
      "displayName": "aman maurya",
      "userId": "06203795675099361363"
     },
     "user_tz": -330
    },
    "id": "mLFuV-Sw48GE",
    "outputId": "717aaebe-7eb9-4195-aa07-fb2934ea0eca"
   },
   "outputs": [
    {
     "data": {
      "text/html": [
       "\n",
       "  <div id=\"df-4f5ed5d0-f67c-4e28-8b62-a1f9121e1867\">\n",
       "    <div class=\"colab-df-container\">\n",
       "      <div>\n",
       "<style scoped>\n",
       "    .dataframe tbody tr th:only-of-type {\n",
       "        vertical-align: middle;\n",
       "    }\n",
       "\n",
       "    .dataframe tbody tr th {\n",
       "        vertical-align: top;\n",
       "    }\n",
       "\n",
       "    .dataframe thead th {\n",
       "        text-align: right;\n",
       "    }\n",
       "</style>\n",
       "<table border=\"1\" class=\"dataframe\">\n",
       "  <thead>\n",
       "    <tr style=\"text-align: right;\">\n",
       "      <th>loan_status</th>\n",
       "      <th>grade</th>\n",
       "      <th>Charged Off</th>\n",
       "      <th>Fully Paid</th>\n",
       "      <th>Charged_off_rate</th>\n",
       "    </tr>\n",
       "  </thead>\n",
       "  <tbody>\n",
       "    <tr>\n",
       "      <th>0</th>\n",
       "      <td>A</td>\n",
       "      <td>600</td>\n",
       "      <td>9321</td>\n",
       "      <td>0.060478</td>\n",
       "    </tr>\n",
       "    <tr>\n",
       "      <th>1</th>\n",
       "      <td>B</td>\n",
       "      <td>1393</td>\n",
       "      <td>10037</td>\n",
       "      <td>0.121872</td>\n",
       "    </tr>\n",
       "    <tr>\n",
       "      <th>2</th>\n",
       "      <td>C</td>\n",
       "      <td>1312</td>\n",
       "      <td>6308</td>\n",
       "      <td>0.172178</td>\n",
       "    </tr>\n",
       "    <tr>\n",
       "      <th>3</th>\n",
       "      <td>D</td>\n",
       "      <td>1082</td>\n",
       "      <td>3834</td>\n",
       "      <td>0.220098</td>\n",
       "    </tr>\n",
       "    <tr>\n",
       "      <th>4</th>\n",
       "      <td>E</td>\n",
       "      <td>655</td>\n",
       "      <td>1784</td>\n",
       "      <td>0.268553</td>\n",
       "    </tr>\n",
       "    <tr>\n",
       "      <th>5</th>\n",
       "      <td>F</td>\n",
       "      <td>276</td>\n",
       "      <td>595</td>\n",
       "      <td>0.316877</td>\n",
       "    </tr>\n",
       "    <tr>\n",
       "      <th>6</th>\n",
       "      <td>G</td>\n",
       "      <td>88</td>\n",
       "      <td>172</td>\n",
       "      <td>0.338462</td>\n",
       "    </tr>\n",
       "  </tbody>\n",
       "</table>\n",
       "</div>\n",
       "      <button class=\"colab-df-convert\" onclick=\"convertToInteractive('df-4f5ed5d0-f67c-4e28-8b62-a1f9121e1867')\"\n",
       "              title=\"Convert this dataframe to an interactive table.\"\n",
       "              style=\"display:none;\">\n",
       "        \n",
       "  <svg xmlns=\"http://www.w3.org/2000/svg\" height=\"24px\"viewBox=\"0 0 24 24\"\n",
       "       width=\"24px\">\n",
       "    <path d=\"M0 0h24v24H0V0z\" fill=\"none\"/>\n",
       "    <path d=\"M18.56 5.44l.94 2.06.94-2.06 2.06-.94-2.06-.94-.94-2.06-.94 2.06-2.06.94zm-11 1L8.5 8.5l.94-2.06 2.06-.94-2.06-.94L8.5 2.5l-.94 2.06-2.06.94zm10 10l.94 2.06.94-2.06 2.06-.94-2.06-.94-.94-2.06-.94 2.06-2.06.94z\"/><path d=\"M17.41 7.96l-1.37-1.37c-.4-.4-.92-.59-1.43-.59-.52 0-1.04.2-1.43.59L10.3 9.45l-7.72 7.72c-.78.78-.78 2.05 0 2.83L4 21.41c.39.39.9.59 1.41.59.51 0 1.02-.2 1.41-.59l7.78-7.78 2.81-2.81c.8-.78.8-2.07 0-2.86zM5.41 20L4 18.59l7.72-7.72 1.47 1.35L5.41 20z\"/>\n",
       "  </svg>\n",
       "      </button>\n",
       "      \n",
       "  <style>\n",
       "    .colab-df-container {\n",
       "      display:flex;\n",
       "      flex-wrap:wrap;\n",
       "      gap: 12px;\n",
       "    }\n",
       "\n",
       "    .colab-df-convert {\n",
       "      background-color: #E8F0FE;\n",
       "      border: none;\n",
       "      border-radius: 50%;\n",
       "      cursor: pointer;\n",
       "      display: none;\n",
       "      fill: #1967D2;\n",
       "      height: 32px;\n",
       "      padding: 0 0 0 0;\n",
       "      width: 32px;\n",
       "    }\n",
       "\n",
       "    .colab-df-convert:hover {\n",
       "      background-color: #E2EBFA;\n",
       "      box-shadow: 0px 1px 2px rgba(60, 64, 67, 0.3), 0px 1px 3px 1px rgba(60, 64, 67, 0.15);\n",
       "      fill: #174EA6;\n",
       "    }\n",
       "\n",
       "    [theme=dark] .colab-df-convert {\n",
       "      background-color: #3B4455;\n",
       "      fill: #D2E3FC;\n",
       "    }\n",
       "\n",
       "    [theme=dark] .colab-df-convert:hover {\n",
       "      background-color: #434B5C;\n",
       "      box-shadow: 0px 1px 3px 1px rgba(0, 0, 0, 0.15);\n",
       "      filter: drop-shadow(0px 1px 2px rgba(0, 0, 0, 0.3));\n",
       "      fill: #FFFFFF;\n",
       "    }\n",
       "  </style>\n",
       "\n",
       "      <script>\n",
       "        const buttonEl =\n",
       "          document.querySelector('#df-4f5ed5d0-f67c-4e28-8b62-a1f9121e1867 button.colab-df-convert');\n",
       "        buttonEl.style.display =\n",
       "          google.colab.kernel.accessAllowed ? 'block' : 'none';\n",
       "\n",
       "        async function convertToInteractive(key) {\n",
       "          const element = document.querySelector('#df-4f5ed5d0-f67c-4e28-8b62-a1f9121e1867');\n",
       "          const dataTable =\n",
       "            await google.colab.kernel.invokeFunction('convertToInteractive',\n",
       "                                                     [key], {});\n",
       "          if (!dataTable) return;\n",
       "\n",
       "          const docLinkHtml = 'Like what you see? Visit the ' +\n",
       "            '<a target=\"_blank\" href=https://colab.research.google.com/notebooks/data_table.ipynb>data table notebook</a>'\n",
       "            + ' to learn more about interactive tables.';\n",
       "          element.innerHTML = '';\n",
       "          dataTable['output_type'] = 'display_data';\n",
       "          await google.colab.output.renderOutput(dataTable, element);\n",
       "          const docLink = document.createElement('div');\n",
       "          docLink.innerHTML = docLinkHtml;\n",
       "          element.appendChild(docLink);\n",
       "        }\n",
       "      </script>\n",
       "    </div>\n",
       "  </div>\n",
       "  "
      ],
      "text/plain": [
       "loan_status grade  Charged Off  Fully Paid  Charged_off_rate\n",
       "0               A          600        9321          0.060478\n",
       "1               B         1393       10037          0.121872\n",
       "2               C         1312        6308          0.172178\n",
       "3               D         1082        3834          0.220098\n",
       "4               E          655        1784          0.268553\n",
       "5               F          276         595          0.316877\n",
       "6               G           88         172          0.338462"
      ]
     },
     "execution_count": 370,
     "metadata": {},
     "output_type": "execute_result"
    }
   ],
   "source": [
    "#Analysing grade with loan status\n",
    "data7 = data.groupby(by=['grade','loan_status']).loan_status.count().unstack().fillna(0).reset_index()\n",
    "data7['Charged_off_rate'] = data7['Charged Off']/(data7['Charged Off']+data7['Fully Paid'])\n",
    "data7"
   ]
  },
  {
   "cell_type": "code",
   "execution_count": null,
   "metadata": {
    "colab": {
     "base_uri": "https://localhost:8080/",
     "height": 298
    },
    "executionInfo": {
     "elapsed": 33,
     "status": "ok",
     "timestamp": 1670427836165,
     "user": {
      "displayName": "aman maurya",
      "userId": "06203795675099361363"
     },
     "user_tz": -330
    },
    "id": "S_4MddeK5Cq_",
    "outputId": "82d5f776-5056-4c97-daf1-77f1871e1612"
   },
   "outputs": [
    {
     "data": {
      "text/plain": [
       "<matplotlib.axes._subplots.AxesSubplot at 0x7f4fd81bdee0>"
      ]
     },
     "execution_count": 331,
     "metadata": {},
     "output_type": "execute_result"
    },
    {
     "data": {
      "image/png": "[encoded data removed]",
      "text/plain": [
       "<Figure size 432x288 with 1 Axes>"
      ]
     },
     "metadata": {
      "needs_background": "light"
     },
     "output_type": "display_data"
    }
   ],
   "source": [
    "#plotting grade with charged off rate\n",
    "sns.barplot(data=data7,x='grade',y='Charged_off_rate')\n",
    "\n",
    "#Observation\n",
    "#1- As we move from lower grade to higher grade considering A as the lowest grade, the charge off rate increases.\n",
    "#2- Loans with grade G are most likely to charge off."
   ]
  },
  {
   "cell_type": "code",
   "execution_count": null,
   "metadata": {
    "colab": {
     "base_uri": "https://localhost:8080/",
     "height": 1000
    },
    "executionInfo": {
     "elapsed": 700,
     "status": "ok",
     "timestamp": 1670430248959,
     "user": {
      "displayName": "aman maurya",
      "userId": "06203795675099361363"
     },
     "user_tz": -330
    },
    "id": "mxVSAnOX5E7q",
    "outputId": "e7d95e92-ccd4-4b0f-e264-11de7a7e0cf9"
   },
   "outputs": [
    {
     "data": {
      "text/html": [
       "\n",
       "  <div id=\"df-8e5dfae2-a12b-40de-9211-d4ce522a27d3\">\n",
       "    <div class=\"colab-df-container\">\n",
       "      <div>\n",
       "<style scoped>\n",
       "    .dataframe tbody tr th:only-of-type {\n",
       "        vertical-align: middle;\n",
       "    }\n",
       "\n",
       "    .dataframe tbody tr th {\n",
       "        vertical-align: top;\n",
       "    }\n",
       "\n",
       "    .dataframe thead th {\n",
       "        text-align: right;\n",
       "    }\n",
       "</style>\n",
       "<table border=\"1\" class=\"dataframe\">\n",
       "  <thead>\n",
       "    <tr style=\"text-align: right;\">\n",
       "      <th>loan_status</th>\n",
       "      <th>sub_grade</th>\n",
       "      <th>Charged Off</th>\n",
       "      <th>Fully Paid</th>\n",
       "      <th>charged_off_rate</th>\n",
       "    </tr>\n",
       "  </thead>\n",
       "  <tbody>\n",
       "    <tr>\n",
       "      <th>0</th>\n",
       "      <td>A1</td>\n",
       "      <td>30</td>\n",
       "      <td>1102</td>\n",
       "      <td>0.026502</td>\n",
       "    </tr>\n",
       "    <tr>\n",
       "      <th>1</th>\n",
       "      <td>A2</td>\n",
       "      <td>74</td>\n",
       "      <td>1423</td>\n",
       "      <td>0.049432</td>\n",
       "    </tr>\n",
       "    <tr>\n",
       "      <th>2</th>\n",
       "      <td>A3</td>\n",
       "      <td>103</td>\n",
       "      <td>1692</td>\n",
       "      <td>0.057382</td>\n",
       "    </tr>\n",
       "    <tr>\n",
       "      <th>3</th>\n",
       "      <td>A4</td>\n",
       "      <td>177</td>\n",
       "      <td>2652</td>\n",
       "      <td>0.062566</td>\n",
       "    </tr>\n",
       "    <tr>\n",
       "      <th>4</th>\n",
       "      <td>A5</td>\n",
       "      <td>216</td>\n",
       "      <td>2452</td>\n",
       "      <td>0.080960</td>\n",
       "    </tr>\n",
       "    <tr>\n",
       "      <th>5</th>\n",
       "      <td>B1</td>\n",
       "      <td>169</td>\n",
       "      <td>1601</td>\n",
       "      <td>0.095480</td>\n",
       "    </tr>\n",
       "    <tr>\n",
       "      <th>6</th>\n",
       "      <td>B2</td>\n",
       "      <td>223</td>\n",
       "      <td>1744</td>\n",
       "      <td>0.113371</td>\n",
       "    </tr>\n",
       "    <tr>\n",
       "      <th>7</th>\n",
       "      <td>B3</td>\n",
       "      <td>326</td>\n",
       "      <td>2415</td>\n",
       "      <td>0.118935</td>\n",
       "    </tr>\n",
       "    <tr>\n",
       "      <th>8</th>\n",
       "      <td>B4</td>\n",
       "      <td>322</td>\n",
       "      <td>2068</td>\n",
       "      <td>0.134728</td>\n",
       "    </tr>\n",
       "    <tr>\n",
       "      <th>9</th>\n",
       "      <td>B5</td>\n",
       "      <td>353</td>\n",
       "      <td>2209</td>\n",
       "      <td>0.137783</td>\n",
       "    </tr>\n",
       "    <tr>\n",
       "      <th>10</th>\n",
       "      <td>C1</td>\n",
       "      <td>323</td>\n",
       "      <td>1672</td>\n",
       "      <td>0.161905</td>\n",
       "    </tr>\n",
       "    <tr>\n",
       "      <th>11</th>\n",
       "      <td>C2</td>\n",
       "      <td>312</td>\n",
       "      <td>1558</td>\n",
       "      <td>0.166845</td>\n",
       "    </tr>\n",
       "    <tr>\n",
       "      <th>12</th>\n",
       "      <td>C3</td>\n",
       "      <td>264</td>\n",
       "      <td>1189</td>\n",
       "      <td>0.181693</td>\n",
       "    </tr>\n",
       "    <tr>\n",
       "      <th>13</th>\n",
       "      <td>C4</td>\n",
       "      <td>209</td>\n",
       "      <td>981</td>\n",
       "      <td>0.175630</td>\n",
       "    </tr>\n",
       "    <tr>\n",
       "      <th>14</th>\n",
       "      <td>C5</td>\n",
       "      <td>204</td>\n",
       "      <td>908</td>\n",
       "      <td>0.183453</td>\n",
       "    </tr>\n",
       "    <tr>\n",
       "      <th>15</th>\n",
       "      <td>D1</td>\n",
       "      <td>164</td>\n",
       "      <td>749</td>\n",
       "      <td>0.179628</td>\n",
       "    </tr>\n",
       "    <tr>\n",
       "      <th>16</th>\n",
       "      <td>D2</td>\n",
       "      <td>265</td>\n",
       "      <td>990</td>\n",
       "      <td>0.211155</td>\n",
       "    </tr>\n",
       "    <tr>\n",
       "      <th>17</th>\n",
       "      <td>D3</td>\n",
       "      <td>245</td>\n",
       "      <td>826</td>\n",
       "      <td>0.228758</td>\n",
       "    </tr>\n",
       "    <tr>\n",
       "      <th>18</th>\n",
       "      <td>D4</td>\n",
       "      <td>208</td>\n",
       "      <td>672</td>\n",
       "      <td>0.236364</td>\n",
       "    </tr>\n",
       "    <tr>\n",
       "      <th>19</th>\n",
       "      <td>D5</td>\n",
       "      <td>200</td>\n",
       "      <td>597</td>\n",
       "      <td>0.250941</td>\n",
       "    </tr>\n",
       "    <tr>\n",
       "      <th>20</th>\n",
       "      <td>E1</td>\n",
       "      <td>182</td>\n",
       "      <td>491</td>\n",
       "      <td>0.270431</td>\n",
       "    </tr>\n",
       "    <tr>\n",
       "      <th>21</th>\n",
       "      <td>E2</td>\n",
       "      <td>151</td>\n",
       "      <td>422</td>\n",
       "      <td>0.263525</td>\n",
       "    </tr>\n",
       "    <tr>\n",
       "      <th>22</th>\n",
       "      <td>E3</td>\n",
       "      <td>111</td>\n",
       "      <td>357</td>\n",
       "      <td>0.237179</td>\n",
       "    </tr>\n",
       "    <tr>\n",
       "      <th>23</th>\n",
       "      <td>E4</td>\n",
       "      <td>117</td>\n",
       "      <td>273</td>\n",
       "      <td>0.300000</td>\n",
       "    </tr>\n",
       "    <tr>\n",
       "      <th>24</th>\n",
       "      <td>E5</td>\n",
       "      <td>94</td>\n",
       "      <td>241</td>\n",
       "      <td>0.280597</td>\n",
       "    </tr>\n",
       "    <tr>\n",
       "      <th>25</th>\n",
       "      <td>F1</td>\n",
       "      <td>75</td>\n",
       "      <td>195</td>\n",
       "      <td>0.277778</td>\n",
       "    </tr>\n",
       "    <tr>\n",
       "      <th>26</th>\n",
       "      <td>F2</td>\n",
       "      <td>63</td>\n",
       "      <td>153</td>\n",
       "      <td>0.291667</td>\n",
       "    </tr>\n",
       "    <tr>\n",
       "      <th>27</th>\n",
       "      <td>F3</td>\n",
       "      <td>48</td>\n",
       "      <td>106</td>\n",
       "      <td>0.311688</td>\n",
       "    </tr>\n",
       "    <tr>\n",
       "      <th>28</th>\n",
       "      <td>F4</td>\n",
       "      <td>46</td>\n",
       "      <td>91</td>\n",
       "      <td>0.335766</td>\n",
       "    </tr>\n",
       "    <tr>\n",
       "      <th>29</th>\n",
       "      <td>F5</td>\n",
       "      <td>44</td>\n",
       "      <td>50</td>\n",
       "      <td>0.468085</td>\n",
       "    </tr>\n",
       "    <tr>\n",
       "      <th>30</th>\n",
       "      <td>G1</td>\n",
       "      <td>27</td>\n",
       "      <td>53</td>\n",
       "      <td>0.337500</td>\n",
       "    </tr>\n",
       "    <tr>\n",
       "      <th>31</th>\n",
       "      <td>G2</td>\n",
       "      <td>24</td>\n",
       "      <td>43</td>\n",
       "      <td>0.358209</td>\n",
       "    </tr>\n",
       "    <tr>\n",
       "      <th>32</th>\n",
       "      <td>G3</td>\n",
       "      <td>17</td>\n",
       "      <td>21</td>\n",
       "      <td>0.447368</td>\n",
       "    </tr>\n",
       "    <tr>\n",
       "      <th>33</th>\n",
       "      <td>G4</td>\n",
       "      <td>10</td>\n",
       "      <td>38</td>\n",
       "      <td>0.208333</td>\n",
       "    </tr>\n",
       "    <tr>\n",
       "      <th>34</th>\n",
       "      <td>G5</td>\n",
       "      <td>10</td>\n",
       "      <td>17</td>\n",
       "      <td>0.370370</td>\n",
       "    </tr>\n",
       "  </tbody>\n",
       "</table>\n",
       "</div>\n",
       "      <button class=\"colab-df-convert\" onclick=\"convertToInteractive('df-8e5dfae2-a12b-40de-9211-d4ce522a27d3')\"\n",
       "              title=\"Convert this dataframe to an interactive table.\"\n",
       "              style=\"display:none;\">\n",
       "        \n",
       "  <svg xmlns=\"http://www.w3.org/2000/svg\" height=\"24px\"viewBox=\"0 0 24 24\"\n",
       "       width=\"24px\">\n",
       "    <path d=\"M0 0h24v24H0V0z\" fill=\"none\"/>\n",
       "    <path d=\"M18.56 5.44l.94 2.06.94-2.06 2.06-.94-2.06-.94-.94-2.06-.94 2.06-2.06.94zm-11 1L8.5 8.5l.94-2.06 2.06-.94-2.06-.94L8.5 2.5l-.94 2.06-2.06.94zm10 10l.94 2.06.94-2.06 2.06-.94-2.06-.94-.94-2.06-.94 2.06-2.06.94z\"/><path d=\"M17.41 7.96l-1.37-1.37c-.4-.4-.92-.59-1.43-.59-.52 0-1.04.2-1.43.59L10.3 9.45l-7.72 7.72c-.78.78-.78 2.05 0 2.83L4 21.41c.39.39.9.59 1.41.59.51 0 1.02-.2 1.41-.59l7.78-7.78 2.81-2.81c.8-.78.8-2.07 0-2.86zM5.41 20L4 18.59l7.72-7.72 1.47 1.35L5.41 20z\"/>\n",
       "  </svg>\n",
       "      </button>\n",
       "      \n",
       "  <style>\n",
       "    .colab-df-container {\n",
       "      display:flex;\n",
       "      flex-wrap:wrap;\n",
       "      gap: 12px;\n",
       "    }\n",
       "\n",
       "    .colab-df-convert {\n",
       "      background-color: #E8F0FE;\n",
       "      border: none;\n",
       "      border-radius: 50%;\n",
       "      cursor: pointer;\n",
       "      display: none;\n",
       "      fill: #1967D2;\n",
       "      height: 32px;\n",
       "      padding: 0 0 0 0;\n",
       "      width: 32px;\n",
       "    }\n",
       "\n",
       "    .colab-df-convert:hover {\n",
       "      background-color: #E2EBFA;\n",
       "      box-shadow: 0px 1px 2px rgba(60, 64, 67, 0.3), 0px 1px 3px 1px rgba(60, 64, 67, 0.15);\n",
       "      fill: #174EA6;\n",
       "    }\n",
       "\n",
       "    [theme=dark] .colab-df-convert {\n",
       "      background-color: #3B4455;\n",
       "      fill: #D2E3FC;\n",
       "    }\n",
       "\n",
       "    [theme=dark] .colab-df-convert:hover {\n",
       "      background-color: #434B5C;\n",
       "      box-shadow: 0px 1px 3px 1px rgba(0, 0, 0, 0.15);\n",
       "      filter: drop-shadow(0px 1px 2px rgba(0, 0, 0, 0.3));\n",
       "      fill: #FFFFFF;\n",
       "    }\n",
       "  </style>\n",
       "\n",
       "      <script>\n",
       "        const buttonEl =\n",
       "          document.querySelector('#df-8e5dfae2-a12b-40de-9211-d4ce522a27d3 button.colab-df-convert');\n",
       "        buttonEl.style.display =\n",
       "          google.colab.kernel.accessAllowed ? 'block' : 'none';\n",
       "\n",
       "        async function convertToInteractive(key) {\n",
       "          const element = document.querySelector('#df-8e5dfae2-a12b-40de-9211-d4ce522a27d3');\n",
       "          const dataTable =\n",
       "            await google.colab.kernel.invokeFunction('convertToInteractive',\n",
       "                                                     [key], {});\n",
       "          if (!dataTable) return;\n",
       "\n",
       "          const docLinkHtml = 'Like what you see? Visit the ' +\n",
       "            '<a target=\"_blank\" href=https://colab.research.google.com/notebooks/data_table.ipynb>data table notebook</a>'\n",
       "            + ' to learn more about interactive tables.';\n",
       "          element.innerHTML = '';\n",
       "          dataTable['output_type'] = 'display_data';\n",
       "          await google.colab.output.renderOutput(dataTable, element);\n",
       "          const docLink = document.createElement('div');\n",
       "          docLink.innerHTML = docLinkHtml;\n",
       "          element.appendChild(docLink);\n",
       "        }\n",
       "      </script>\n",
       "    </div>\n",
       "  </div>\n",
       "  "
      ],
      "text/plain": [
       "loan_status sub_grade  Charged Off  Fully Paid  charged_off_rate\n",
       "0                  A1           30        1102          0.026502\n",
       "1                  A2           74        1423          0.049432\n",
       "2                  A3          103        1692          0.057382\n",
       "3                  A4          177        2652          0.062566\n",
       "4                  A5          216        2452          0.080960\n",
       "5                  B1          169        1601          0.095480\n",
       "6                  B2          223        1744          0.113371\n",
       "7                  B3          326        2415          0.118935\n",
       "8                  B4          322        2068          0.134728\n",
       "9                  B5          353        2209          0.137783\n",
       "10                 C1          323        1672          0.161905\n",
       "11                 C2          312        1558          0.166845\n",
       "12                 C3          264        1189          0.181693\n",
       "13                 C4          209         981          0.175630\n",
       "14                 C5          204         908          0.183453\n",
       "15                 D1          164         749          0.179628\n",
       "16                 D2          265         990          0.211155\n",
       "17                 D3          245         826          0.228758\n",
       "18                 D4          208         672          0.236364\n",
       "19                 D5          200         597          0.250941\n",
       "20                 E1          182         491          0.270431\n",
       "21                 E2          151         422          0.263525\n",
       "22                 E3          111         357          0.237179\n",
       "23                 E4          117         273          0.300000\n",
       "24                 E5           94         241          0.280597\n",
       "25                 F1           75         195          0.277778\n",
       "26                 F2           63         153          0.291667\n",
       "27                 F3           48         106          0.311688\n",
       "28                 F4           46          91          0.335766\n",
       "29                 F5           44          50          0.468085\n",
       "30                 G1           27          53          0.337500\n",
       "31                 G2           24          43          0.358209\n",
       "32                 G3           17          21          0.447368\n",
       "33                 G4           10          38          0.208333\n",
       "34                 G5           10          17          0.370370"
      ]
     },
     "execution_count": 371,
     "metadata": {},
     "output_type": "execute_result"
    }
   ],
   "source": [
    "#Analysing sub grade with loan status\n",
    "data8 = data.groupby(by=['sub_grade','loan_status']).loan_status.count().unstack().reset_index()\n",
    "data8['charged_off_rate'] = data8['Charged Off']/(data8['Charged Off']+data8['Fully Paid'])\n",
    "data8"
   ]
  },
  {
   "cell_type": "code",
   "execution_count": null,
   "metadata": {
    "colab": {
     "base_uri": "https://localhost:8080/",
     "height": 516
    },
    "executionInfo": {
     "elapsed": 28,
     "status": "ok",
     "timestamp": 1670427836166,
     "user": {
      "displayName": "aman maurya",
      "userId": "06203795675099361363"
     },
     "user_tz": -330
    },
    "id": "OXgdIotQ5Kks",
    "outputId": "b5a78fb3-6b93-40de-a920-1ef63dca3ce7"
   },
   "outputs": [
    {
     "data": {
      "text/plain": [
       "<matplotlib.axes._subplots.AxesSubplot at 0x7f4fd8b6d130>"
      ]
     },
     "execution_count": 333,
     "metadata": {},
     "output_type": "execute_result"
    },
    {
     "data": {
      "image/png": "[encoded data removed]",
      "text/plain": [
       "<Figure size 864x576 with 1 Axes>"
      ]
     },
     "metadata": {
      "needs_background": "light"
     },
     "output_type": "display_data"
    }
   ],
   "source": [
    "#plotting subgrade with charged off rate\n",
    "plt.figure(figsize=(12,8))\n",
    "sns.barplot(data=data8,x='sub_grade',y='charged_off_rate')\n",
    "\n",
    "#Observation\n",
    "#1- Loans with grade from F5 to G5 are most likely to charged off."
   ]
  },
  {
   "cell_type": "code",
   "execution_count": null,
   "metadata": {
    "colab": {
     "base_uri": "https://localhost:8080/",
     "height": 426
    },
    "executionInfo": {
     "elapsed": 562,
     "status": "ok",
     "timestamp": 1670430360890,
     "user": {
      "displayName": "aman maurya",
      "userId": "06203795675099361363"
     },
     "user_tz": -330
    },
    "id": "OUIF6HI95M3P",
    "outputId": "bb4c7e44-f00e-4cfe-d6a7-97ff47f8eae4"
   },
   "outputs": [
    {
     "data": {
      "text/html": [
       "\n",
       "  <div id=\"df-61ea0630-5f89-4dc9-a32d-e84305dadd39\">\n",
       "    <div class=\"colab-df-container\">\n",
       "      <div>\n",
       "<style scoped>\n",
       "    .dataframe tbody tr th:only-of-type {\n",
       "        vertical-align: middle;\n",
       "    }\n",
       "\n",
       "    .dataframe tbody tr th {\n",
       "        vertical-align: top;\n",
       "    }\n",
       "\n",
       "    .dataframe thead th {\n",
       "        text-align: right;\n",
       "    }\n",
       "</style>\n",
       "<table border=\"1\" class=\"dataframe\">\n",
       "  <thead>\n",
       "    <tr style=\"text-align: right;\">\n",
       "      <th>loan_status</th>\n",
       "      <th>emp_length</th>\n",
       "      <th>Charged Off</th>\n",
       "      <th>Fully Paid</th>\n",
       "      <th>Charged_off_rate</th>\n",
       "    </tr>\n",
       "  </thead>\n",
       "  <tbody>\n",
       "    <tr>\n",
       "      <th>0</th>\n",
       "      <td>0 years</td>\n",
       "      <td>221</td>\n",
       "      <td>791</td>\n",
       "      <td>0.218379</td>\n",
       "    </tr>\n",
       "    <tr>\n",
       "      <th>1</th>\n",
       "      <td>1 year</td>\n",
       "      <td>453</td>\n",
       "      <td>2662</td>\n",
       "      <td>0.145425</td>\n",
       "    </tr>\n",
       "    <tr>\n",
       "      <th>2</th>\n",
       "      <td>10+ years</td>\n",
       "      <td>1245</td>\n",
       "      <td>6826</td>\n",
       "      <td>0.154256</td>\n",
       "    </tr>\n",
       "    <tr>\n",
       "      <th>3</th>\n",
       "      <td>2 years</td>\n",
       "      <td>549</td>\n",
       "      <td>3643</td>\n",
       "      <td>0.130964</td>\n",
       "    </tr>\n",
       "    <tr>\n",
       "      <th>4</th>\n",
       "      <td>3 years</td>\n",
       "      <td>534</td>\n",
       "      <td>3383</td>\n",
       "      <td>0.136329</td>\n",
       "    </tr>\n",
       "    <tr>\n",
       "      <th>5</th>\n",
       "      <td>4 years</td>\n",
       "      <td>442</td>\n",
       "      <td>2821</td>\n",
       "      <td>0.135458</td>\n",
       "    </tr>\n",
       "    <tr>\n",
       "      <th>6</th>\n",
       "      <td>5 years</td>\n",
       "      <td>445</td>\n",
       "      <td>2668</td>\n",
       "      <td>0.142949</td>\n",
       "    </tr>\n",
       "    <tr>\n",
       "      <th>7</th>\n",
       "      <td>6 years</td>\n",
       "      <td>296</td>\n",
       "      <td>1817</td>\n",
       "      <td>0.140085</td>\n",
       "    </tr>\n",
       "    <tr>\n",
       "      <th>8</th>\n",
       "      <td>7 years</td>\n",
       "      <td>251</td>\n",
       "      <td>1415</td>\n",
       "      <td>0.150660</td>\n",
       "    </tr>\n",
       "    <tr>\n",
       "      <th>9</th>\n",
       "      <td>8 years</td>\n",
       "      <td>194</td>\n",
       "      <td>1181</td>\n",
       "      <td>0.141091</td>\n",
       "    </tr>\n",
       "    <tr>\n",
       "      <th>10</th>\n",
       "      <td>9 years</td>\n",
       "      <td>156</td>\n",
       "      <td>1044</td>\n",
       "      <td>0.130000</td>\n",
       "    </tr>\n",
       "    <tr>\n",
       "      <th>11</th>\n",
       "      <td>&lt; 1 year</td>\n",
       "      <td>620</td>\n",
       "      <td>3800</td>\n",
       "      <td>0.140271</td>\n",
       "    </tr>\n",
       "  </tbody>\n",
       "</table>\n",
       "</div>\n",
       "      <button class=\"colab-df-convert\" onclick=\"convertToInteractive('df-61ea0630-5f89-4dc9-a32d-e84305dadd39')\"\n",
       "              title=\"Convert this dataframe to an interactive table.\"\n",
       "              style=\"display:none;\">\n",
       "        \n",
       "  <svg xmlns=\"http://www.w3.org/2000/svg\" height=\"24px\"viewBox=\"0 0 24 24\"\n",
       "       width=\"24px\">\n",
       "    <path d=\"M0 0h24v24H0V0z\" fill=\"none\"/>\n",
       "    <path d=\"M18.56 5.44l.94 2.06.94-2.06 2.06-.94-2.06-.94-.94-2.06-.94 2.06-2.06.94zm-11 1L8.5 8.5l.94-2.06 2.06-.94-2.06-.94L8.5 2.5l-.94 2.06-2.06.94zm10 10l.94 2.06.94-2.06 2.06-.94-2.06-.94-.94-2.06-.94 2.06-2.06.94z\"/><path d=\"M17.41 7.96l-1.37-1.37c-.4-.4-.92-.59-1.43-.59-.52 0-1.04.2-1.43.59L10.3 9.45l-7.72 7.72c-.78.78-.78 2.05 0 2.83L4 21.41c.39.39.9.59 1.41.59.51 0 1.02-.2 1.41-.59l7.78-7.78 2.81-2.81c.8-.78.8-2.07 0-2.86zM5.41 20L4 18.59l7.72-7.72 1.47 1.35L5.41 20z\"/>\n",
       "  </svg>\n",
       "      </button>\n",
       "      \n",
       "  <style>\n",
       "    .colab-df-container {\n",
       "      display:flex;\n",
       "      flex-wrap:wrap;\n",
       "      gap: 12px;\n",
       "    }\n",
       "\n",
       "    .colab-df-convert {\n",
       "      background-color: #E8F0FE;\n",
       "      border: none;\n",
       "      border-radius: 50%;\n",
       "      cursor: pointer;\n",
       "      display: none;\n",
       "      fill: #1967D2;\n",
       "      height: 32px;\n",
       "      padding: 0 0 0 0;\n",
       "      width: 32px;\n",
       "    }\n",
       "\n",
       "    .colab-df-convert:hover {\n",
       "      background-color: #E2EBFA;\n",
       "      box-shadow: 0px 1px 2px rgba(60, 64, 67, 0.3), 0px 1px 3px 1px rgba(60, 64, 67, 0.15);\n",
       "      fill: #174EA6;\n",
       "    }\n",
       "\n",
       "    [theme=dark] .colab-df-convert {\n",
       "      background-color: #3B4455;\n",
       "      fill: #D2E3FC;\n",
       "    }\n",
       "\n",
       "    [theme=dark] .colab-df-convert:hover {\n",
       "      background-color: #434B5C;\n",
       "      box-shadow: 0px 1px 3px 1px rgba(0, 0, 0, 0.15);\n",
       "      filter: drop-shadow(0px 1px 2px rgba(0, 0, 0, 0.3));\n",
       "      fill: #FFFFFF;\n",
       "    }\n",
       "  </style>\n",
       "\n",
       "      <script>\n",
       "        const buttonEl =\n",
       "          document.querySelector('#df-61ea0630-5f89-4dc9-a32d-e84305dadd39 button.colab-df-convert');\n",
       "        buttonEl.style.display =\n",
       "          google.colab.kernel.accessAllowed ? 'block' : 'none';\n",
       "\n",
       "        async function convertToInteractive(key) {\n",
       "          const element = document.querySelector('#df-61ea0630-5f89-4dc9-a32d-e84305dadd39');\n",
       "          const dataTable =\n",
       "            await google.colab.kernel.invokeFunction('convertToInteractive',\n",
       "                                                     [key], {});\n",
       "          if (!dataTable) return;\n",
       "\n",
       "          const docLinkHtml = 'Like what you see? Visit the ' +\n",
       "            '<a target=\"_blank\" href=https://colab.research.google.com/notebooks/data_table.ipynb>data table notebook</a>'\n",
       "            + ' to learn more about interactive tables.';\n",
       "          element.innerHTML = '';\n",
       "          dataTable['output_type'] = 'display_data';\n",
       "          await google.colab.output.renderOutput(dataTable, element);\n",
       "          const docLink = document.createElement('div');\n",
       "          docLink.innerHTML = docLinkHtml;\n",
       "          element.appendChild(docLink);\n",
       "        }\n",
       "      </script>\n",
       "    </div>\n",
       "  </div>\n",
       "  "
      ],
      "text/plain": [
       "loan_status emp_length  Charged Off  Fully Paid  Charged_off_rate\n",
       "0              0 years          221         791          0.218379\n",
       "1               1 year          453        2662          0.145425\n",
       "2            10+ years         1245        6826          0.154256\n",
       "3              2 years          549        3643          0.130964\n",
       "4              3 years          534        3383          0.136329\n",
       "5              4 years          442        2821          0.135458\n",
       "6              5 years          445        2668          0.142949\n",
       "7              6 years          296        1817          0.140085\n",
       "8              7 years          251        1415          0.150660\n",
       "9              8 years          194        1181          0.141091\n",
       "10             9 years          156        1044          0.130000\n",
       "11            < 1 year          620        3800          0.140271"
      ]
     },
     "execution_count": 372,
     "metadata": {},
     "output_type": "execute_result"
    }
   ],
   "source": [
    "#Analysing borrowers term of employment to loan status\n",
    "data9 = data.groupby(by=['emp_length','loan_status']).loan_status.count().unstack().reset_index()\n",
    "data9['Charged_off_rate'] = data9['Charged Off']/(data9['Charged Off']+data9['Fully Paid'])\n",
    "data9"
   ]
  },
  {
   "cell_type": "code",
   "execution_count": null,
   "metadata": {
    "colab": {
     "base_uri": "https://localhost:8080/",
     "height": 516
    },
    "executionInfo": {
     "elapsed": 23,
     "status": "ok",
     "timestamp": 1670427836167,
     "user": {
      "displayName": "aman maurya",
      "userId": "06203795675099361363"
     },
     "user_tz": -330
    },
    "id": "SJBpYbcb5TQU",
    "outputId": "0089e093-decd-418b-98bf-7ea9624074a0"
   },
   "outputs": [
    {
     "data": {
      "text/plain": [
       "<matplotlib.axes._subplots.AxesSubplot at 0x7f4fd85afeb0>"
      ]
     },
     "execution_count": 335,
     "metadata": {},
     "output_type": "execute_result"
    },
    {
     "data": {
      "image/png": "[encoded data removed]",
      "text/plain": [
       "<Figure size 864x576 with 1 Axes>"
      ]
     },
     "metadata": {
      "needs_background": "light"
     },
     "output_type": "display_data"
    }
   ],
   "source": [
    "#plotting term of employement with charged off rate\n",
    "plt.figure(figsize=(12,8))\n",
    "sns.barplot(data=data9,x='emp_length',y='Charged_off_rate')\n",
    "\n",
    "#Observation\n",
    "#1- borrowers with Lowest employement term are more likely to charge off."
   ]
  },
  {
   "cell_type": "code",
   "execution_count": null,
   "metadata": {
    "colab": {
     "base_uri": "https://localhost:8080/",
     "height": 1000
    },
    "executionInfo": {
     "elapsed": 875,
     "status": "ok",
     "timestamp": 1670430677340,
     "user": {
      "displayName": "aman maurya",
      "userId": "06203795675099361363"
     },
     "user_tz": -330
    },
    "id": "O2Q9ImwP5Vfl",
    "outputId": "898f0078-e746-404a-c89b-f92ee4a22e0e"
   },
   "outputs": [
    {
     "data": {
      "text/html": [
       "\n",
       "  <div id=\"df-42167316-4707-4896-84fd-6d609c5f7ef6\">\n",
       "    <div class=\"colab-df-container\">\n",
       "      <div>\n",
       "<style scoped>\n",
       "    .dataframe tbody tr th:only-of-type {\n",
       "        vertical-align: middle;\n",
       "    }\n",
       "\n",
       "    .dataframe tbody tr th {\n",
       "        vertical-align: top;\n",
       "    }\n",
       "\n",
       "    .dataframe thead th {\n",
       "        text-align: right;\n",
       "    }\n",
       "</style>\n",
       "<table border=\"1\" class=\"dataframe\">\n",
       "  <thead>\n",
       "    <tr style=\"text-align: right;\">\n",
       "      <th>loan_status</th>\n",
       "      <th>issue_d_year</th>\n",
       "      <th>issue_d_month</th>\n",
       "      <th>Charged Off</th>\n",
       "      <th>Fully Paid</th>\n",
       "      <th>Charged_off_rate</th>\n",
       "      <th>Total</th>\n",
       "    </tr>\n",
       "  </thead>\n",
       "  <tbody>\n",
       "    <tr>\n",
       "      <th>0</th>\n",
       "      <td>2007</td>\n",
       "      <td>6</td>\n",
       "      <td>0.0</td>\n",
       "      <td>1.0</td>\n",
       "      <td>0.000000</td>\n",
       "      <td>1.0</td>\n",
       "    </tr>\n",
       "    <tr>\n",
       "      <th>1</th>\n",
       "      <td>2007</td>\n",
       "      <td>7</td>\n",
       "      <td>0.0</td>\n",
       "      <td>29.0</td>\n",
       "      <td>0.000000</td>\n",
       "      <td>29.0</td>\n",
       "    </tr>\n",
       "    <tr>\n",
       "      <th>2</th>\n",
       "      <td>2007</td>\n",
       "      <td>8</td>\n",
       "      <td>7.0</td>\n",
       "      <td>23.0</td>\n",
       "      <td>0.233333</td>\n",
       "      <td>30.0</td>\n",
       "    </tr>\n",
       "    <tr>\n",
       "      <th>3</th>\n",
       "      <td>2007</td>\n",
       "      <td>9</td>\n",
       "      <td>3.0</td>\n",
       "      <td>14.0</td>\n",
       "      <td>0.176471</td>\n",
       "      <td>17.0</td>\n",
       "    </tr>\n",
       "    <tr>\n",
       "      <th>4</th>\n",
       "      <td>2007</td>\n",
       "      <td>10</td>\n",
       "      <td>10.0</td>\n",
       "      <td>36.0</td>\n",
       "      <td>0.217391</td>\n",
       "      <td>46.0</td>\n",
       "    </tr>\n",
       "    <tr>\n",
       "      <th>5</th>\n",
       "      <td>2007</td>\n",
       "      <td>11</td>\n",
       "      <td>5.0</td>\n",
       "      <td>30.0</td>\n",
       "      <td>0.142857</td>\n",
       "      <td>35.0</td>\n",
       "    </tr>\n",
       "    <tr>\n",
       "      <th>6</th>\n",
       "      <td>2007</td>\n",
       "      <td>12</td>\n",
       "      <td>18.0</td>\n",
       "      <td>67.0</td>\n",
       "      <td>0.211765</td>\n",
       "      <td>85.0</td>\n",
       "    </tr>\n",
       "    <tr>\n",
       "      <th>7</th>\n",
       "      <td>2008</td>\n",
       "      <td>1</td>\n",
       "      <td>31.0</td>\n",
       "      <td>136.0</td>\n",
       "      <td>0.185629</td>\n",
       "      <td>167.0</td>\n",
       "    </tr>\n",
       "    <tr>\n",
       "      <th>8</th>\n",
       "      <td>2008</td>\n",
       "      <td>2</td>\n",
       "      <td>25.0</td>\n",
       "      <td>149.0</td>\n",
       "      <td>0.143678</td>\n",
       "      <td>174.0</td>\n",
       "    </tr>\n",
       "    <tr>\n",
       "      <th>9</th>\n",
       "      <td>2008</td>\n",
       "      <td>3</td>\n",
       "      <td>40.0</td>\n",
       "      <td>194.0</td>\n",
       "      <td>0.170940</td>\n",
       "      <td>234.0</td>\n",
       "    </tr>\n",
       "    <tr>\n",
       "      <th>10</th>\n",
       "      <td>2008</td>\n",
       "      <td>4</td>\n",
       "      <td>27.0</td>\n",
       "      <td>127.0</td>\n",
       "      <td>0.175325</td>\n",
       "      <td>154.0</td>\n",
       "    </tr>\n",
       "    <tr>\n",
       "      <th>11</th>\n",
       "      <td>2008</td>\n",
       "      <td>5</td>\n",
       "      <td>10.0</td>\n",
       "      <td>60.0</td>\n",
       "      <td>0.142857</td>\n",
       "      <td>70.0</td>\n",
       "    </tr>\n",
       "    <tr>\n",
       "      <th>12</th>\n",
       "      <td>2008</td>\n",
       "      <td>6</td>\n",
       "      <td>7.0</td>\n",
       "      <td>59.0</td>\n",
       "      <td>0.106061</td>\n",
       "      <td>66.0</td>\n",
       "    </tr>\n",
       "    <tr>\n",
       "      <th>13</th>\n",
       "      <td>2008</td>\n",
       "      <td>7</td>\n",
       "      <td>17.0</td>\n",
       "      <td>66.0</td>\n",
       "      <td>0.204819</td>\n",
       "      <td>83.0</td>\n",
       "    </tr>\n",
       "    <tr>\n",
       "      <th>14</th>\n",
       "      <td>2008</td>\n",
       "      <td>8</td>\n",
       "      <td>6.0</td>\n",
       "      <td>65.0</td>\n",
       "      <td>0.084507</td>\n",
       "      <td>71.0</td>\n",
       "    </tr>\n",
       "    <tr>\n",
       "      <th>15</th>\n",
       "      <td>2008</td>\n",
       "      <td>9</td>\n",
       "      <td>5.0</td>\n",
       "      <td>25.0</td>\n",
       "      <td>0.166667</td>\n",
       "      <td>30.0</td>\n",
       "    </tr>\n",
       "    <tr>\n",
       "      <th>16</th>\n",
       "      <td>2008</td>\n",
       "      <td>10</td>\n",
       "      <td>14.0</td>\n",
       "      <td>80.0</td>\n",
       "      <td>0.148936</td>\n",
       "      <td>94.0</td>\n",
       "    </tr>\n",
       "    <tr>\n",
       "      <th>17</th>\n",
       "      <td>2008</td>\n",
       "      <td>11</td>\n",
       "      <td>31.0</td>\n",
       "      <td>152.0</td>\n",
       "      <td>0.169399</td>\n",
       "      <td>183.0</td>\n",
       "    </tr>\n",
       "    <tr>\n",
       "      <th>18</th>\n",
       "      <td>2008</td>\n",
       "      <td>12</td>\n",
       "      <td>33.0</td>\n",
       "      <td>189.0</td>\n",
       "      <td>0.148649</td>\n",
       "      <td>222.0</td>\n",
       "    </tr>\n",
       "    <tr>\n",
       "      <th>19</th>\n",
       "      <td>2009</td>\n",
       "      <td>1</td>\n",
       "      <td>28.0</td>\n",
       "      <td>208.0</td>\n",
       "      <td>0.118644</td>\n",
       "      <td>236.0</td>\n",
       "    </tr>\n",
       "    <tr>\n",
       "      <th>20</th>\n",
       "      <td>2009</td>\n",
       "      <td>2</td>\n",
       "      <td>34.0</td>\n",
       "      <td>224.0</td>\n",
       "      <td>0.131783</td>\n",
       "      <td>258.0</td>\n",
       "    </tr>\n",
       "    <tr>\n",
       "      <th>21</th>\n",
       "      <td>2009</td>\n",
       "      <td>3</td>\n",
       "      <td>31.0</td>\n",
       "      <td>245.0</td>\n",
       "      <td>0.112319</td>\n",
       "      <td>276.0</td>\n",
       "    </tr>\n",
       "    <tr>\n",
       "      <th>22</th>\n",
       "      <td>2009</td>\n",
       "      <td>4</td>\n",
       "      <td>39.0</td>\n",
       "      <td>247.0</td>\n",
       "      <td>0.136364</td>\n",
       "      <td>286.0</td>\n",
       "    </tr>\n",
       "    <tr>\n",
       "      <th>23</th>\n",
       "      <td>2009</td>\n",
       "      <td>5</td>\n",
       "      <td>42.0</td>\n",
       "      <td>273.0</td>\n",
       "      <td>0.133333</td>\n",
       "      <td>315.0</td>\n",
       "    </tr>\n",
       "    <tr>\n",
       "      <th>24</th>\n",
       "      <td>2009</td>\n",
       "      <td>6</td>\n",
       "      <td>43.0</td>\n",
       "      <td>307.0</td>\n",
       "      <td>0.122857</td>\n",
       "      <td>350.0</td>\n",
       "    </tr>\n",
       "    <tr>\n",
       "      <th>25</th>\n",
       "      <td>2009</td>\n",
       "      <td>7</td>\n",
       "      <td>45.0</td>\n",
       "      <td>320.0</td>\n",
       "      <td>0.123288</td>\n",
       "      <td>365.0</td>\n",
       "    </tr>\n",
       "    <tr>\n",
       "      <th>26</th>\n",
       "      <td>2009</td>\n",
       "      <td>8</td>\n",
       "      <td>40.0</td>\n",
       "      <td>365.0</td>\n",
       "      <td>0.098765</td>\n",
       "      <td>405.0</td>\n",
       "    </tr>\n",
       "    <tr>\n",
       "      <th>27</th>\n",
       "      <td>2009</td>\n",
       "      <td>9</td>\n",
       "      <td>57.0</td>\n",
       "      <td>386.0</td>\n",
       "      <td>0.128668</td>\n",
       "      <td>443.0</td>\n",
       "    </tr>\n",
       "    <tr>\n",
       "      <th>28</th>\n",
       "      <td>2009</td>\n",
       "      <td>10</td>\n",
       "      <td>85.0</td>\n",
       "      <td>454.0</td>\n",
       "      <td>0.157699</td>\n",
       "      <td>539.0</td>\n",
       "    </tr>\n",
       "    <tr>\n",
       "      <th>29</th>\n",
       "      <td>2009</td>\n",
       "      <td>11</td>\n",
       "      <td>83.0</td>\n",
       "      <td>509.0</td>\n",
       "      <td>0.140203</td>\n",
       "      <td>592.0</td>\n",
       "    </tr>\n",
       "    <tr>\n",
       "      <th>30</th>\n",
       "      <td>2009</td>\n",
       "      <td>12</td>\n",
       "      <td>62.0</td>\n",
       "      <td>525.0</td>\n",
       "      <td>0.105622</td>\n",
       "      <td>587.0</td>\n",
       "    </tr>\n",
       "    <tr>\n",
       "      <th>31</th>\n",
       "      <td>2010</td>\n",
       "      <td>1</td>\n",
       "      <td>72.0</td>\n",
       "      <td>506.0</td>\n",
       "      <td>0.124567</td>\n",
       "      <td>578.0</td>\n",
       "    </tr>\n",
       "    <tr>\n",
       "      <th>32</th>\n",
       "      <td>2010</td>\n",
       "      <td>2</td>\n",
       "      <td>62.0</td>\n",
       "      <td>555.0</td>\n",
       "      <td>0.100486</td>\n",
       "      <td>617.0</td>\n",
       "    </tr>\n",
       "    <tr>\n",
       "      <th>33</th>\n",
       "      <td>2010</td>\n",
       "      <td>3</td>\n",
       "      <td>68.0</td>\n",
       "      <td>651.0</td>\n",
       "      <td>0.094576</td>\n",
       "      <td>719.0</td>\n",
       "    </tr>\n",
       "    <tr>\n",
       "      <th>34</th>\n",
       "      <td>2010</td>\n",
       "      <td>4</td>\n",
       "      <td>81.0</td>\n",
       "      <td>738.0</td>\n",
       "      <td>0.098901</td>\n",
       "      <td>819.0</td>\n",
       "    </tr>\n",
       "    <tr>\n",
       "      <th>35</th>\n",
       "      <td>2010</td>\n",
       "      <td>5</td>\n",
       "      <td>121.0</td>\n",
       "      <td>785.0</td>\n",
       "      <td>0.133554</td>\n",
       "      <td>906.0</td>\n",
       "    </tr>\n",
       "    <tr>\n",
       "      <th>36</th>\n",
       "      <td>2010</td>\n",
       "      <td>6</td>\n",
       "      <td>165.0</td>\n",
       "      <td>853.0</td>\n",
       "      <td>0.162083</td>\n",
       "      <td>1018.0</td>\n",
       "    </tr>\n",
       "    <tr>\n",
       "      <th>37</th>\n",
       "      <td>2010</td>\n",
       "      <td>7</td>\n",
       "      <td>136.0</td>\n",
       "      <td>975.0</td>\n",
       "      <td>0.122412</td>\n",
       "      <td>1111.0</td>\n",
       "    </tr>\n",
       "    <tr>\n",
       "      <th>38</th>\n",
       "      <td>2010</td>\n",
       "      <td>8</td>\n",
       "      <td>147.0</td>\n",
       "      <td>926.0</td>\n",
       "      <td>0.136999</td>\n",
       "      <td>1073.0</td>\n",
       "    </tr>\n",
       "    <tr>\n",
       "      <th>39</th>\n",
       "      <td>2010</td>\n",
       "      <td>9</td>\n",
       "      <td>173.0</td>\n",
       "      <td>898.0</td>\n",
       "      <td>0.161531</td>\n",
       "      <td>1071.0</td>\n",
       "    </tr>\n",
       "    <tr>\n",
       "      <th>40</th>\n",
       "      <td>2010</td>\n",
       "      <td>10</td>\n",
       "      <td>159.0</td>\n",
       "      <td>956.0</td>\n",
       "      <td>0.142601</td>\n",
       "      <td>1115.0</td>\n",
       "    </tr>\n",
       "    <tr>\n",
       "      <th>41</th>\n",
       "      <td>2010</td>\n",
       "      <td>11</td>\n",
       "      <td>141.0</td>\n",
       "      <td>973.0</td>\n",
       "      <td>0.126571</td>\n",
       "      <td>1114.0</td>\n",
       "    </tr>\n",
       "    <tr>\n",
       "      <th>42</th>\n",
       "      <td>2010</td>\n",
       "      <td>12</td>\n",
       "      <td>140.0</td>\n",
       "      <td>1115.0</td>\n",
       "      <td>0.111554</td>\n",
       "      <td>1255.0</td>\n",
       "    </tr>\n",
       "    <tr>\n",
       "      <th>43</th>\n",
       "      <td>2011</td>\n",
       "      <td>1</td>\n",
       "      <td>186.0</td>\n",
       "      <td>1180.0</td>\n",
       "      <td>0.136164</td>\n",
       "      <td>1366.0</td>\n",
       "    </tr>\n",
       "    <tr>\n",
       "      <th>44</th>\n",
       "      <td>2011</td>\n",
       "      <td>2</td>\n",
       "      <td>162.0</td>\n",
       "      <td>1100.0</td>\n",
       "      <td>0.128368</td>\n",
       "      <td>1262.0</td>\n",
       "    </tr>\n",
       "    <tr>\n",
       "      <th>45</th>\n",
       "      <td>2011</td>\n",
       "      <td>3</td>\n",
       "      <td>195.0</td>\n",
       "      <td>1186.0</td>\n",
       "      <td>0.141202</td>\n",
       "      <td>1381.0</td>\n",
       "    </tr>\n",
       "    <tr>\n",
       "      <th>46</th>\n",
       "      <td>2011</td>\n",
       "      <td>4</td>\n",
       "      <td>206.0</td>\n",
       "      <td>1289.0</td>\n",
       "      <td>0.137793</td>\n",
       "      <td>1495.0</td>\n",
       "    </tr>\n",
       "    <tr>\n",
       "      <th>47</th>\n",
       "      <td>2011</td>\n",
       "      <td>5</td>\n",
       "      <td>279.0</td>\n",
       "      <td>1272.0</td>\n",
       "      <td>0.179884</td>\n",
       "      <td>1551.0</td>\n",
       "    </tr>\n",
       "    <tr>\n",
       "      <th>48</th>\n",
       "      <td>2011</td>\n",
       "      <td>6</td>\n",
       "      <td>248.0</td>\n",
       "      <td>1391.0</td>\n",
       "      <td>0.151312</td>\n",
       "      <td>1639.0</td>\n",
       "    </tr>\n",
       "    <tr>\n",
       "      <th>49</th>\n",
       "      <td>2011</td>\n",
       "      <td>7</td>\n",
       "      <td>264.0</td>\n",
       "      <td>1406.0</td>\n",
       "      <td>0.158084</td>\n",
       "      <td>1670.0</td>\n",
       "    </tr>\n",
       "    <tr>\n",
       "      <th>50</th>\n",
       "      <td>2011</td>\n",
       "      <td>8</td>\n",
       "      <td>251.0</td>\n",
       "      <td>1460.0</td>\n",
       "      <td>0.146698</td>\n",
       "      <td>1711.0</td>\n",
       "    </tr>\n",
       "    <tr>\n",
       "      <th>51</th>\n",
       "      <td>2011</td>\n",
       "      <td>9</td>\n",
       "      <td>287.0</td>\n",
       "      <td>1524.0</td>\n",
       "      <td>0.158476</td>\n",
       "      <td>1811.0</td>\n",
       "    </tr>\n",
       "    <tr>\n",
       "      <th>52</th>\n",
       "      <td>2011</td>\n",
       "      <td>10</td>\n",
       "      <td>282.0</td>\n",
       "      <td>1534.0</td>\n",
       "      <td>0.155286</td>\n",
       "      <td>1816.0</td>\n",
       "    </tr>\n",
       "    <tr>\n",
       "      <th>53</th>\n",
       "      <td>2011</td>\n",
       "      <td>11</td>\n",
       "      <td>304.0</td>\n",
       "      <td>1654.0</td>\n",
       "      <td>0.155260</td>\n",
       "      <td>1958.0</td>\n",
       "    </tr>\n",
       "    <tr>\n",
       "      <th>54</th>\n",
       "      <td>2011</td>\n",
       "      <td>12</td>\n",
       "      <td>399.0</td>\n",
       "      <td>1559.0</td>\n",
       "      <td>0.203779</td>\n",
       "      <td>1958.0</td>\n",
       "    </tr>\n",
       "  </tbody>\n",
       "</table>\n",
       "</div>\n",
       "      <button class=\"colab-df-convert\" onclick=\"convertToInteractive('df-42167316-4707-4896-84fd-6d609c5f7ef6')\"\n",
       "              title=\"Convert this dataframe to an interactive table.\"\n",
       "              style=\"display:none;\">\n",
       "        \n",
       "  <svg xmlns=\"http://www.w3.org/2000/svg\" height=\"24px\"viewBox=\"0 0 24 24\"\n",
       "       width=\"24px\">\n",
       "    <path d=\"M0 0h24v24H0V0z\" fill=\"none\"/>\n",
       "    <path d=\"M18.56 5.44l.94 2.06.94-2.06 2.06-.94-2.06-.94-.94-2.06-.94 2.06-2.06.94zm-11 1L8.5 8.5l.94-2.06 2.06-.94-2.06-.94L8.5 2.5l-.94 2.06-2.06.94zm10 10l.94 2.06.94-2.06 2.06-.94-2.06-.94-.94-2.06-.94 2.06-2.06.94z\"/><path d=\"M17.41 7.96l-1.37-1.37c-.4-.4-.92-.59-1.43-.59-.52 0-1.04.2-1.43.59L10.3 9.45l-7.72 7.72c-.78.78-.78 2.05 0 2.83L4 21.41c.39.39.9.59 1.41.59.51 0 1.02-.2 1.41-.59l7.78-7.78 2.81-2.81c.8-.78.8-2.07 0-2.86zM5.41 20L4 18.59l7.72-7.72 1.47 1.35L5.41 20z\"/>\n",
       "  </svg>\n",
       "      </button>\n",
       "      \n",
       "  <style>\n",
       "    .colab-df-container {\n",
       "      display:flex;\n",
       "      flex-wrap:wrap;\n",
       "      gap: 12px;\n",
       "    }\n",
       "\n",
       "    .colab-df-convert {\n",
       "      background-color: #E8F0FE;\n",
       "      border: none;\n",
       "      border-radius: 50%;\n",
       "      cursor: pointer;\n",
       "      display: none;\n",
       "      fill: #1967D2;\n",
       "      height: 32px;\n",
       "      padding: 0 0 0 0;\n",
       "      width: 32px;\n",
       "    }\n",
       "\n",
       "    .colab-df-convert:hover {\n",
       "      background-color: #E2EBFA;\n",
       "      box-shadow: 0px 1px 2px rgba(60, 64, 67, 0.3), 0px 1px 3px 1px rgba(60, 64, 67, 0.15);\n",
       "      fill: #174EA6;\n",
       "    }\n",
       "\n",
       "    [theme=dark] .colab-df-convert {\n",
       "      background-color: #3B4455;\n",
       "      fill: #D2E3FC;\n",
       "    }\n",
       "\n",
       "    [theme=dark] .colab-df-convert:hover {\n",
       "      background-color: #434B5C;\n",
       "      box-shadow: 0px 1px 3px 1px rgba(0, 0, 0, 0.15);\n",
       "      filter: drop-shadow(0px 1px 2px rgba(0, 0, 0, 0.3));\n",
       "      fill: #FFFFFF;\n",
       "    }\n",
       "  </style>\n",
       "\n",
       "      <script>\n",
       "        const buttonEl =\n",
       "          document.querySelector('#df-42167316-4707-4896-84fd-6d609c5f7ef6 button.colab-df-convert');\n",
       "        buttonEl.style.display =\n",
       "          google.colab.kernel.accessAllowed ? 'block' : 'none';\n",
       "\n",
       "        async function convertToInteractive(key) {\n",
       "          const element = document.querySelector('#df-42167316-4707-4896-84fd-6d609c5f7ef6');\n",
       "          const dataTable =\n",
       "            await google.colab.kernel.invokeFunction('convertToInteractive',\n",
       "                                                     [key], {});\n",
       "          if (!dataTable) return;\n",
       "\n",
       "          const docLinkHtml = 'Like what you see? Visit the ' +\n",
       "            '<a target=\"_blank\" href=https://colab.research.google.com/notebooks/data_table.ipynb>data table notebook</a>'\n",
       "            + ' to learn more about interactive tables.';\n",
       "          element.innerHTML = '';\n",
       "          dataTable['output_type'] = 'display_data';\n",
       "          await google.colab.output.renderOutput(dataTable, element);\n",
       "          const docLink = document.createElement('div');\n",
       "          docLink.innerHTML = docLinkHtml;\n",
       "          element.appendChild(docLink);\n",
       "        }\n",
       "      </script>\n",
       "    </div>\n",
       "  </div>\n",
       "  "
      ],
      "text/plain": [
       "loan_status  issue_d_year  issue_d_month  Charged Off  Fully Paid  \\\n",
       "0                    2007              6          0.0         1.0   \n",
       "1                    2007              7          0.0        29.0   \n",
       "2                    2007              8          7.0        23.0   \n",
       "3                    2007              9          3.0        14.0   \n",
       "4                    2007             10         10.0        36.0   \n",
       "5                    2007             11          5.0        30.0   \n",
       "6                    2007             12         18.0        67.0   \n",
       "7                    2008              1         31.0       136.0   \n",
       "8                    2008              2         25.0       149.0   \n",
       "9                    2008              3         40.0       194.0   \n",
       "10                   2008              4         27.0       127.0   \n",
       "11                   2008              5         10.0        60.0   \n",
       "12                   2008              6          7.0        59.0   \n",
       "13                   2008              7         17.0        66.0   \n",
       "14                   2008              8          6.0        65.0   \n",
       "15                   2008              9          5.0        25.0   \n",
       "16                   2008             10         14.0        80.0   \n",
       "17                   2008             11         31.0       152.0   \n",
       "18                   2008             12         33.0       189.0   \n",
       "19                   2009              1         28.0       208.0   \n",
       "20                   2009              2         34.0       224.0   \n",
       "21                   2009              3         31.0       245.0   \n",
       "22                   2009              4         39.0       247.0   \n",
       "23                   2009              5         42.0       273.0   \n",
       "24                   2009              6         43.0       307.0   \n",
       "25                   2009              7         45.0       320.0   \n",
       "26                   2009              8         40.0       365.0   \n",
       "27                   2009              9         57.0       386.0   \n",
       "28                   2009             10         85.0       454.0   \n",
       "29                   2009             11         83.0       509.0   \n",
       "30                   2009             12         62.0       525.0   \n",
       "31                   2010              1         72.0       506.0   \n",
       "32                   2010              2         62.0       555.0   \n",
       "33                   2010              3         68.0       651.0   \n",
       "34                   2010              4         81.0       738.0   \n",
       "35                   2010              5        121.0       785.0   \n",
       "36                   2010              6        165.0       853.0   \n",
       "37                   2010              7        136.0       975.0   \n",
       "38                   2010              8        147.0       926.0   \n",
       "39                   2010              9        173.0       898.0   \n",
       "40                   2010             10        159.0       956.0   \n",
       "41                   2010             11        141.0       973.0   \n",
       "42                   2010             12        140.0      1115.0   \n",
       "43                   2011              1        186.0      1180.0   \n",
       "44                   2011              2        162.0      1100.0   \n",
       "45                   2011              3        195.0      1186.0   \n",
       "46                   2011              4        206.0      1289.0   \n",
       "47                   2011              5        279.0      1272.0   \n",
       "48                   2011              6        248.0      1391.0   \n",
       "49                   2011              7        264.0      1406.0   \n",
       "50                   2011              8        251.0      1460.0   \n",
       "51                   2011              9        287.0      1524.0   \n",
       "52                   2011             10        282.0      1534.0   \n",
       "53                   2011             11        304.0      1654.0   \n",
       "54                   2011             12        399.0      1559.0   \n",
       "\n",
       "loan_status  Charged_off_rate   Total  \n",
       "0                    0.000000     1.0  \n",
       "1                    0.000000    29.0  \n",
       "2                    0.233333    30.0  \n",
       "3                    0.176471    17.0  \n",
       "4                    0.217391    46.0  \n",
       "5                    0.142857    35.0  \n",
       "6                    0.211765    85.0  \n",
       "7                    0.185629   167.0  \n",
       "8                    0.143678   174.0  \n",
       "9                    0.170940   234.0  \n",
       "10                   0.175325   154.0  \n",
       "11                   0.142857    70.0  \n",
       "12                   0.106061    66.0  \n",
       "13                   0.204819    83.0  \n",
       "14                   0.084507    71.0  \n",
       "15                   0.166667    30.0  \n",
       "16                   0.148936    94.0  \n",
       "17                   0.169399   183.0  \n",
       "18                   0.148649   222.0  \n",
       "19                   0.118644   236.0  \n",
       "20                   0.131783   258.0  \n",
       "21                   0.112319   276.0  \n",
       "22                   0.136364   286.0  \n",
       "23                   0.133333   315.0  \n",
       "24                   0.122857   350.0  \n",
       "25                   0.123288   365.0  \n",
       "26                   0.098765   405.0  \n",
       "27                   0.128668   443.0  \n",
       "28                   0.157699   539.0  \n",
       "29                   0.140203   592.0  \n",
       "30                   0.105622   587.0  \n",
       "31                   0.124567   578.0  \n",
       "32                   0.100486   617.0  \n",
       "33                   0.094576   719.0  \n",
       "34                   0.098901   819.0  \n",
       "35                   0.133554   906.0  \n",
       "36                   0.162083  1018.0  \n",
       "37                   0.122412  1111.0  \n",
       "38                   0.136999  1073.0  \n",
       "39                   0.161531  1071.0  \n",
       "40                   0.142601  1115.0  \n",
       "41                   0.126571  1114.0  \n",
       "42                   0.111554  1255.0  \n",
       "43                   0.136164  1366.0  \n",
       "44                   0.128368  1262.0  \n",
       "45                   0.141202  1381.0  \n",
       "46                   0.137793  1495.0  \n",
       "47                   0.179884  1551.0  \n",
       "48                   0.151312  1639.0  \n",
       "49                   0.158084  1670.0  \n",
       "50                   0.146698  1711.0  \n",
       "51                   0.158476  1811.0  \n",
       "52                   0.155286  1816.0  \n",
       "53                   0.155260  1958.0  \n",
       "54                   0.203779  1958.0  "
      ]
     },
     "execution_count": 375,
     "metadata": {},
     "output_type": "execute_result"
    }
   ],
   "source": [
    "#Analysing issue date with loan status\n",
    "data10 = data.groupby(by=['issue_d_year','issue_d_month','loan_status']).loan_status.count().unstack().fillna(0).reset_index()\n",
    "data10['Charged_off_rate'] = data10['Charged Off']/(data10['Charged Off']+data10['Fully Paid'])\n",
    "data10['Total'] = data10['Charged Off']+data10['Fully Paid']\n",
    "data10"
   ]
  },
  {
   "cell_type": "code",
   "execution_count": null,
   "metadata": {
    "colab": {
     "base_uri": "https://localhost:8080/",
     "height": 1000
    },
    "executionInfo": {
     "elapsed": 585,
     "status": "ok",
     "timestamp": 1670430681991,
     "user": {
      "displayName": "aman maurya",
      "userId": "06203795675099361363"
     },
     "user_tz": -330
    },
    "id": "xyQ02m8Z5btb",
    "outputId": "7f00615d-e18f-4579-a87a-624a76202102"
   },
   "outputs": [
    {
     "data": {
      "text/html": [
       "\n",
       "  <div id=\"df-f7de124b-b98c-4160-b330-3eb97dc4483c\">\n",
       "    <div class=\"colab-df-container\">\n",
       "      <div>\n",
       "<style scoped>\n",
       "    .dataframe tbody tr th:only-of-type {\n",
       "        vertical-align: middle;\n",
       "    }\n",
       "\n",
       "    .dataframe tbody tr th {\n",
       "        vertical-align: top;\n",
       "    }\n",
       "\n",
       "    .dataframe thead th {\n",
       "        text-align: right;\n",
       "    }\n",
       "</style>\n",
       "<table border=\"1\" class=\"dataframe\">\n",
       "  <thead>\n",
       "    <tr style=\"text-align: right;\">\n",
       "      <th>loan_status</th>\n",
       "      <th>issue_d_year</th>\n",
       "      <th>issue_d_month</th>\n",
       "      <th>Charged Off</th>\n",
       "      <th>Fully Paid</th>\n",
       "      <th>Charged_off_rate</th>\n",
       "      <th>Total</th>\n",
       "    </tr>\n",
       "  </thead>\n",
       "  <tbody>\n",
       "    <tr>\n",
       "      <th>2</th>\n",
       "      <td>2007</td>\n",
       "      <td>8</td>\n",
       "      <td>7.0</td>\n",
       "      <td>23.0</td>\n",
       "      <td>0.233333</td>\n",
       "      <td>30.0</td>\n",
       "    </tr>\n",
       "    <tr>\n",
       "      <th>4</th>\n",
       "      <td>2007</td>\n",
       "      <td>10</td>\n",
       "      <td>10.0</td>\n",
       "      <td>36.0</td>\n",
       "      <td>0.217391</td>\n",
       "      <td>46.0</td>\n",
       "    </tr>\n",
       "    <tr>\n",
       "      <th>6</th>\n",
       "      <td>2007</td>\n",
       "      <td>12</td>\n",
       "      <td>18.0</td>\n",
       "      <td>67.0</td>\n",
       "      <td>0.211765</td>\n",
       "      <td>85.0</td>\n",
       "    </tr>\n",
       "    <tr>\n",
       "      <th>13</th>\n",
       "      <td>2008</td>\n",
       "      <td>7</td>\n",
       "      <td>17.0</td>\n",
       "      <td>66.0</td>\n",
       "      <td>0.204819</td>\n",
       "      <td>83.0</td>\n",
       "    </tr>\n",
       "    <tr>\n",
       "      <th>54</th>\n",
       "      <td>2011</td>\n",
       "      <td>12</td>\n",
       "      <td>399.0</td>\n",
       "      <td>1559.0</td>\n",
       "      <td>0.203779</td>\n",
       "      <td>1958.0</td>\n",
       "    </tr>\n",
       "    <tr>\n",
       "      <th>7</th>\n",
       "      <td>2008</td>\n",
       "      <td>1</td>\n",
       "      <td>31.0</td>\n",
       "      <td>136.0</td>\n",
       "      <td>0.185629</td>\n",
       "      <td>167.0</td>\n",
       "    </tr>\n",
       "    <tr>\n",
       "      <th>47</th>\n",
       "      <td>2011</td>\n",
       "      <td>5</td>\n",
       "      <td>279.0</td>\n",
       "      <td>1272.0</td>\n",
       "      <td>0.179884</td>\n",
       "      <td>1551.0</td>\n",
       "    </tr>\n",
       "    <tr>\n",
       "      <th>3</th>\n",
       "      <td>2007</td>\n",
       "      <td>9</td>\n",
       "      <td>3.0</td>\n",
       "      <td>14.0</td>\n",
       "      <td>0.176471</td>\n",
       "      <td>17.0</td>\n",
       "    </tr>\n",
       "    <tr>\n",
       "      <th>10</th>\n",
       "      <td>2008</td>\n",
       "      <td>4</td>\n",
       "      <td>27.0</td>\n",
       "      <td>127.0</td>\n",
       "      <td>0.175325</td>\n",
       "      <td>154.0</td>\n",
       "    </tr>\n",
       "    <tr>\n",
       "      <th>9</th>\n",
       "      <td>2008</td>\n",
       "      <td>3</td>\n",
       "      <td>40.0</td>\n",
       "      <td>194.0</td>\n",
       "      <td>0.170940</td>\n",
       "      <td>234.0</td>\n",
       "    </tr>\n",
       "    <tr>\n",
       "      <th>17</th>\n",
       "      <td>2008</td>\n",
       "      <td>11</td>\n",
       "      <td>31.0</td>\n",
       "      <td>152.0</td>\n",
       "      <td>0.169399</td>\n",
       "      <td>183.0</td>\n",
       "    </tr>\n",
       "    <tr>\n",
       "      <th>15</th>\n",
       "      <td>2008</td>\n",
       "      <td>9</td>\n",
       "      <td>5.0</td>\n",
       "      <td>25.0</td>\n",
       "      <td>0.166667</td>\n",
       "      <td>30.0</td>\n",
       "    </tr>\n",
       "    <tr>\n",
       "      <th>36</th>\n",
       "      <td>2010</td>\n",
       "      <td>6</td>\n",
       "      <td>165.0</td>\n",
       "      <td>853.0</td>\n",
       "      <td>0.162083</td>\n",
       "      <td>1018.0</td>\n",
       "    </tr>\n",
       "    <tr>\n",
       "      <th>39</th>\n",
       "      <td>2010</td>\n",
       "      <td>9</td>\n",
       "      <td>173.0</td>\n",
       "      <td>898.0</td>\n",
       "      <td>0.161531</td>\n",
       "      <td>1071.0</td>\n",
       "    </tr>\n",
       "    <tr>\n",
       "      <th>51</th>\n",
       "      <td>2011</td>\n",
       "      <td>9</td>\n",
       "      <td>287.0</td>\n",
       "      <td>1524.0</td>\n",
       "      <td>0.158476</td>\n",
       "      <td>1811.0</td>\n",
       "    </tr>\n",
       "    <tr>\n",
       "      <th>49</th>\n",
       "      <td>2011</td>\n",
       "      <td>7</td>\n",
       "      <td>264.0</td>\n",
       "      <td>1406.0</td>\n",
       "      <td>0.158084</td>\n",
       "      <td>1670.0</td>\n",
       "    </tr>\n",
       "    <tr>\n",
       "      <th>28</th>\n",
       "      <td>2009</td>\n",
       "      <td>10</td>\n",
       "      <td>85.0</td>\n",
       "      <td>454.0</td>\n",
       "      <td>0.157699</td>\n",
       "      <td>539.0</td>\n",
       "    </tr>\n",
       "    <tr>\n",
       "      <th>52</th>\n",
       "      <td>2011</td>\n",
       "      <td>10</td>\n",
       "      <td>282.0</td>\n",
       "      <td>1534.0</td>\n",
       "      <td>0.155286</td>\n",
       "      <td>1816.0</td>\n",
       "    </tr>\n",
       "    <tr>\n",
       "      <th>53</th>\n",
       "      <td>2011</td>\n",
       "      <td>11</td>\n",
       "      <td>304.0</td>\n",
       "      <td>1654.0</td>\n",
       "      <td>0.155260</td>\n",
       "      <td>1958.0</td>\n",
       "    </tr>\n",
       "    <tr>\n",
       "      <th>48</th>\n",
       "      <td>2011</td>\n",
       "      <td>6</td>\n",
       "      <td>248.0</td>\n",
       "      <td>1391.0</td>\n",
       "      <td>0.151312</td>\n",
       "      <td>1639.0</td>\n",
       "    </tr>\n",
       "    <tr>\n",
       "      <th>16</th>\n",
       "      <td>2008</td>\n",
       "      <td>10</td>\n",
       "      <td>14.0</td>\n",
       "      <td>80.0</td>\n",
       "      <td>0.148936</td>\n",
       "      <td>94.0</td>\n",
       "    </tr>\n",
       "    <tr>\n",
       "      <th>18</th>\n",
       "      <td>2008</td>\n",
       "      <td>12</td>\n",
       "      <td>33.0</td>\n",
       "      <td>189.0</td>\n",
       "      <td>0.148649</td>\n",
       "      <td>222.0</td>\n",
       "    </tr>\n",
       "    <tr>\n",
       "      <th>50</th>\n",
       "      <td>2011</td>\n",
       "      <td>8</td>\n",
       "      <td>251.0</td>\n",
       "      <td>1460.0</td>\n",
       "      <td>0.146698</td>\n",
       "      <td>1711.0</td>\n",
       "    </tr>\n",
       "    <tr>\n",
       "      <th>8</th>\n",
       "      <td>2008</td>\n",
       "      <td>2</td>\n",
       "      <td>25.0</td>\n",
       "      <td>149.0</td>\n",
       "      <td>0.143678</td>\n",
       "      <td>174.0</td>\n",
       "    </tr>\n",
       "    <tr>\n",
       "      <th>11</th>\n",
       "      <td>2008</td>\n",
       "      <td>5</td>\n",
       "      <td>10.0</td>\n",
       "      <td>60.0</td>\n",
       "      <td>0.142857</td>\n",
       "      <td>70.0</td>\n",
       "    </tr>\n",
       "    <tr>\n",
       "      <th>5</th>\n",
       "      <td>2007</td>\n",
       "      <td>11</td>\n",
       "      <td>5.0</td>\n",
       "      <td>30.0</td>\n",
       "      <td>0.142857</td>\n",
       "      <td>35.0</td>\n",
       "    </tr>\n",
       "    <tr>\n",
       "      <th>40</th>\n",
       "      <td>2010</td>\n",
       "      <td>10</td>\n",
       "      <td>159.0</td>\n",
       "      <td>956.0</td>\n",
       "      <td>0.142601</td>\n",
       "      <td>1115.0</td>\n",
       "    </tr>\n",
       "    <tr>\n",
       "      <th>45</th>\n",
       "      <td>2011</td>\n",
       "      <td>3</td>\n",
       "      <td>195.0</td>\n",
       "      <td>1186.0</td>\n",
       "      <td>0.141202</td>\n",
       "      <td>1381.0</td>\n",
       "    </tr>\n",
       "    <tr>\n",
       "      <th>29</th>\n",
       "      <td>2009</td>\n",
       "      <td>11</td>\n",
       "      <td>83.0</td>\n",
       "      <td>509.0</td>\n",
       "      <td>0.140203</td>\n",
       "      <td>592.0</td>\n",
       "    </tr>\n",
       "    <tr>\n",
       "      <th>46</th>\n",
       "      <td>2011</td>\n",
       "      <td>4</td>\n",
       "      <td>206.0</td>\n",
       "      <td>1289.0</td>\n",
       "      <td>0.137793</td>\n",
       "      <td>1495.0</td>\n",
       "    </tr>\n",
       "    <tr>\n",
       "      <th>38</th>\n",
       "      <td>2010</td>\n",
       "      <td>8</td>\n",
       "      <td>147.0</td>\n",
       "      <td>926.0</td>\n",
       "      <td>0.136999</td>\n",
       "      <td>1073.0</td>\n",
       "    </tr>\n",
       "    <tr>\n",
       "      <th>22</th>\n",
       "      <td>2009</td>\n",
       "      <td>4</td>\n",
       "      <td>39.0</td>\n",
       "      <td>247.0</td>\n",
       "      <td>0.136364</td>\n",
       "      <td>286.0</td>\n",
       "    </tr>\n",
       "    <tr>\n",
       "      <th>43</th>\n",
       "      <td>2011</td>\n",
       "      <td>1</td>\n",
       "      <td>186.0</td>\n",
       "      <td>1180.0</td>\n",
       "      <td>0.136164</td>\n",
       "      <td>1366.0</td>\n",
       "    </tr>\n",
       "    <tr>\n",
       "      <th>35</th>\n",
       "      <td>2010</td>\n",
       "      <td>5</td>\n",
       "      <td>121.0</td>\n",
       "      <td>785.0</td>\n",
       "      <td>0.133554</td>\n",
       "      <td>906.0</td>\n",
       "    </tr>\n",
       "    <tr>\n",
       "      <th>23</th>\n",
       "      <td>2009</td>\n",
       "      <td>5</td>\n",
       "      <td>42.0</td>\n",
       "      <td>273.0</td>\n",
       "      <td>0.133333</td>\n",
       "      <td>315.0</td>\n",
       "    </tr>\n",
       "    <tr>\n",
       "      <th>20</th>\n",
       "      <td>2009</td>\n",
       "      <td>2</td>\n",
       "      <td>34.0</td>\n",
       "      <td>224.0</td>\n",
       "      <td>0.131783</td>\n",
       "      <td>258.0</td>\n",
       "    </tr>\n",
       "    <tr>\n",
       "      <th>27</th>\n",
       "      <td>2009</td>\n",
       "      <td>9</td>\n",
       "      <td>57.0</td>\n",
       "      <td>386.0</td>\n",
       "      <td>0.128668</td>\n",
       "      <td>443.0</td>\n",
       "    </tr>\n",
       "    <tr>\n",
       "      <th>44</th>\n",
       "      <td>2011</td>\n",
       "      <td>2</td>\n",
       "      <td>162.0</td>\n",
       "      <td>1100.0</td>\n",
       "      <td>0.128368</td>\n",
       "      <td>1262.0</td>\n",
       "    </tr>\n",
       "    <tr>\n",
       "      <th>41</th>\n",
       "      <td>2010</td>\n",
       "      <td>11</td>\n",
       "      <td>141.0</td>\n",
       "      <td>973.0</td>\n",
       "      <td>0.126571</td>\n",
       "      <td>1114.0</td>\n",
       "    </tr>\n",
       "    <tr>\n",
       "      <th>31</th>\n",
       "      <td>2010</td>\n",
       "      <td>1</td>\n",
       "      <td>72.0</td>\n",
       "      <td>506.0</td>\n",
       "      <td>0.124567</td>\n",
       "      <td>578.0</td>\n",
       "    </tr>\n",
       "    <tr>\n",
       "      <th>25</th>\n",
       "      <td>2009</td>\n",
       "      <td>7</td>\n",
       "      <td>45.0</td>\n",
       "      <td>320.0</td>\n",
       "      <td>0.123288</td>\n",
       "      <td>365.0</td>\n",
       "    </tr>\n",
       "    <tr>\n",
       "      <th>24</th>\n",
       "      <td>2009</td>\n",
       "      <td>6</td>\n",
       "      <td>43.0</td>\n",
       "      <td>307.0</td>\n",
       "      <td>0.122857</td>\n",
       "      <td>350.0</td>\n",
       "    </tr>\n",
       "    <tr>\n",
       "      <th>37</th>\n",
       "      <td>2010</td>\n",
       "      <td>7</td>\n",
       "      <td>136.0</td>\n",
       "      <td>975.0</td>\n",
       "      <td>0.122412</td>\n",
       "      <td>1111.0</td>\n",
       "    </tr>\n",
       "    <tr>\n",
       "      <th>19</th>\n",
       "      <td>2009</td>\n",
       "      <td>1</td>\n",
       "      <td>28.0</td>\n",
       "      <td>208.0</td>\n",
       "      <td>0.118644</td>\n",
       "      <td>236.0</td>\n",
       "    </tr>\n",
       "    <tr>\n",
       "      <th>21</th>\n",
       "      <td>2009</td>\n",
       "      <td>3</td>\n",
       "      <td>31.0</td>\n",
       "      <td>245.0</td>\n",
       "      <td>0.112319</td>\n",
       "      <td>276.0</td>\n",
       "    </tr>\n",
       "    <tr>\n",
       "      <th>42</th>\n",
       "      <td>2010</td>\n",
       "      <td>12</td>\n",
       "      <td>140.0</td>\n",
       "      <td>1115.0</td>\n",
       "      <td>0.111554</td>\n",
       "      <td>1255.0</td>\n",
       "    </tr>\n",
       "    <tr>\n",
       "      <th>12</th>\n",
       "      <td>2008</td>\n",
       "      <td>6</td>\n",
       "      <td>7.0</td>\n",
       "      <td>59.0</td>\n",
       "      <td>0.106061</td>\n",
       "      <td>66.0</td>\n",
       "    </tr>\n",
       "    <tr>\n",
       "      <th>30</th>\n",
       "      <td>2009</td>\n",
       "      <td>12</td>\n",
       "      <td>62.0</td>\n",
       "      <td>525.0</td>\n",
       "      <td>0.105622</td>\n",
       "      <td>587.0</td>\n",
       "    </tr>\n",
       "    <tr>\n",
       "      <th>32</th>\n",
       "      <td>2010</td>\n",
       "      <td>2</td>\n",
       "      <td>62.0</td>\n",
       "      <td>555.0</td>\n",
       "      <td>0.100486</td>\n",
       "      <td>617.0</td>\n",
       "    </tr>\n",
       "    <tr>\n",
       "      <th>34</th>\n",
       "      <td>2010</td>\n",
       "      <td>4</td>\n",
       "      <td>81.0</td>\n",
       "      <td>738.0</td>\n",
       "      <td>0.098901</td>\n",
       "      <td>819.0</td>\n",
       "    </tr>\n",
       "    <tr>\n",
       "      <th>26</th>\n",
       "      <td>2009</td>\n",
       "      <td>8</td>\n",
       "      <td>40.0</td>\n",
       "      <td>365.0</td>\n",
       "      <td>0.098765</td>\n",
       "      <td>405.0</td>\n",
       "    </tr>\n",
       "    <tr>\n",
       "      <th>33</th>\n",
       "      <td>2010</td>\n",
       "      <td>3</td>\n",
       "      <td>68.0</td>\n",
       "      <td>651.0</td>\n",
       "      <td>0.094576</td>\n",
       "      <td>719.0</td>\n",
       "    </tr>\n",
       "    <tr>\n",
       "      <th>14</th>\n",
       "      <td>2008</td>\n",
       "      <td>8</td>\n",
       "      <td>6.0</td>\n",
       "      <td>65.0</td>\n",
       "      <td>0.084507</td>\n",
       "      <td>71.0</td>\n",
       "    </tr>\n",
       "    <tr>\n",
       "      <th>1</th>\n",
       "      <td>2007</td>\n",
       "      <td>7</td>\n",
       "      <td>0.0</td>\n",
       "      <td>29.0</td>\n",
       "      <td>0.000000</td>\n",
       "      <td>29.0</td>\n",
       "    </tr>\n",
       "    <tr>\n",
       "      <th>0</th>\n",
       "      <td>2007</td>\n",
       "      <td>6</td>\n",
       "      <td>0.0</td>\n",
       "      <td>1.0</td>\n",
       "      <td>0.000000</td>\n",
       "      <td>1.0</td>\n",
       "    </tr>\n",
       "  </tbody>\n",
       "</table>\n",
       "</div>\n",
       "      <button class=\"colab-df-convert\" onclick=\"convertToInteractive('df-f7de124b-b98c-4160-b330-3eb97dc4483c')\"\n",
       "              title=\"Convert this dataframe to an interactive table.\"\n",
       "              style=\"display:none;\">\n",
       "        \n",
       "  <svg xmlns=\"http://www.w3.org/2000/svg\" height=\"24px\"viewBox=\"0 0 24 24\"\n",
       "       width=\"24px\">\n",
       "    <path d=\"M0 0h24v24H0V0z\" fill=\"none\"/>\n",
       "    <path d=\"M18.56 5.44l.94 2.06.94-2.06 2.06-.94-2.06-.94-.94-2.06-.94 2.06-2.06.94zm-11 1L8.5 8.5l.94-2.06 2.06-.94-2.06-.94L8.5 2.5l-.94 2.06-2.06.94zm10 10l.94 2.06.94-2.06 2.06-.94-2.06-.94-.94-2.06-.94 2.06-2.06.94z\"/><path d=\"M17.41 7.96l-1.37-1.37c-.4-.4-.92-.59-1.43-.59-.52 0-1.04.2-1.43.59L10.3 9.45l-7.72 7.72c-.78.78-.78 2.05 0 2.83L4 21.41c.39.39.9.59 1.41.59.51 0 1.02-.2 1.41-.59l7.78-7.78 2.81-2.81c.8-.78.8-2.07 0-2.86zM5.41 20L4 18.59l7.72-7.72 1.47 1.35L5.41 20z\"/>\n",
       "  </svg>\n",
       "      </button>\n",
       "      \n",
       "  <style>\n",
       "    .colab-df-container {\n",
       "      display:flex;\n",
       "      flex-wrap:wrap;\n",
       "      gap: 12px;\n",
       "    }\n",
       "\n",
       "    .colab-df-convert {\n",
       "      background-color: #E8F0FE;\n",
       "      border: none;\n",
       "      border-radius: 50%;\n",
       "      cursor: pointer;\n",
       "      display: none;\n",
       "      fill: #1967D2;\n",
       "      height: 32px;\n",
       "      padding: 0 0 0 0;\n",
       "      width: 32px;\n",
       "    }\n",
       "\n",
       "    .colab-df-convert:hover {\n",
       "      background-color: #E2EBFA;\n",
       "      box-shadow: 0px 1px 2px rgba(60, 64, 67, 0.3), 0px 1px 3px 1px rgba(60, 64, 67, 0.15);\n",
       "      fill: #174EA6;\n",
       "    }\n",
       "\n",
       "    [theme=dark] .colab-df-convert {\n",
       "      background-color: #3B4455;\n",
       "      fill: #D2E3FC;\n",
       "    }\n",
       "\n",
       "    [theme=dark] .colab-df-convert:hover {\n",
       "      background-color: #434B5C;\n",
       "      box-shadow: 0px 1px 3px 1px rgba(0, 0, 0, 0.15);\n",
       "      filter: drop-shadow(0px 1px 2px rgba(0, 0, 0, 0.3));\n",
       "      fill: #FFFFFF;\n",
       "    }\n",
       "  </style>\n",
       "\n",
       "      <script>\n",
       "        const buttonEl =\n",
       "          document.querySelector('#df-f7de124b-b98c-4160-b330-3eb97dc4483c button.colab-df-convert');\n",
       "        buttonEl.style.display =\n",
       "          google.colab.kernel.accessAllowed ? 'block' : 'none';\n",
       "\n",
       "        async function convertToInteractive(key) {\n",
       "          const element = document.querySelector('#df-f7de124b-b98c-4160-b330-3eb97dc4483c');\n",
       "          const dataTable =\n",
       "            await google.colab.kernel.invokeFunction('convertToInteractive',\n",
       "                                                     [key], {});\n",
       "          if (!dataTable) return;\n",
       "\n",
       "          const docLinkHtml = 'Like what you see? Visit the ' +\n",
       "            '<a target=\"_blank\" href=https://colab.research.google.com/notebooks/data_table.ipynb>data table notebook</a>'\n",
       "            + ' to learn more about interactive tables.';\n",
       "          element.innerHTML = '';\n",
       "          dataTable['output_type'] = 'display_data';\n",
       "          await google.colab.output.renderOutput(dataTable, element);\n",
       "          const docLink = document.createElement('div');\n",
       "          docLink.innerHTML = docLinkHtml;\n",
       "          element.appendChild(docLink);\n",
       "        }\n",
       "      </script>\n",
       "    </div>\n",
       "  </div>\n",
       "  "
      ],
      "text/plain": [
       "loan_status  issue_d_year  issue_d_month  Charged Off  Fully Paid  \\\n",
       "2                    2007              8          7.0        23.0   \n",
       "4                    2007             10         10.0        36.0   \n",
       "6                    2007             12         18.0        67.0   \n",
       "13                   2008              7         17.0        66.0   \n",
       "54                   2011             12        399.0      1559.0   \n",
       "7                    2008              1         31.0       136.0   \n",
       "47                   2011              5        279.0      1272.0   \n",
       "3                    2007              9          3.0        14.0   \n",
       "10                   2008              4         27.0       127.0   \n",
       "9                    2008              3         40.0       194.0   \n",
       "17                   2008             11         31.0       152.0   \n",
       "15                   2008              9          5.0        25.0   \n",
       "36                   2010              6        165.0       853.0   \n",
       "39                   2010              9        173.0       898.0   \n",
       "51                   2011              9        287.0      1524.0   \n",
       "49                   2011              7        264.0      1406.0   \n",
       "28                   2009             10         85.0       454.0   \n",
       "52                   2011             10        282.0      1534.0   \n",
       "53                   2011             11        304.0      1654.0   \n",
       "48                   2011              6        248.0      1391.0   \n",
       "16                   2008             10         14.0        80.0   \n",
       "18                   2008             12         33.0       189.0   \n",
       "50                   2011              8        251.0      1460.0   \n",
       "8                    2008              2         25.0       149.0   \n",
       "11                   2008              5         10.0        60.0   \n",
       "5                    2007             11          5.0        30.0   \n",
       "40                   2010             10        159.0       956.0   \n",
       "45                   2011              3        195.0      1186.0   \n",
       "29                   2009             11         83.0       509.0   \n",
       "46                   2011              4        206.0      1289.0   \n",
       "38                   2010              8        147.0       926.0   \n",
       "22                   2009              4         39.0       247.0   \n",
       "43                   2011              1        186.0      1180.0   \n",
       "35                   2010              5        121.0       785.0   \n",
       "23                   2009              5         42.0       273.0   \n",
       "20                   2009              2         34.0       224.0   \n",
       "27                   2009              9         57.0       386.0   \n",
       "44                   2011              2        162.0      1100.0   \n",
       "41                   2010             11        141.0       973.0   \n",
       "31                   2010              1         72.0       506.0   \n",
       "25                   2009              7         45.0       320.0   \n",
       "24                   2009              6         43.0       307.0   \n",
       "37                   2010              7        136.0       975.0   \n",
       "19                   2009              1         28.0       208.0   \n",
       "21                   2009              3         31.0       245.0   \n",
       "42                   2010             12        140.0      1115.0   \n",
       "12                   2008              6          7.0        59.0   \n",
       "30                   2009             12         62.0       525.0   \n",
       "32                   2010              2         62.0       555.0   \n",
       "34                   2010              4         81.0       738.0   \n",
       "26                   2009              8         40.0       365.0   \n",
       "33                   2010              3         68.0       651.0   \n",
       "14                   2008              8          6.0        65.0   \n",
       "1                    2007              7          0.0        29.0   \n",
       "0                    2007              6          0.0         1.0   \n",
       "\n",
       "loan_status  Charged_off_rate   Total  \n",
       "2                    0.233333    30.0  \n",
       "4                    0.217391    46.0  \n",
       "6                    0.211765    85.0  \n",
       "13                   0.204819    83.0  \n",
       "54                   0.203779  1958.0  \n",
       "7                    0.185629   167.0  \n",
       "47                   0.179884  1551.0  \n",
       "3                    0.176471    17.0  \n",
       "10                   0.175325   154.0  \n",
       "9                    0.170940   234.0  \n",
       "17                   0.169399   183.0  \n",
       "15                   0.166667    30.0  \n",
       "36                   0.162083  1018.0  \n",
       "39                   0.161531  1071.0  \n",
       "51                   0.158476  1811.0  \n",
       "49                   0.158084  1670.0  \n",
       "28                   0.157699   539.0  \n",
       "52                   0.155286  1816.0  \n",
       "53                   0.155260  1958.0  \n",
       "48                   0.151312  1639.0  \n",
       "16                   0.148936    94.0  \n",
       "18                   0.148649   222.0  \n",
       "50                   0.146698  1711.0  \n",
       "8                    0.143678   174.0  \n",
       "11                   0.142857    70.0  \n",
       "5                    0.142857    35.0  \n",
       "40                   0.142601  1115.0  \n",
       "45                   0.141202  1381.0  \n",
       "29                   0.140203   592.0  \n",
       "46                   0.137793  1495.0  \n",
       "38                   0.136999  1073.0  \n",
       "22                   0.136364   286.0  \n",
       "43                   0.136164  1366.0  \n",
       "35                   0.133554   906.0  \n",
       "23                   0.133333   315.0  \n",
       "20                   0.131783   258.0  \n",
       "27                   0.128668   443.0  \n",
       "44                   0.128368  1262.0  \n",
       "41                   0.126571  1114.0  \n",
       "31                   0.124567   578.0  \n",
       "25                   0.123288   365.0  \n",
       "24                   0.122857   350.0  \n",
       "37                   0.122412  1111.0  \n",
       "19                   0.118644   236.0  \n",
       "21                   0.112319   276.0  \n",
       "42                   0.111554  1255.0  \n",
       "12                   0.106061    66.0  \n",
       "30                   0.105622   587.0  \n",
       "32                   0.100486   617.0  \n",
       "34                   0.098901   819.0  \n",
       "26                   0.098765   405.0  \n",
       "33                   0.094576   719.0  \n",
       "14                   0.084507    71.0  \n",
       "1                    0.000000    29.0  \n",
       "0                    0.000000     1.0  "
      ]
     },
     "execution_count": 376,
     "metadata": {},
     "output_type": "execute_result"
    }
   ],
   "source": [
    "#sorting values with respect to charged off rate so we can find which year and month loas are most likely to charge off.\n",
    "data10.sort_values(['Charged_off_rate'],ascending=False)\n",
    "\n",
    "#Observation\n",
    "#1- Loans issued in august 2007 are mostly charged off."
   ]
  },
  {
   "cell_type": "code",
   "execution_count": null,
   "metadata": {
    "colab": {
     "base_uri": "https://localhost:8080/",
     "height": 298
    },
    "executionInfo": {
     "elapsed": 1023,
     "status": "ok",
     "timestamp": 1670427837173,
     "user": {
      "displayName": "aman maurya",
      "userId": "06203795675099361363"
     },
     "user_tz": -330
    },
    "id": "piqRhxAc5kZg",
    "outputId": "a6b28eec-eb5f-4e0a-baec-5e35516de99e"
   },
   "outputs": [
    {
     "data": {
      "text/plain": [
       "<matplotlib.axes._subplots.AxesSubplot at 0x7f4fd9e55550>"
      ]
     },
     "execution_count": 338,
     "metadata": {},
     "output_type": "execute_result"
    },
    {
     "data": {
      "image/png": "[encoded data removed]",
      "text/plain": [
       "<Figure size 432x288 with 1 Axes>"
      ]
     },
     "metadata": {
      "needs_background": "light"
     },
     "output_type": "display_data"
    }
   ],
   "source": [
    "#plotting issue date year with \n",
    "sns.barplot(data=data10,x='issue_d_year',y='Charged_off_rate')\n",
    "\n",
    "#Observation\n",
    "#1- The loans in year 2008 and 2011 are most likely to charge off. But no clear indication of getting charged off."
   ]
  },
  {
   "cell_type": "code",
   "execution_count": null,
   "metadata": {
    "colab": {
     "base_uri": "https://localhost:8080/",
     "height": 269
    },
    "executionInfo": {
     "elapsed": 396,
     "status": "ok",
     "timestamp": 1670430590361,
     "user": {
      "displayName": "aman maurya",
      "userId": "06203795675099361363"
     },
     "user_tz": -330
    },
    "id": "cTjne9m85zTT",
    "outputId": "59ce0efc-06da-4c6c-dedc-012bddfadcdd"
   },
   "outputs": [
    {
     "data": {
      "text/html": [
       "\n",
       "  <div id=\"df-d205473e-83d6-4afb-bc37-64d7a4b86a66\">\n",
       "    <div class=\"colab-df-container\">\n",
       "      <div>\n",
       "<style scoped>\n",
       "    .dataframe tbody tr th:only-of-type {\n",
       "        vertical-align: middle;\n",
       "    }\n",
       "\n",
       "    .dataframe tbody tr th {\n",
       "        vertical-align: top;\n",
       "    }\n",
       "\n",
       "    .dataframe thead th {\n",
       "        text-align: right;\n",
       "    }\n",
       "</style>\n",
       "<table border=\"1\" class=\"dataframe\">\n",
       "  <thead>\n",
       "    <tr style=\"text-align: right;\">\n",
       "      <th>loan_status</th>\n",
       "      <th>binned_annual_inc</th>\n",
       "      <th>Charged Off</th>\n",
       "      <th>Fully Paid</th>\n",
       "      <th>Charged_off_rate</th>\n",
       "    </tr>\n",
       "  </thead>\n",
       "  <tbody>\n",
       "    <tr>\n",
       "      <th>0</th>\n",
       "      <td>&lt;100000</td>\n",
       "      <td>516</td>\n",
       "      <td>3968</td>\n",
       "      <td>0.115076</td>\n",
       "    </tr>\n",
       "    <tr>\n",
       "      <th>1</th>\n",
       "      <td>&lt;120000</td>\n",
       "      <td>214</td>\n",
       "      <td>2009</td>\n",
       "      <td>0.096266</td>\n",
       "    </tr>\n",
       "    <tr>\n",
       "      <th>2</th>\n",
       "      <td>&lt;20000</td>\n",
       "      <td>227</td>\n",
       "      <td>831</td>\n",
       "      <td>0.214556</td>\n",
       "    </tr>\n",
       "    <tr>\n",
       "      <th>3</th>\n",
       "      <td>&lt;40000</td>\n",
       "      <td>1368</td>\n",
       "      <td>6416</td>\n",
       "      <td>0.175745</td>\n",
       "    </tr>\n",
       "    <tr>\n",
       "      <th>4</th>\n",
       "      <td>&lt;60000</td>\n",
       "      <td>1619</td>\n",
       "      <td>9011</td>\n",
       "      <td>0.152305</td>\n",
       "    </tr>\n",
       "    <tr>\n",
       "      <th>5</th>\n",
       "      <td>&lt;80000</td>\n",
       "      <td>1145</td>\n",
       "      <td>7178</td>\n",
       "      <td>0.137571</td>\n",
       "    </tr>\n",
       "    <tr>\n",
       "      <th>6</th>\n",
       "      <td>&gt;=120000</td>\n",
       "      <td>317</td>\n",
       "      <td>2638</td>\n",
       "      <td>0.107276</td>\n",
       "    </tr>\n",
       "  </tbody>\n",
       "</table>\n",
       "</div>\n",
       "      <button class=\"colab-df-convert\" onclick=\"convertToInteractive('df-d205473e-83d6-4afb-bc37-64d7a4b86a66')\"\n",
       "              title=\"Convert this dataframe to an interactive table.\"\n",
       "              style=\"display:none;\">\n",
       "        \n",
       "  <svg xmlns=\"http://www.w3.org/2000/svg\" height=\"24px\"viewBox=\"0 0 24 24\"\n",
       "       width=\"24px\">\n",
       "    <path d=\"M0 0h24v24H0V0z\" fill=\"none\"/>\n",
       "    <path d=\"M18.56 5.44l.94 2.06.94-2.06 2.06-.94-2.06-.94-.94-2.06-.94 2.06-2.06.94zm-11 1L8.5 8.5l.94-2.06 2.06-.94-2.06-.94L8.5 2.5l-.94 2.06-2.06.94zm10 10l.94 2.06.94-2.06 2.06-.94-2.06-.94-.94-2.06-.94 2.06-2.06.94z\"/><path d=\"M17.41 7.96l-1.37-1.37c-.4-.4-.92-.59-1.43-.59-.52 0-1.04.2-1.43.59L10.3 9.45l-7.72 7.72c-.78.78-.78 2.05 0 2.83L4 21.41c.39.39.9.59 1.41.59.51 0 1.02-.2 1.41-.59l7.78-7.78 2.81-2.81c.8-.78.8-2.07 0-2.86zM5.41 20L4 18.59l7.72-7.72 1.47 1.35L5.41 20z\"/>\n",
       "  </svg>\n",
       "      </button>\n",
       "      \n",
       "  <style>\n",
       "    .colab-df-container {\n",
       "      display:flex;\n",
       "      flex-wrap:wrap;\n",
       "      gap: 12px;\n",
       "    }\n",
       "\n",
       "    .colab-df-convert {\n",
       "      background-color: #E8F0FE;\n",
       "      border: none;\n",
       "      border-radius: 50%;\n",
       "      cursor: pointer;\n",
       "      display: none;\n",
       "      fill: #1967D2;\n",
       "      height: 32px;\n",
       "      padding: 0 0 0 0;\n",
       "      width: 32px;\n",
       "    }\n",
       "\n",
       "    .colab-df-convert:hover {\n",
       "      background-color: #E2EBFA;\n",
       "      box-shadow: 0px 1px 2px rgba(60, 64, 67, 0.3), 0px 1px 3px 1px rgba(60, 64, 67, 0.15);\n",
       "      fill: #174EA6;\n",
       "    }\n",
       "\n",
       "    [theme=dark] .colab-df-convert {\n",
       "      background-color: #3B4455;\n",
       "      fill: #D2E3FC;\n",
       "    }\n",
       "\n",
       "    [theme=dark] .colab-df-convert:hover {\n",
       "      background-color: #434B5C;\n",
       "      box-shadow: 0px 1px 3px 1px rgba(0, 0, 0, 0.15);\n",
       "      filter: drop-shadow(0px 1px 2px rgba(0, 0, 0, 0.3));\n",
       "      fill: #FFFFFF;\n",
       "    }\n",
       "  </style>\n",
       "\n",
       "      <script>\n",
       "        const buttonEl =\n",
       "          document.querySelector('#df-d205473e-83d6-4afb-bc37-64d7a4b86a66 button.colab-df-convert');\n",
       "        buttonEl.style.display =\n",
       "          google.colab.kernel.accessAllowed ? 'block' : 'none';\n",
       "\n",
       "        async function convertToInteractive(key) {\n",
       "          const element = document.querySelector('#df-d205473e-83d6-4afb-bc37-64d7a4b86a66');\n",
       "          const dataTable =\n",
       "            await google.colab.kernel.invokeFunction('convertToInteractive',\n",
       "                                                     [key], {});\n",
       "          if (!dataTable) return;\n",
       "\n",
       "          const docLinkHtml = 'Like what you see? Visit the ' +\n",
       "            '<a target=\"_blank\" href=https://colab.research.google.com/notebooks/data_table.ipynb>data table notebook</a>'\n",
       "            + ' to learn more about interactive tables.';\n",
       "          element.innerHTML = '';\n",
       "          dataTable['output_type'] = 'display_data';\n",
       "          await google.colab.output.renderOutput(dataTable, element);\n",
       "          const docLink = document.createElement('div');\n",
       "          docLink.innerHTML = docLinkHtml;\n",
       "          element.appendChild(docLink);\n",
       "        }\n",
       "      </script>\n",
       "    </div>\n",
       "  </div>\n",
       "  "
      ],
      "text/plain": [
       "loan_status binned_annual_inc  Charged Off  Fully Paid  Charged_off_rate\n",
       "0                     <100000          516        3968          0.115076\n",
       "1                     <120000          214        2009          0.096266\n",
       "2                      <20000          227         831          0.214556\n",
       "3                      <40000         1368        6416          0.175745\n",
       "4                      <60000         1619        9011          0.152305\n",
       "5                      <80000         1145        7178          0.137571\n",
       "6                    >=120000          317        2638          0.107276"
      ]
     },
     "execution_count": 374,
     "metadata": {},
     "output_type": "execute_result"
    }
   ],
   "source": [
    "#Analysing annaual income with loan status\n",
    "data11 = data.groupby(by=['binned_annual_inc','loan_status']).loan_status.count().unstack().fillna(0).reset_index()\n",
    "data11['Charged_off_rate'] = data11['Charged Off']/(data11['Charged Off']+data11['Fully Paid'])\n",
    "data11"
   ]
  },
  {
   "cell_type": "code",
   "execution_count": null,
   "metadata": {
    "colab": {
     "base_uri": "https://localhost:8080/",
     "height": 298
    },
    "executionInfo": {
     "elapsed": 26,
     "status": "ok",
     "timestamp": 1670427837175,
     "user": {
      "displayName": "aman maurya",
      "userId": "06203795675099361363"
     },
     "user_tz": -330
    },
    "id": "IMzfRMiB6Jwg",
    "outputId": "b71d78da-29e8-4a58-ab69-d4ae6a176aac"
   },
   "outputs": [
    {
     "data": {
      "text/plain": [
       "<matplotlib.axes._subplots.AxesSubplot at 0x7f4fda0bc970>"
      ]
     },
     "execution_count": 341,
     "metadata": {},
     "output_type": "execute_result"
    },
    {
     "data": {
      "image/png": "[encoded data removed]",
      "text/plain": [
       "<Figure size 432x288 with 1 Axes>"
      ]
     },
     "metadata": {
      "needs_background": "light"
     },
     "output_type": "display_data"
    }
   ],
   "source": [
    "#plotting annual income with charged off rate\n",
    "sns.barplot(data=data11,x='binned_annual_inc',y='Charged_off_rate')\n",
    "\n",
    "#Observation\n",
    "#1- Borrowers with low annual income are more likely to charge off."
   ]
  },
  {
   "cell_type": "code",
   "execution_count": null,
   "metadata": {
    "id": "sQT_xSSo6gAT"
   },
   "outputs": [],
   "source": []
  },
  {
   "cell_type": "markdown",
   "metadata": {
    "id": "8QUsLI5DdxiJ"
   },
   "source": [
    "## Conclusion"
   ]
  },
  {
   "cell_type": "markdown",
   "metadata": {
    "id": "fAXB16X5d0g2"
   },
   "source": [
    "The variables deciding the loan to be charged off are:"
   ]
  },
  {
   "cell_type": "markdown",
   "metadata": {
    "id": "6tlpYEdzd-ay"
   },
   "source": [
    "\n",
    "\n",
    "1.   Term of repayment\n",
    "2.   Purpose\n",
    "\n",
    "\n",
    "\n",
    "3.   Home Ownership\n",
    "4.   Grade and subgrade\n",
    "\n",
    "\n",
    "\n",
    "5.   Interest Rate\n",
    "6.   Annual Income\n",
    "\n",
    "\n",
    "\n",
    "7.   Verification Status\n",
    "\n",
    "1.   Term of employement\n",
    "\n",
    "\n",
    "\n",
    "\n",
    "\n",
    "\n",
    "\n",
    "\n"
   ]
  },
  {
   "cell_type": "markdown",
   "metadata": {
    "id": "Pf8LYvl2fZNK"
   },
   "source": [
    "Hence are the driving metrics for the analysis."
   ]
  },
  {
   "cell_type": "markdown",
   "metadata": {
    "id": "D-bq_HNkf-LE"
   },
   "source": [
    "### Note:"
   ]
  },
  {
   "cell_type": "markdown",
   "metadata": {
    "id": "L9tCs6rcfmvW"
   },
   "source": [
    "While Analysing the address state with loan tatus, the value counts are not same for each state hence there is a bias. "
   ]
  },
  {
   "cell_type": "markdown",
   "metadata": {
    "id": "p7CTcaSWf0cO"
   },
   "source": [
    "We extrated 5 states from where most of the loans were applied and analysed on that basis."
   ]
  },
  {
   "cell_type": "markdown",
   "metadata": {
    "id": "lW4tpCpTj6yo"
   },
   "source": [
    "Similar is done with home ownership"
   ]
  },
  {
   "cell_type": "markdown",
   "metadata": {
    "id": "tqoW9PEUkQNF"
   },
   "source": [
    "## Recommendation"
   ]
  },
  {
   "cell_type": "markdown",
   "metadata": {
    "id": "m2RHTnQ1kUJy"
   },
   "source": [
    "Analyse with respect to the predicting variables to reduce the count of charged off loans. "
   ]
  },
  {
   "cell_type": "code",
   "execution_count": null,
   "metadata": {
    "id": "Ze6Vcs9fd9tj"
   },
   "outputs": [],
   "source": []
  }
 ],
 "metadata": {
  "colab": {
   "authorship_tag": "ABX9TyNXU2P4ALZPbG2JGZRV7VS7",
   "mount_file_id": "1xluF6MsNurlcfUON8vaTdafw4QReY2Zn",
   "provenance": []
  },
  "kernelspec": {
   "display_name": "Python 3 (ipykernel)",
   "language": "python",
   "name": "python3"
  },
  "language_info": {
   "codemirror_mode": {
    "name": "ipython",
    "version": 3
   },
   "file_extension": ".py",
   "mimetype": "text/x-python",
   "name": "python",
   "nbconvert_exporter": "python",
   "pygments_lexer": "ipython3",
   "version": "3.9.13"
  }
 },
 "nbformat": 4,
 "nbformat_minor": 1
}
